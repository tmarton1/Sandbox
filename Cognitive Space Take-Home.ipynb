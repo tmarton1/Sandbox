{
 "cells": [
  {
   "cell_type": "code",
   "execution_count": 27,
   "id": "6275aec8",
   "metadata": {},
   "outputs": [],
   "source": [
    "import numpy as np\n",
    "import scipy as sp\n",
    "import random\n",
    "from collections import Counter\n",
    "import copy\n",
    "import sigfig"
   ]
  },
  {
   "cell_type": "markdown",
   "id": "4d55c8e9",
   "metadata": {},
   "source": [
    "# Problem 1"
   ]
  },
  {
   "cell_type": "markdown",
   "id": "341117b6",
   "metadata": {},
   "source": [
    "With Object Oriented Programming in mind, create the following simulation environment in python:\n",
    "\n",
    "A 100x100 grid world with 10 randomly placed pieces of food. Note that food cannot share the same coordinate.\n",
    "An ant class that randomly moves up, down, left, or right at each time step. If an ant tries to step beyond the bounds of the box, it does nothing. Note that food is consumed if an ant shares the same coordinate as the food. Ants can share the same coordinate. Ants starting locations should be random.\n",
    "Run 1000 simulations with 100 ants, each for 100-time steps. Report the mean and standard deviation of the total food eaten. Feel free to use any Python packages as needed."
   ]
  },
  {
   "cell_type": "code",
   "execution_count": 2,
   "id": "19a76547",
   "metadata": {},
   "outputs": [],
   "source": [
    "#prevent moves\n",
    "def lim(x,x_min,x_max):\n",
    "    return min(max(x,x_min),x_max)\n",
    "\n",
    "class Ant:\n",
    "    \n",
    "    def __init__(self,grid):\n",
    "        self.position=(random.randint(0,(grid.x_range-1)),random.randint(0,(grid.y_range-1)))\n",
    "        \n",
    "    def move(self,grid):\n",
    "        movement=np.array(random.choice([[-1,0],[1,0],[0,1],[0,-1]]))\n",
    "        position=np.array(self.position)+movement\n",
    "        self.position=(lim(position[0],0,(grid.x_range-1)), lim(position[1],0,(grid.y_range-1)))\n",
    "        \n",
    "\n",
    "class Grid:\n",
    "    \n",
    "    def __init__(self,x_range,y_range):\n",
    "        self.x_range=x_range\n",
    "        self.y_range=y_range\n",
    "        self.locations=[(x,y) for x in list(range(0,self.x_range)) for y in list(range(0,self.y_range))]\n",
    "        self.has_food={location:False for location in self.locations}\n",
    "        self.food_count=0\n",
    "        \n",
    "    def update_food_count(self):\n",
    "        self.food_count=np.array(list(self.has_food.values())).sum()\n",
    "        \n",
    "    def drop_food(self,pieces_of_food):\n",
    "        locations=random.sample(self.locations, k=pieces_of_food)\n",
    "        for location in locations:\n",
    "            self.has_food[location]=True\n",
    "        self.update_food_count()\n",
    "            \n",
    "    def ants_eat(self,colony):\n",
    "        for ant in colony:\n",
    "            self.has_food[ant.position]=False\n",
    "        self.update_food_count()\n",
    "        \n",
    "        \n",
    "class Colony:\n",
    "    \n",
    "    def __init__(self,grid,size):\n",
    "        self.grid=grid\n",
    "        self.size=size\n",
    "        self.members=[Ant(self.grid) for i in range(0,self.size)]\n",
    "        \n",
    "    def move(self):\n",
    "        [ant.move(grid=self.grid) for ant in self.members]\n",
    "\n",
    "        \n",
    "        \n",
    "class Simulation:\n",
    "    \n",
    "    def __init__(self,x_range,y_range,pieces_of_food,colony_size):\n",
    "        self.starting_food=pieces_of_food\n",
    "        self.food_eaten=0\n",
    "        self.grid=Grid(x_range=x_range,y_range=y_range)\n",
    "        self.grid.drop_food(pieces_of_food=pieces_of_food)\n",
    "        self.colony=Colony(self.grid,size=colony_size)\n",
    "        self.food_count_record=[pieces_of_food]\n",
    "        self.colony_record=[x.position for x in self.colony.members]\n",
    "        \n",
    "    def update_food_eaten(self):\n",
    "        self.food_eaten=self.starting_food-self.grid.food_count\n",
    "        \n",
    "    def run(self,timesteps):\n",
    "        for i in range(timesteps):\n",
    "            self.food_count_record+=[self.grid.food_count]\n",
    "            self.grid.ants_eat(colony=self.colony.members)\n",
    "            self.colony.move()\n",
    "        self.update_food_eaten()\n",
    "        "
   ]
  },
  {
   "cell_type": "code",
   "execution_count": 3,
   "id": "7364a143",
   "metadata": {},
   "outputs": [],
   "source": [
    "simulated_food_eaten=[]\n",
    "simulation_stats=[]\n",
    "\n",
    "for i in range(1000):\n",
    "    simulation=Simulation(x_range=100,y_range=100,pieces_of_food=10,colony_size=100)\n",
    "    simulation.run(timesteps=100)\n",
    "    simulated_food_eaten+=[simulation.food_eaten]\n",
    "\n",
    "simulation_stats+=[{'mean': round(np.array(simulated_food_eaten).mean(),2),\\\n",
    "    'std': round(np.array(simulated_food_eaten).std(),2)}]"
   ]
  },
  {
   "cell_type": "code",
   "execution_count": 4,
   "id": "a9ba419d",
   "metadata": {},
   "outputs": [
    {
     "data": {
      "text/plain": [
       "[{'mean': 3.85, 'std': 1.53}]"
      ]
     },
     "execution_count": 4,
     "metadata": {},
     "output_type": "execute_result"
    }
   ],
   "source": [
    "simulation_stats"
   ]
  },
  {
   "cell_type": "markdown",
   "id": "536ad055",
   "metadata": {},
   "source": [
    "# Problem 2"
   ]
  },
  {
   "cell_type": "markdown",
   "id": "8365f9a4",
   "metadata": {},
   "source": [
    "Using Python and the pandas package write a Jupyter notebook to process the following cereal data, and, based on the US Governments Dietary Guidelines’ Executive Summary, recommend 5 cereals that meet those guidelines.\n",
    "\n",
    " \n",
    "\n",
    "Plot at least 3 data visualizations to help communicate your recommendations. Feel free to use common Python packages such as numpy as needed.\n",
    "\n",
    " \n",
    "\n",
    "Briefly explain your thought process for processing the data and determining the recommended cereals in the comments.\n",
    "\n",
    "Cereal Data: https://www.kaggle.com/crawford/80-cereals\n",
    "Dietary Guidelines: https://www.dietaryguidelines.gov/resources/2020-2025-dietary-guidelines-online-materials/top-10-things-you-need-know-about-dietary"
   ]
  },
  {
   "cell_type": "code",
   "execution_count": 28,
   "id": "e4c9b91f",
   "metadata": {},
   "outputs": [
    {
     "data": {
      "text/html": [
       "\n",
       "    <div class=\"bk-root\">\n",
       "        <a href=\"https://bokeh.org\" target=\"_blank\" class=\"bk-logo bk-logo-small bk-logo-notebook\"></a>\n",
       "        <span id=\"2513\">Loading BokehJS ...</span>\n",
       "    </div>"
      ]
     },
     "metadata": {},
     "output_type": "display_data"
    },
    {
     "data": {
      "application/javascript": [
       "\n",
       "(function(root) {\n",
       "  function now() {\n",
       "    return new Date();\n",
       "  }\n",
       "\n",
       "  const force = true;\n",
       "\n",
       "  if (typeof root._bokeh_onload_callbacks === \"undefined\" || force === true) {\n",
       "    root._bokeh_onload_callbacks = [];\n",
       "    root._bokeh_is_loading = undefined;\n",
       "  }\n",
       "\n",
       "  const JS_MIME_TYPE = 'application/javascript';\n",
       "  const HTML_MIME_TYPE = 'text/html';\n",
       "  const EXEC_MIME_TYPE = 'application/vnd.bokehjs_exec.v0+json';\n",
       "  const CLASS_NAME = 'output_bokeh rendered_html';\n",
       "\n",
       "  /**\n",
       "   * Render data to the DOM node\n",
       "   */\n",
       "  function render(props, node) {\n",
       "    const script = document.createElement(\"script\");\n",
       "    node.appendChild(script);\n",
       "  }\n",
       "\n",
       "  /**\n",
       "   * Handle when an output is cleared or removed\n",
       "   */\n",
       "  function handleClearOutput(event, handle) {\n",
       "    const cell = handle.cell;\n",
       "\n",
       "    const id = cell.output_area._bokeh_element_id;\n",
       "    const server_id = cell.output_area._bokeh_server_id;\n",
       "    // Clean up Bokeh references\n",
       "    if (id != null && id in Bokeh.index) {\n",
       "      Bokeh.index[id].model.document.clear();\n",
       "      delete Bokeh.index[id];\n",
       "    }\n",
       "\n",
       "    if (server_id !== undefined) {\n",
       "      // Clean up Bokeh references\n",
       "      const cmd_clean = \"from bokeh.io.state import curstate; print(curstate().uuid_to_server['\" + server_id + \"'].get_sessions()[0].document.roots[0]._id)\";\n",
       "      cell.notebook.kernel.execute(cmd_clean, {\n",
       "        iopub: {\n",
       "          output: function(msg) {\n",
       "            const id = msg.content.text.trim();\n",
       "            if (id in Bokeh.index) {\n",
       "              Bokeh.index[id].model.document.clear();\n",
       "              delete Bokeh.index[id];\n",
       "            }\n",
       "          }\n",
       "        }\n",
       "      });\n",
       "      // Destroy server and session\n",
       "      const cmd_destroy = \"import bokeh.io.notebook as ion; ion.destroy_server('\" + server_id + \"')\";\n",
       "      cell.notebook.kernel.execute(cmd_destroy);\n",
       "    }\n",
       "  }\n",
       "\n",
       "  /**\n",
       "   * Handle when a new output is added\n",
       "   */\n",
       "  function handleAddOutput(event, handle) {\n",
       "    const output_area = handle.output_area;\n",
       "    const output = handle.output;\n",
       "\n",
       "    // limit handleAddOutput to display_data with EXEC_MIME_TYPE content only\n",
       "    if ((output.output_type != \"display_data\") || (!Object.prototype.hasOwnProperty.call(output.data, EXEC_MIME_TYPE))) {\n",
       "      return\n",
       "    }\n",
       "\n",
       "    const toinsert = output_area.element.find(\".\" + CLASS_NAME.split(' ')[0]);\n",
       "\n",
       "    if (output.metadata[EXEC_MIME_TYPE][\"id\"] !== undefined) {\n",
       "      toinsert[toinsert.length - 1].firstChild.textContent = output.data[JS_MIME_TYPE];\n",
       "      // store reference to embed id on output_area\n",
       "      output_area._bokeh_element_id = output.metadata[EXEC_MIME_TYPE][\"id\"];\n",
       "    }\n",
       "    if (output.metadata[EXEC_MIME_TYPE][\"server_id\"] !== undefined) {\n",
       "      const bk_div = document.createElement(\"div\");\n",
       "      bk_div.innerHTML = output.data[HTML_MIME_TYPE];\n",
       "      const script_attrs = bk_div.children[0].attributes;\n",
       "      for (let i = 0; i < script_attrs.length; i++) {\n",
       "        toinsert[toinsert.length - 1].firstChild.setAttribute(script_attrs[i].name, script_attrs[i].value);\n",
       "        toinsert[toinsert.length - 1].firstChild.textContent = bk_div.children[0].textContent\n",
       "      }\n",
       "      // store reference to server id on output_area\n",
       "      output_area._bokeh_server_id = output.metadata[EXEC_MIME_TYPE][\"server_id\"];\n",
       "    }\n",
       "  }\n",
       "\n",
       "  function register_renderer(events, OutputArea) {\n",
       "\n",
       "    function append_mime(data, metadata, element) {\n",
       "      // create a DOM node to render to\n",
       "      const toinsert = this.create_output_subarea(\n",
       "        metadata,\n",
       "        CLASS_NAME,\n",
       "        EXEC_MIME_TYPE\n",
       "      );\n",
       "      this.keyboard_manager.register_events(toinsert);\n",
       "      // Render to node\n",
       "      const props = {data: data, metadata: metadata[EXEC_MIME_TYPE]};\n",
       "      render(props, toinsert[toinsert.length - 1]);\n",
       "      element.append(toinsert);\n",
       "      return toinsert\n",
       "    }\n",
       "\n",
       "    /* Handle when an output is cleared or removed */\n",
       "    events.on('clear_output.CodeCell', handleClearOutput);\n",
       "    events.on('delete.Cell', handleClearOutput);\n",
       "\n",
       "    /* Handle when a new output is added */\n",
       "    events.on('output_added.OutputArea', handleAddOutput);\n",
       "\n",
       "    /**\n",
       "     * Register the mime type and append_mime function with output_area\n",
       "     */\n",
       "    OutputArea.prototype.register_mime_type(EXEC_MIME_TYPE, append_mime, {\n",
       "      /* Is output safe? */\n",
       "      safe: true,\n",
       "      /* Index of renderer in `output_area.display_order` */\n",
       "      index: 0\n",
       "    });\n",
       "  }\n",
       "\n",
       "  // register the mime type if in Jupyter Notebook environment and previously unregistered\n",
       "  if (root.Jupyter !== undefined) {\n",
       "    const events = require('base/js/events');\n",
       "    const OutputArea = require('notebook/js/outputarea').OutputArea;\n",
       "\n",
       "    if (OutputArea.prototype.mime_types().indexOf(EXEC_MIME_TYPE) == -1) {\n",
       "      register_renderer(events, OutputArea);\n",
       "    }\n",
       "  }\n",
       "\n",
       "  \n",
       "  if (typeof (root._bokeh_timeout) === \"undefined\" || force === true) {\n",
       "    root._bokeh_timeout = Date.now() + 5000;\n",
       "    root._bokeh_failed_load = false;\n",
       "  }\n",
       "\n",
       "  const NB_LOAD_WARNING = {'data': {'text/html':\n",
       "     \"<div style='background-color: #fdd'>\\n\"+\n",
       "     \"<p>\\n\"+\n",
       "     \"BokehJS does not appear to have successfully loaded. If loading BokehJS from CDN, this \\n\"+\n",
       "     \"may be due to a slow or bad network connection. Possible fixes:\\n\"+\n",
       "     \"</p>\\n\"+\n",
       "     \"<ul>\\n\"+\n",
       "     \"<li>re-rerun `output_notebook()` to attempt to load from CDN again, or</li>\\n\"+\n",
       "     \"<li>use INLINE resources instead, as so:</li>\\n\"+\n",
       "     \"</ul>\\n\"+\n",
       "     \"<code>\\n\"+\n",
       "     \"from bokeh.resources import INLINE\\n\"+\n",
       "     \"output_notebook(resources=INLINE)\\n\"+\n",
       "     \"</code>\\n\"+\n",
       "     \"</div>\"}};\n",
       "\n",
       "  function display_loaded() {\n",
       "    const el = document.getElementById(\"2513\");\n",
       "    if (el != null) {\n",
       "      el.textContent = \"BokehJS is loading...\";\n",
       "    }\n",
       "    if (root.Bokeh !== undefined) {\n",
       "      if (el != null) {\n",
       "        el.textContent = \"BokehJS \" + root.Bokeh.version + \" successfully loaded.\";\n",
       "      }\n",
       "    } else if (Date.now() < root._bokeh_timeout) {\n",
       "      setTimeout(display_loaded, 100)\n",
       "    }\n",
       "  }\n",
       "\n",
       "\n",
       "  function run_callbacks() {\n",
       "    try {\n",
       "      root._bokeh_onload_callbacks.forEach(function(callback) {\n",
       "        if (callback != null)\n",
       "          callback();\n",
       "      });\n",
       "    } finally {\n",
       "      delete root._bokeh_onload_callbacks\n",
       "    }\n",
       "    console.debug(\"Bokeh: all callbacks have finished\");\n",
       "  }\n",
       "\n",
       "  function load_libs(css_urls, js_urls, callback) {\n",
       "    if (css_urls == null) css_urls = [];\n",
       "    if (js_urls == null) js_urls = [];\n",
       "\n",
       "    root._bokeh_onload_callbacks.push(callback);\n",
       "    if (root._bokeh_is_loading > 0) {\n",
       "      console.debug(\"Bokeh: BokehJS is being loaded, scheduling callback at\", now());\n",
       "      return null;\n",
       "    }\n",
       "    if (js_urls == null || js_urls.length === 0) {\n",
       "      run_callbacks();\n",
       "      return null;\n",
       "    }\n",
       "    console.debug(\"Bokeh: BokehJS not loaded, scheduling load and callback at\", now());\n",
       "    root._bokeh_is_loading = css_urls.length + js_urls.length;\n",
       "\n",
       "    function on_load() {\n",
       "      root._bokeh_is_loading--;\n",
       "      if (root._bokeh_is_loading === 0) {\n",
       "        console.debug(\"Bokeh: all BokehJS libraries/stylesheets loaded\");\n",
       "        run_callbacks()\n",
       "      }\n",
       "    }\n",
       "\n",
       "    function on_error(url) {\n",
       "      console.error(\"failed to load \" + url);\n",
       "    }\n",
       "\n",
       "    for (let i = 0; i < css_urls.length; i++) {\n",
       "      const url = css_urls[i];\n",
       "      const element = document.createElement(\"link\");\n",
       "      element.onload = on_load;\n",
       "      element.onerror = on_error.bind(null, url);\n",
       "      element.rel = \"stylesheet\";\n",
       "      element.type = \"text/css\";\n",
       "      element.href = url;\n",
       "      console.debug(\"Bokeh: injecting link tag for BokehJS stylesheet: \", url);\n",
       "      document.body.appendChild(element);\n",
       "    }\n",
       "\n",
       "    for (let i = 0; i < js_urls.length; i++) {\n",
       "      const url = js_urls[i];\n",
       "      const element = document.createElement('script');\n",
       "      element.onload = on_load;\n",
       "      element.onerror = on_error.bind(null, url);\n",
       "      element.async = false;\n",
       "      element.src = url;\n",
       "      console.debug(\"Bokeh: injecting script tag for BokehJS library: \", url);\n",
       "      document.head.appendChild(element);\n",
       "    }\n",
       "  };\n",
       "\n",
       "  function inject_raw_css(css) {\n",
       "    const element = document.createElement(\"style\");\n",
       "    element.appendChild(document.createTextNode(css));\n",
       "    document.body.appendChild(element);\n",
       "  }\n",
       "\n",
       "  \n",
       "  const js_urls = [\"https://cdn.bokeh.org/bokeh/release/bokeh-2.4.0.min.js\", \"https://cdn.bokeh.org/bokeh/release/bokeh-gl-2.4.0.min.js\", \"https://cdn.bokeh.org/bokeh/release/bokeh-widgets-2.4.0.min.js\", \"https://cdn.bokeh.org/bokeh/release/bokeh-tables-2.4.0.min.js\", \"https://cdn.bokeh.org/bokeh/release/bokeh-mathjax-2.4.0.min.js\"];\n",
       "  const css_urls = [];\n",
       "  \n",
       "\n",
       "  const inline_js = [\n",
       "    function(Bokeh) {\n",
       "      Bokeh.set_log_level(\"info\");\n",
       "    },\n",
       "    function(Bokeh) {\n",
       "    \n",
       "    \n",
       "    }\n",
       "  ];\n",
       "\n",
       "  function run_inline_js() {\n",
       "    \n",
       "    if (root.Bokeh !== undefined || force === true) {\n",
       "      \n",
       "    for (let i = 0; i < inline_js.length; i++) {\n",
       "      inline_js[i].call(root, root.Bokeh);\n",
       "    }\n",
       "    if (force === true) {\n",
       "        display_loaded();\n",
       "      }} else if (Date.now() < root._bokeh_timeout) {\n",
       "      setTimeout(run_inline_js, 100);\n",
       "    } else if (!root._bokeh_failed_load) {\n",
       "      console.log(\"Bokeh: BokehJS failed to load within specified timeout.\");\n",
       "      root._bokeh_failed_load = true;\n",
       "    } else if (force !== true) {\n",
       "      const cell = $(document.getElementById(\"2513\")).parents('.cell').data().cell;\n",
       "      cell.output_area.append_execute_result(NB_LOAD_WARNING)\n",
       "    }\n",
       "\n",
       "  }\n",
       "\n",
       "  if (root._bokeh_is_loading === 0) {\n",
       "    console.debug(\"Bokeh: BokehJS loaded, going straight to plotting\");\n",
       "    run_inline_js();\n",
       "  } else {\n",
       "    load_libs(css_urls, js_urls, function() {\n",
       "      console.debug(\"Bokeh: BokehJS plotting callback run at\", now());\n",
       "      run_inline_js();\n",
       "    });\n",
       "  }\n",
       "}(window));"
      ],
      "application/vnd.bokehjs_load.v0+json": "\n(function(root) {\n  function now() {\n    return new Date();\n  }\n\n  const force = true;\n\n  if (typeof root._bokeh_onload_callbacks === \"undefined\" || force === true) {\n    root._bokeh_onload_callbacks = [];\n    root._bokeh_is_loading = undefined;\n  }\n\n  \n\n  \n  if (typeof (root._bokeh_timeout) === \"undefined\" || force === true) {\n    root._bokeh_timeout = Date.now() + 5000;\n    root._bokeh_failed_load = false;\n  }\n\n  const NB_LOAD_WARNING = {'data': {'text/html':\n     \"<div style='background-color: #fdd'>\\n\"+\n     \"<p>\\n\"+\n     \"BokehJS does not appear to have successfully loaded. If loading BokehJS from CDN, this \\n\"+\n     \"may be due to a slow or bad network connection. Possible fixes:\\n\"+\n     \"</p>\\n\"+\n     \"<ul>\\n\"+\n     \"<li>re-rerun `output_notebook()` to attempt to load from CDN again, or</li>\\n\"+\n     \"<li>use INLINE resources instead, as so:</li>\\n\"+\n     \"</ul>\\n\"+\n     \"<code>\\n\"+\n     \"from bokeh.resources import INLINE\\n\"+\n     \"output_notebook(resources=INLINE)\\n\"+\n     \"</code>\\n\"+\n     \"</div>\"}};\n\n  function display_loaded() {\n    const el = document.getElementById(\"2513\");\n    if (el != null) {\n      el.textContent = \"BokehJS is loading...\";\n    }\n    if (root.Bokeh !== undefined) {\n      if (el != null) {\n        el.textContent = \"BokehJS \" + root.Bokeh.version + \" successfully loaded.\";\n      }\n    } else if (Date.now() < root._bokeh_timeout) {\n      setTimeout(display_loaded, 100)\n    }\n  }\n\n\n  function run_callbacks() {\n    try {\n      root._bokeh_onload_callbacks.forEach(function(callback) {\n        if (callback != null)\n          callback();\n      });\n    } finally {\n      delete root._bokeh_onload_callbacks\n    }\n    console.debug(\"Bokeh: all callbacks have finished\");\n  }\n\n  function load_libs(css_urls, js_urls, callback) {\n    if (css_urls == null) css_urls = [];\n    if (js_urls == null) js_urls = [];\n\n    root._bokeh_onload_callbacks.push(callback);\n    if (root._bokeh_is_loading > 0) {\n      console.debug(\"Bokeh: BokehJS is being loaded, scheduling callback at\", now());\n      return null;\n    }\n    if (js_urls == null || js_urls.length === 0) {\n      run_callbacks();\n      return null;\n    }\n    console.debug(\"Bokeh: BokehJS not loaded, scheduling load and callback at\", now());\n    root._bokeh_is_loading = css_urls.length + js_urls.length;\n\n    function on_load() {\n      root._bokeh_is_loading--;\n      if (root._bokeh_is_loading === 0) {\n        console.debug(\"Bokeh: all BokehJS libraries/stylesheets loaded\");\n        run_callbacks()\n      }\n    }\n\n    function on_error(url) {\n      console.error(\"failed to load \" + url);\n    }\n\n    for (let i = 0; i < css_urls.length; i++) {\n      const url = css_urls[i];\n      const element = document.createElement(\"link\");\n      element.onload = on_load;\n      element.onerror = on_error.bind(null, url);\n      element.rel = \"stylesheet\";\n      element.type = \"text/css\";\n      element.href = url;\n      console.debug(\"Bokeh: injecting link tag for BokehJS stylesheet: \", url);\n      document.body.appendChild(element);\n    }\n\n    for (let i = 0; i < js_urls.length; i++) {\n      const url = js_urls[i];\n      const element = document.createElement('script');\n      element.onload = on_load;\n      element.onerror = on_error.bind(null, url);\n      element.async = false;\n      element.src = url;\n      console.debug(\"Bokeh: injecting script tag for BokehJS library: \", url);\n      document.head.appendChild(element);\n    }\n  };\n\n  function inject_raw_css(css) {\n    const element = document.createElement(\"style\");\n    element.appendChild(document.createTextNode(css));\n    document.body.appendChild(element);\n  }\n\n  \n  const js_urls = [\"https://cdn.bokeh.org/bokeh/release/bokeh-2.4.0.min.js\", \"https://cdn.bokeh.org/bokeh/release/bokeh-gl-2.4.0.min.js\", \"https://cdn.bokeh.org/bokeh/release/bokeh-widgets-2.4.0.min.js\", \"https://cdn.bokeh.org/bokeh/release/bokeh-tables-2.4.0.min.js\", \"https://cdn.bokeh.org/bokeh/release/bokeh-mathjax-2.4.0.min.js\"];\n  const css_urls = [];\n  \n\n  const inline_js = [\n    function(Bokeh) {\n      Bokeh.set_log_level(\"info\");\n    },\n    function(Bokeh) {\n    \n    \n    }\n  ];\n\n  function run_inline_js() {\n    \n    if (root.Bokeh !== undefined || force === true) {\n      \n    for (let i = 0; i < inline_js.length; i++) {\n      inline_js[i].call(root, root.Bokeh);\n    }\n    if (force === true) {\n        display_loaded();\n      }} else if (Date.now() < root._bokeh_timeout) {\n      setTimeout(run_inline_js, 100);\n    } else if (!root._bokeh_failed_load) {\n      console.log(\"Bokeh: BokehJS failed to load within specified timeout.\");\n      root._bokeh_failed_load = true;\n    } else if (force !== true) {\n      const cell = $(document.getElementById(\"2513\")).parents('.cell').data().cell;\n      cell.output_area.append_execute_result(NB_LOAD_WARNING)\n    }\n\n  }\n\n  if (root._bokeh_is_loading === 0) {\n    console.debug(\"Bokeh: BokehJS loaded, going straight to plotting\");\n    run_inline_js();\n  } else {\n    load_libs(css_urls, js_urls, function() {\n      console.debug(\"Bokeh: BokehJS plotting callback run at\", now());\n      run_inline_js();\n    });\n  }\n}(window));"
     },
     "metadata": {},
     "output_type": "display_data"
    }
   ],
   "source": [
    "#import bokeh function\n",
    "from bokeh.plotting import figure, show\n",
    "from bokeh.io import output_notebook\n",
    "from bokeh.layouts import row, column\n",
    "from bokeh.io import export_png\n",
    "from bokeh.models import DatetimeTickFormatter, TickFormatter, ColumnDataSource, Legend, Range1d, FactorRange\n",
    "from bokeh.transform import dodge\n",
    "from bokeh.core.properties import Dict, Int, String\n",
    "\n",
    "output_notebook()\n"
   ]
  },
  {
   "cell_type": "markdown",
   "id": "bc31bd5c",
   "metadata": {},
   "source": [
    "The guidelines say: \"Limiting added sugars* to less than 10% of calories per day for ages 2 and older and to avoid added sugars for infants and toddlers;\n",
    "Limiting saturated fat to less than 10% of calories per day starting at age 2;\n",
    "Limiting sodium intake to less than 2,300mg per day (or even less if younger than 14);\""
   ]
  },
  {
   "cell_type": "code",
   "execution_count": 29,
   "id": "f1c35a79",
   "metadata": {},
   "outputs": [],
   "source": [
    "import pandas as pd\n",
    "\n",
    "#STEP 1. Import the data\n",
    "cereal_details=pd.read_csv('cereal.csv')[['name','protein','fat',\\\n",
    "    'sodium','sugars','potass','vitamins']]\\\n",
    "    .applymap(lambda x: np.nan if (type(x)!=str and x<0) else x).dropna()"
   ]
  },
  {
   "cell_type": "code",
   "execution_count": 30,
   "id": "5b27990a",
   "metadata": {},
   "outputs": [],
   "source": [
    "#STEP 2. assign recommendation to the five with the lowest sugar and sodium\n",
    "\n",
    "#normalize the nutrients so that they can be on the same plot\n",
    "stds=cereal_details.describe().loc['std',:].apply(lambda x: sigfig.round(x, sigfigs=1)).to_dict()\n",
    "normalized_cereal_details=copy.deepcopy(cereal_details)\n",
    "for col in cereal_details.columns[1:]:\n",
    "    normalized_cereal_details[col]=cereal_details[col]/stds.get(col)\n",
    "    \n",
    "sorted_cereals=normalized_cereal_details\\\n",
    "    .sort_values(by=['sugars','sodium','fat']).reset_index(drop=True)\n",
    "sorted_cereals['recommended']=False\n",
    "sorted_cereals.loc[:5,'recommended']=True\n",
    "sorted_cereals['norm_sodium']=sorted_cereals['sodium'].apply(lambda x: round(x))"
   ]
  },
  {
   "cell_type": "code",
   "execution_count": 31,
   "id": "285e0c82",
   "metadata": {},
   "outputs": [
    {
     "data": {
      "text/html": [
       "\n",
       "\n",
       "\n",
       "\n",
       "\n",
       "\n",
       "  <div class=\"bk-root\" id=\"b5271c99-679a-4a85-8d8b-0a96f370c466\" data-root-id=\"2515\"></div>\n"
      ]
     },
     "metadata": {},
     "output_type": "display_data"
    },
    {
     "data": {
      "application/javascript": [
       "(function(root) {\n",
       "  function embed_document(root) {\n",
       "    \n",
       "  const docs_json = {\"55b908f3-a740-49fe-b909-53fef2b4498b\":{\"defs\":[],\"roots\":{\"references\":[{\"attributes\":{\"below\":[{\"id\":\"2524\"}],\"center\":[{\"id\":\"2527\"},{\"id\":\"2530\"},{\"id\":\"2563\"}],\"height\":2000,\"left\":[{\"id\":\"2528\"}],\"renderers\":[{\"id\":\"2550\"},{\"id\":\"2570\"},{\"id\":\"2589\"},{\"id\":\"2608\"},{\"id\":\"2627\"},{\"id\":\"2646\"}],\"title\":{\"id\":\"2662\"},\"toolbar\":{\"id\":\"2538\"},\"toolbar_location\":null,\"x_range\":{\"id\":\"2516\"},\"x_scale\":{\"id\":\"2520\"},\"y_range\":{\"id\":\"2518\"},\"y_scale\":{\"id\":\"2522\"}},\"id\":\"2515\",\"subtype\":\"Figure\",\"type\":\"Plot\"},{\"attributes\":{\"fill_alpha\":{\"value\":0.1},\"fill_color\":{\"value\":\"lightgreen\"},\"hatch_alpha\":{\"value\":0.1},\"hatch_color\":{\"value\":\"lightgreen\"},\"height\":{\"value\":0.05},\"line_alpha\":{\"value\":0.1},\"line_color\":{\"value\":\"lightgreen\"},\"right\":{\"field\":\"fat\"},\"y\":{\"field\":\"recommended_name\",\"transform\":{\"id\":\"2603\"}}},\"id\":\"2606\",\"type\":\"HBar\"},{\"attributes\":{\"source\":{\"id\":\"2514\"}},\"id\":\"2647\",\"type\":\"CDSView\"},{\"attributes\":{\"range\":{\"id\":\"2518\"},\"value\":-0.2},\"id\":\"2641\",\"type\":\"Dodge\"},{\"attributes\":{\"fill_alpha\":{\"value\":0.2},\"fill_color\":{\"value\":\"deepskyblue\"},\"hatch_alpha\":{\"value\":0.2},\"hatch_color\":{\"value\":\"deepskyblue\"},\"height\":{\"value\":0.05},\"line_alpha\":{\"value\":0.2},\"line_color\":{\"value\":\"deepskyblue\"},\"right\":{\"field\":\"sugars\"},\"y\":{\"field\":\"recommended_name\",\"transform\":{\"id\":\"2641\"}}},\"id\":\"2645\",\"type\":\"HBar\"},{\"attributes\":{},\"id\":\"2536\",\"type\":\"HelpTool\"},{\"attributes\":{\"label\":{\"value\":\"vitamins (20%)\"},\"renderers\":[{\"id\":\"2570\"}]},\"id\":\"2583\",\"type\":\"LegendItem\"},{\"attributes\":{\"fill_color\":{\"value\":\"lightgreen\"},\"hatch_color\":{\"value\":\"lightgreen\"},\"height\":{\"value\":0.05},\"line_color\":{\"value\":\"lightgreen\"},\"right\":{\"field\":\"fat\"},\"y\":{\"field\":\"recommended_name\",\"transform\":{\"id\":\"2603\"}}},\"id\":\"2605\",\"type\":\"HBar\"},{\"attributes\":{\"coordinates\":null,\"data_source\":{\"id\":\"2514\"},\"glyph\":{\"id\":\"2567\"},\"group\":null,\"hover_glyph\":null,\"muted_glyph\":{\"id\":\"2569\"},\"nonselection_glyph\":{\"id\":\"2568\"},\"view\":{\"id\":\"2571\"}},\"id\":\"2570\",\"type\":\"GlyphRenderer\"},{\"attributes\":{\"coordinates\":null,\"data_source\":{\"id\":\"2514\"},\"glyph\":{\"id\":\"2605\"},\"group\":null,\"hover_glyph\":null,\"muted_glyph\":{\"id\":\"2607\"},\"nonselection_glyph\":{\"id\":\"2606\"},\"view\":{\"id\":\"2609\"}},\"id\":\"2608\",\"type\":\"GlyphRenderer\"},{\"attributes\":{\"tools\":[{\"id\":\"2531\"},{\"id\":\"2532\"},{\"id\":\"2533\"},{\"id\":\"2534\"},{\"id\":\"2535\"},{\"id\":\"2536\"}]},\"id\":\"2538\",\"type\":\"Toolbar\"},{\"attributes\":{},\"id\":\"2522\",\"type\":\"CategoricalScale\"},{\"attributes\":{\"source\":{\"id\":\"2514\"}},\"id\":\"2571\",\"type\":\"CDSView\"},{\"attributes\":{\"coordinates\":null,\"group\":null,\"text\":\"Nutrient composition of each cereal\"},\"id\":\"2662\",\"type\":\"Title\"},{\"attributes\":{\"source\":{\"id\":\"2514\"}},\"id\":\"2609\",\"type\":\"CDSView\"},{\"attributes\":{\"coordinates\":null,\"data_source\":{\"id\":\"2514\"},\"glyph\":{\"id\":\"2643\"},\"group\":null,\"hover_glyph\":null,\"muted_glyph\":{\"id\":\"2645\"},\"nonselection_glyph\":{\"id\":\"2644\"},\"view\":{\"id\":\"2647\"}},\"id\":\"2646\",\"type\":\"GlyphRenderer\"},{\"attributes\":{\"axis_label\":\"bad substances to limit --- good nutrients to include\",\"coordinates\":null,\"formatter\":{\"id\":\"2558\"},\"group\":null,\"major_label_overrides\":{\"-1\":\"\",\"-2\":\"\",\"-3\":\"\",\"-4\":\"\",\"-5\":\"\",\"-6\":\"\",\"0\":\"\",\"1\":\"\",\"2\":\"\",\"3\":\"\",\"4\":\"\",\"5\":\"\",\"6\":\"\"},\"major_label_policy\":{\"id\":\"2559\"},\"ticker\":{\"id\":\"2660\"}},\"id\":\"2524\",\"type\":\"LinearAxis\"},{\"attributes\":{\"label\":{\"value\":\"fat (g)\"},\"renderers\":[{\"id\":\"2608\"}]},\"id\":\"2621\",\"type\":\"LegendItem\"},{\"attributes\":{\"bottom_units\":\"screen\",\"coordinates\":null,\"fill_alpha\":0.5,\"fill_color\":\"lightgrey\",\"group\":null,\"left_units\":\"screen\",\"level\":\"overlay\",\"line_alpha\":1.0,\"line_color\":\"black\",\"line_dash\":[4,4],\"line_width\":2,\"right_units\":\"screen\",\"syncable\":false,\"top_units\":\"screen\"},\"id\":\"2537\",\"type\":\"BoxAnnotation\"},{\"attributes\":{\"fill_alpha\":{\"value\":0.2},\"fill_color\":{\"value\":\"gold\"},\"hatch_alpha\":{\"value\":0.2},\"hatch_color\":{\"value\":\"gold\"},\"height\":{\"value\":0.05},\"line_alpha\":{\"value\":0.2},\"line_color\":{\"value\":\"gold\"},\"right\":{\"field\":\"potass\"},\"y\":{\"field\":\"recommended_name\",\"transform\":{\"id\":\"2545\"}}},\"id\":\"2549\",\"type\":\"HBar\"},{\"attributes\":{},\"id\":\"2529\",\"type\":\"CategoricalTicker\"},{\"attributes\":{\"fill_alpha\":{\"value\":0.2},\"fill_color\":{\"value\":\"tomato\"},\"hatch_alpha\":{\"value\":0.2},\"hatch_color\":{\"value\":\"tomato\"},\"height\":{\"value\":0.05},\"line_alpha\":{\"value\":0.2},\"line_color\":{\"value\":\"tomato\"},\"right\":{\"field\":\"protein\"},\"y\":{\"field\":\"recommended_name\",\"transform\":{\"id\":\"2584\"}}},\"id\":\"2588\",\"type\":\"HBar\"},{\"attributes\":{\"coordinates\":null,\"data_source\":{\"id\":\"2514\"},\"glyph\":{\"id\":\"2547\"},\"group\":null,\"hover_glyph\":null,\"muted_glyph\":{\"id\":\"2549\"},\"nonselection_glyph\":{\"id\":\"2548\"},\"view\":{\"id\":\"2551\"}},\"id\":\"2550\",\"type\":\"GlyphRenderer\"},{\"attributes\":{\"range\":{\"id\":\"2518\"}},\"id\":\"2603\",\"type\":\"Dodge\"},{\"attributes\":{\"axis\":{\"id\":\"2524\"},\"coordinates\":null,\"group\":null,\"ticker\":null},\"id\":\"2527\",\"type\":\"Grid\"},{\"attributes\":{\"fill_alpha\":{\"value\":0.1},\"fill_color\":{\"value\":\"lightsalmon\"},\"hatch_alpha\":{\"value\":0.1},\"hatch_color\":{\"value\":\"lightsalmon\"},\"height\":{\"value\":0.05},\"line_alpha\":{\"value\":0.1},\"line_color\":{\"value\":\"lightsalmon\"},\"right\":{\"field\":\"vitamins\"},\"y\":{\"field\":\"recommended_name\",\"transform\":{\"id\":\"2565\"}}},\"id\":\"2568\",\"type\":\"HBar\"},{\"attributes\":{\"label\":{\"value\":\"sugars (4g)\"},\"renderers\":[{\"id\":\"2646\"}]},\"id\":\"2659\",\"type\":\"LegendItem\"},{\"attributes\":{},\"id\":\"2535\",\"type\":\"ResetTool\"},{\"attributes\":{\"range\":{\"id\":\"2518\"},\"value\":0.1},\"id\":\"2584\",\"type\":\"Dodge\"},{\"attributes\":{\"ticks\":[-6,-5,-4,-3,-2,-1,0,1,2,3,4,5,6]},\"id\":\"2660\",\"type\":\"FixedTicker\"},{\"attributes\":{\"axis\":{\"id\":\"2528\"},\"coordinates\":null,\"dimension\":1,\"group\":null,\"ticker\":null},\"id\":\"2530\",\"type\":\"Grid\"},{\"attributes\":{\"coordinates\":null,\"group\":null,\"items\":[{\"id\":\"2564\"},{\"id\":\"2583\"},{\"id\":\"2602\"},{\"id\":\"2621\"},{\"id\":\"2640\"},{\"id\":\"2659\"}],\"location\":\"top_left\"},\"id\":\"2563\",\"type\":\"Legend\"},{\"attributes\":{\"data\":{\"fat\":{\"__ndarray__\":\"AAAAAAAA8L8AAAAAAAAAgAAAAAAAAPC/AAAAAAAA8L8AAAAAAAAAgAAAAAAAAPC/AAAAAAAA8L8AAAAAAAAAwAAAAAAAAPC/AAAAAAAAAIAAAAAAAAAAwAAAAAAAAPC/AAAAAAAA8L8AAAAAAADwvwAAAAAAAPC/AAAAAAAAAIAAAAAAAAAAwAAAAAAAAACAAAAAAAAAAIAAAAAAAAAIwAAAAAAAAAjAAAAAAAAA8L8AAAAAAAAAwAAAAAAAAADAAAAAAAAAAMAAAAAAAADwvwAAAAAAAPC/AAAAAAAACMAAAAAAAADwvwAAAAAAAPC/AAAAAAAAAMAAAAAAAADwvwAAAAAAAADAAAAAAAAAFMAAAAAAAAAAwAAAAAAAAADAAAAAAAAACMAAAAAAAAAAgAAAAAAAAPC/AAAAAAAA8L8AAAAAAADwvwAAAAAAAADAAAAAAAAA8L8AAAAAAADwvwAAAAAAAACAAAAAAAAA8L8AAAAAAAAAgAAAAAAAAACAAAAAAAAA8L8AAAAAAAAAgAAAAAAAAAjAAAAAAAAAAIAAAAAAAAAAgAAAAAAAAACAAAAAAAAA8L8AAAAAAADwvwAAAAAAAACAAAAAAAAA8L8AAAAAAAAAgAAAAAAAAPC/AAAAAAAA8L8AAAAAAADwvwAAAAAAAACAAAAAAAAA8L8AAAAAAAAAgAAAAAAAAACAAAAAAAAAAIAAAAAAAAAAwAAAAAAAAACAAAAAAAAAAIAAAAAAAAAAgAAAAAAAAACAAAAAAAAAAIAAAAAAAAAAgA==\",\"dtype\":\"float64\",\"order\":\"little\",\"shape\":[74]},\"potass\":{\"__ndarray__\":\"kiRJkiRJ4j+SJEmSJEniP27btm3btg1AkiRJkiRJCkDbtm3btm3bP0mSJEmSJOk/btu2bdu27T+SJEmSJEkCQNu2bdu2bds/btu2bdu2BUAAAAAAAADgP9u2bdu2bQtASZIkSZIk6T+3bdu2bdvWP7dt27Zt29Y/kiRJkiRJ0j8lSZIkSZLkP7dt27Zt29Y/AAAAAAAA4D/btm3btm0DQNu2bdu2bQNAJUmSJEmS9D8AAAAAAADwP9u2bdu2bfs/t23btm3bBkDbtm3btm37PyVJkiRJkuQ/JUmSJEmS5D+SJEmSJEniP27btm3btvU/t23btm3b9j/btm3btm3rPwAAAAAAAABAt23btm3b/j9u27Zt27b9PwAAAAAAAPg/kiRJkiRJAkC3bdu2bdv2PyVJkiRJkvQ/JUmSJEmS/D/btm3btm3rP27btm3btvU/SZIkSZIk+T8AAAAAAAAQQEmSJEmSJPk/kiRJkiRJEkBu27Zt27YFQJIkSZIkSfI/27Zt27Zt8z8lSZIkSZL0P7dt27Zt2/Y/JUmSJEmS5D8AAAAAAADgP7dt27Zt29Y/kiRJkiRJ4j/btm3btm3rP0mSJEmSJOk/kiRJkiRJ+j/btm3btm3bPwAAAAAAAOA/SZIkSZIk+T9JkiRJkiT5PyVJkiRJkvQ/btu2bdu29T8AAAAAAADgP9u2bdu2bds/JUmSJEmS9D8AAAAAAAD4P7dt27Zt2xJA27Zt27Ztyz+3bdu2bdvmP27btm3btvU/AAAAAAAAAEDbtm3btm37Pw==\",\"dtype\":\"float64\",\"order\":\"little\",\"shape\":[74]},\"protein\":{\"__ndarray__\":\"AAAAAAAAAEAAAAAAAAAAQAAAAAAAAAhAAAAAAAAACEAAAAAAAAAAQAAAAAAAAPA/AAAAAAAA8D8AAAAAAAAIQAAAAAAAAABAAAAAAAAACEAAAAAAAADwPwAAAAAAAAhAAAAAAAAAAEAAAAAAAADwPwAAAAAAAPA/AAAAAAAA8D8AAAAAAADwPwAAAAAAAPA/AAAAAAAA8D8AAAAAAAAQQAAAAAAAABBAAAAAAAAACEAAAAAAAAAAQAAAAAAAAAhAAAAAAAAACEAAAAAAAAAAQAAAAAAAAPA/AAAAAAAA8D8AAAAAAAAAQAAAAAAAAAhAAAAAAAAACEAAAAAAAAAAQAAAAAAAAAhAAAAAAAAACEAAAAAAAAAIQAAAAAAAAAhAAAAAAAAACEAAAAAAAAAIQAAAAAAAAABAAAAAAAAAAEAAAAAAAAAAQAAAAAAAABBAAAAAAAAAEEAAAAAAAAAQQAAAAAAAAABAAAAAAAAAEEAAAAAAAAAIQAAAAAAAAABAAAAAAAAACEAAAAAAAAAAQAAAAAAAAAhAAAAAAAAACEAAAAAAAAAAQAAAAAAAAABAAAAAAAAAAEAAAAAAAAAAQAAAAAAAABhAAAAAAAAACEAAAAAAAAAAQAAAAAAAAABAAAAAAAAACEAAAAAAAAAIQAAAAAAAAAhAAAAAAAAAEEAAAAAAAAAAQAAAAAAAAPA/AAAAAAAACEAAAAAAAAAYQAAAAAAAABBAAAAAAAAA8D8AAAAAAAAAQAAAAAAAAABAAAAAAAAACEAAAAAAAAAIQA==\",\"dtype\":\"float64\",\"order\":\"little\",\"shape\":[74]},\"recommended_name\":[\"Smacks\",\"Golden Crisp\",\"Post Nat. Raisin Bran\",\"Total Raisin Bran\",\"Apple Jacks\",\"Cocoa Puffs\",\"Count Chocula\",\"Mueslix Crispy Blend\",\"Froot Loops\",\"Fruitful Bran\",\"Cap'n'Crunch\",\"Raisin Bran\",\"Lucky Charms\",\"Trix\",\"Fruity Pebbles\",\"Corn Pops\",\"Honey Graham Ohs\",\"Frosted Flakes\",\"Honey-comb\",\"Muesli Raisins; Peaches; & Pecans\",\"Muesli Raisins; Dates; & Almonds\",\"Honey Nut Cheerios\",\"Apple Cinnamon Cheerios\",\"Oatmeal Raisin Crisp\",\"Fruit & Fibre Dates; Walnuts; and Oats\",\"Crispy Wheat & Raisins\",\"Golden Grahams\",\"Cinnamon Toast Crunch\",\"Nut&Honey Crunch\",\"Just Right Fruit & Nut\",\"Basic 4\",\"Wheaties Honey Gold\",\"Raisin Nut Bran\",\"100% Natural Bran\",\"Nutri-Grain Almond-Raisin\",\"Clusters\",\"Cracklin' Oat Bran\",\"Frosted Mini-Wheats\",\"Multi-Grain Cheerios\",\"Bran Chex\",\"Just Right Crunchy  Nuggets\",\"Life\",\"Quaker Oat Squares\",\"100% Bran\",\"Raisin Squares\",\"All-Bran\",\"Bran Flakes\",\"Double Chex\",\"Grape Nuts Flakes\",\"Strawberry Fruit Wheats\",\"Great Grains Pecan\",\"Product 19\",\"Rice Krispies\",\"Corn Chex\",\"Kix\",\"Triples\",\"Special K\",\"Wheat Chex\",\"Crispix\",\"Total Corn Flakes\",\"Total Whole Grain\",\"Wheaties\",\"Grape-Nuts\",\"Maypo\",\"Corn Flakes\",\"Rice Chex\",\"Nutri-grain Wheat\",\"Cheerios\",\"**All-Bran with Extra Fiber**\",\"**Puffed Rice**\",\"**Puffed Wheat**\",\"**Shredded Wheat**\",\"**Shredded Wheat 'n'Bran**\",\"**Shredded Wheat spoon size**\"],\"sodium\":{\"__ndarray__\":\"AAAAAAAA7L8AAAAAAADivwAAAAAAAATAAAAAAAAAA8AAAAAAAAD5vwAAAAAAAALAAAAAAAAAAsAAAAAAAAD+vwAAAAAAAPm/AAAAAAAACMAAAAAAAAAGwAAAAAAAAAXAAAAAAAAAAsAAAAAAAAD8vwAAAAAAAPu/AAAAAAAA8r8AAAAAAAAGwAAAAAAAAATAAAAAAAAAAsAAAAAAAAD+vwAAAAAAAPO/AAAAAAAACcAAAAAAAAACwAAAAAAAAAHAAAAAAAAAAMAAAAAAAAD8vwAAAAAAAAzAAAAAAAAABcAAAAAAAAADwAAAAAAAAAHAAAAAAAAABcAAAAAAAAAEwAAAAAAAAPy/AAAAAAAAyL8AAAAAAAAGwAAAAAAAAPy/AAAAAAAA/L8AAAAAAAAAgAAAAAAAAAbAAAAAAAAABMAAAAAAAAABwAAAAAAAAP6/AAAAAAAA+78AAAAAAAD6vwAAAAAAAACAAAAAAAAACsAAAAAAAAAFwAAAAAAAAAPAAAAAAAAA/L8AAAAAAADIvwAAAAAAAO6/AAAAAAAAEMAAAAAAAAANwAAAAAAAAAzAAAAAAAAACsAAAAAAAAAJwAAAAAAAAAfAAAAAAAAAB8AAAAAAAAAGwAAAAAAAAATAAAAAAAAABMAAAAAAAAAEwAAAAAAAAAHAAAAAAAAAAIAAAAAAAAANwAAAAAAAAAjAAAAAAAAAAcAAAAAAAAANwAAAAAAAAPy/AAAAAAAAAIAAAAAAAAAAgAAAAAAAAACAAAAAAAAAAIAAAAAAAAAAgA==\",\"dtype\":\"float64\",\"order\":\"little\",\"shape\":[74]},\"sugars\":{\"__ndarray__\":\"AAAAAAAADsAAAAAAAAAOwAAAAAAAAAzAAAAAAAAADMAAAAAAAAAMwAAAAAAAAArAAAAAAAAACsAAAAAAAAAKwAAAAAAAAArAAAAAAAAACMAAAAAAAAAIwAAAAAAAAAjAAAAAAAAACMAAAAAAAAAIwAAAAAAAAAjAAAAAAAAACMAAAAAAAAAGwAAAAAAAAAbAAAAAAAAABsAAAAAAAAAGwAAAAAAAAAbAAAAAAAAABMAAAAAAAAAEwAAAAAAAAATAAAAAAAAABMAAAAAAAAAEwAAAAAAAAALAAAAAAAAAAsAAAAAAAAACwAAAAAAAAALAAAAAAAAAAMAAAAAAAAAAwAAAAAAAAADAAAAAAAAAAMAAAAAAAAD8vwAAAAAAAPy/AAAAAAAA/L8AAAAAAAD8vwAAAAAAAPi/AAAAAAAA+L8AAAAAAAD4vwAAAAAAAPi/AAAAAAAA+L8AAAAAAAD4vwAAAAAAAPi/AAAAAAAA9L8AAAAAAAD0vwAAAAAAAPS/AAAAAAAA9L8AAAAAAAD0vwAAAAAAAPC/AAAAAAAA6L8AAAAAAADovwAAAAAAAOi/AAAAAAAA6L8AAAAAAADovwAAAAAAAOi/AAAAAAAA6L8AAAAAAADovwAAAAAAAOi/AAAAAAAA6L8AAAAAAADovwAAAAAAAOi/AAAAAAAA6L8AAAAAAADgvwAAAAAAAOC/AAAAAAAA4L8AAAAAAADQvwAAAAAAAACAAAAAAAAAAIAAAAAAAAAAgAAAAAAAAACAAAAAAAAAAIAAAAAAAAAAgA==\",\"dtype\":\"float64\",\"order\":\"little\",\"shape\":[74]},\"vitamins\":{\"__ndarray__\":\"AAAAAAAA9D8AAAAAAAD0PwAAAAAAAPQ/AAAAAAAAFEAAAAAAAAD0PwAAAAAAAPQ/AAAAAAAA9D8AAAAAAAD0PwAAAAAAAPQ/AAAAAAAA9D8AAAAAAAD0PwAAAAAAAPQ/AAAAAAAA9D8AAAAAAAD0PwAAAAAAAPQ/AAAAAAAA9D8AAAAAAAD0PwAAAAAAAPQ/AAAAAAAA9D8AAAAAAAD0PwAAAAAAAPQ/AAAAAAAA9D8AAAAAAAD0PwAAAAAAAPQ/AAAAAAAA9D8AAAAAAAD0PwAAAAAAAPQ/AAAAAAAA9D8AAAAAAAD0PwAAAAAAABRAAAAAAAAA9D8AAAAAAAD0PwAAAAAAAPQ/AAAAAAAAAAAAAAAAAAD0PwAAAAAAAPQ/AAAAAAAA9D8AAAAAAAD0PwAAAAAAAPQ/AAAAAAAA9D8AAAAAAAAUQAAAAAAAAPQ/AAAAAAAA9D8AAAAAAAD0PwAAAAAAAPQ/AAAAAAAA9D8AAAAAAAD0PwAAAAAAAPQ/AAAAAAAA9D8AAAAAAAD0PwAAAAAAAPQ/AAAAAAAAFEAAAAAAAAD0PwAAAAAAAPQ/AAAAAAAA9D8AAAAAAAD0PwAAAAAAAPQ/AAAAAAAA9D8AAAAAAAD0PwAAAAAAABRAAAAAAAAAFEAAAAAAAAD0PwAAAAAAAPQ/AAAAAAAA9D8AAAAAAAD0PwAAAAAAAPQ/AAAAAAAA9D8AAAAAAAD0PwAAAAAAAPQ/AAAAAAAAAAAAAAAAAAAAAAAAAAAAAAAAAAAAAAAAAAAAAAAAAAAAAA==\",\"dtype\":\"float64\",\"order\":\"little\",\"shape\":[74]}},\"selected\":{\"id\":\"2561\"},\"selection_policy\":{\"id\":\"2560\"}},\"id\":\"2514\",\"type\":\"ColumnDataSource\"},{\"attributes\":{\"source\":{\"id\":\"2514\"}},\"id\":\"2551\",\"type\":\"CDSView\"},{\"attributes\":{\"fill_color\":{\"value\":\"lightsalmon\"},\"hatch_color\":{\"value\":\"lightsalmon\"},\"height\":{\"value\":0.05},\"line_color\":{\"value\":\"lightsalmon\"},\"right\":{\"field\":\"vitamins\"},\"y\":{\"field\":\"recommended_name\",\"transform\":{\"id\":\"2565\"}}},\"id\":\"2567\",\"type\":\"HBar\"},{\"attributes\":{\"fill_alpha\":{\"value\":0.1},\"fill_color\":{\"value\":\"tomato\"},\"hatch_alpha\":{\"value\":0.1},\"hatch_color\":{\"value\":\"tomato\"},\"height\":{\"value\":0.05},\"line_alpha\":{\"value\":0.1},\"line_color\":{\"value\":\"tomato\"},\"right\":{\"field\":\"protein\"},\"y\":{\"field\":\"recommended_name\",\"transform\":{\"id\":\"2584\"}}},\"id\":\"2587\",\"type\":\"HBar\"},{\"attributes\":{\"fill_alpha\":{\"value\":0.1},\"fill_color\":{\"value\":\"limegreen\"},\"hatch_alpha\":{\"value\":0.1},\"hatch_color\":{\"value\":\"limegreen\"},\"height\":{\"value\":0.05},\"line_alpha\":{\"value\":0.1},\"line_color\":{\"value\":\"limegreen\"},\"right\":{\"field\":\"sodium\"},\"y\":{\"field\":\"recommended_name\",\"transform\":{\"id\":\"2622\"}}},\"id\":\"2625\",\"type\":\"HBar\"},{\"attributes\":{\"range\":{\"id\":\"2518\"},\"value\":0.30000000000000004},\"id\":\"2545\",\"type\":\"Dodge\"},{\"attributes\":{\"fill_color\":{\"value\":\"tomato\"},\"hatch_color\":{\"value\":\"tomato\"},\"height\":{\"value\":0.05},\"line_color\":{\"value\":\"tomato\"},\"right\":{\"field\":\"protein\"},\"y\":{\"field\":\"recommended_name\",\"transform\":{\"id\":\"2584\"}}},\"id\":\"2586\",\"type\":\"HBar\"},{\"attributes\":{\"fill_color\":{\"value\":\"limegreen\"},\"hatch_color\":{\"value\":\"limegreen\"},\"height\":{\"value\":0.05},\"line_color\":{\"value\":\"limegreen\"},\"right\":{\"field\":\"sodium\"},\"y\":{\"field\":\"recommended_name\",\"transform\":{\"id\":\"2622\"}}},\"id\":\"2624\",\"type\":\"HBar\"},{\"attributes\":{\"coordinates\":null,\"data_source\":{\"id\":\"2514\"},\"glyph\":{\"id\":\"2586\"},\"group\":null,\"hover_glyph\":null,\"muted_glyph\":{\"id\":\"2588\"},\"nonselection_glyph\":{\"id\":\"2587\"},\"view\":{\"id\":\"2590\"}},\"id\":\"2589\",\"type\":\"GlyphRenderer\"},{\"attributes\":{\"coordinates\":null,\"data_source\":{\"id\":\"2514\"},\"glyph\":{\"id\":\"2624\"},\"group\":null,\"hover_glyph\":null,\"muted_glyph\":{\"id\":\"2626\"},\"nonselection_glyph\":{\"id\":\"2625\"},\"view\":{\"id\":\"2628\"}},\"id\":\"2627\",\"type\":\"GlyphRenderer\"},{\"attributes\":{\"fill_alpha\":{\"value\":0.1},\"fill_color\":{\"value\":\"gold\"},\"hatch_alpha\":{\"value\":0.1},\"hatch_color\":{\"value\":\"gold\"},\"height\":{\"value\":0.05},\"line_alpha\":{\"value\":0.1},\"line_color\":{\"value\":\"gold\"},\"right\":{\"field\":\"potass\"},\"y\":{\"field\":\"recommended_name\",\"transform\":{\"id\":\"2545\"}}},\"id\":\"2548\",\"type\":\"HBar\"},{\"attributes\":{},\"id\":\"2558\",\"type\":\"BasicTickFormatter\"},{\"attributes\":{\"fill_alpha\":{\"value\":0.2},\"fill_color\":{\"value\":\"lightsalmon\"},\"hatch_alpha\":{\"value\":0.2},\"hatch_color\":{\"value\":\"lightsalmon\"},\"height\":{\"value\":0.05},\"line_alpha\":{\"value\":0.2},\"line_color\":{\"value\":\"lightsalmon\"},\"right\":{\"field\":\"vitamins\"},\"y\":{\"field\":\"recommended_name\",\"transform\":{\"id\":\"2565\"}}},\"id\":\"2569\",\"type\":\"HBar\"},{\"attributes\":{\"source\":{\"id\":\"2514\"}},\"id\":\"2590\",\"type\":\"CDSView\"},{\"attributes\":{\"source\":{\"id\":\"2514\"}},\"id\":\"2628\",\"type\":\"CDSView\"},{\"attributes\":{},\"id\":\"2556\",\"type\":\"AllLabels\"},{\"attributes\":{\"coordinates\":null,\"formatter\":{\"id\":\"2555\"},\"group\":null,\"major_label_policy\":{\"id\":\"2556\"},\"ticker\":{\"id\":\"2529\"}},\"id\":\"2528\",\"type\":\"CategoricalAxis\"},{\"attributes\":{},\"id\":\"2531\",\"type\":\"PanTool\"},{\"attributes\":{\"label\":{\"value\":\"protein (g)\"},\"renderers\":[{\"id\":\"2589\"}]},\"id\":\"2602\",\"type\":\"LegendItem\"},{\"attributes\":{},\"id\":\"2555\",\"type\":\"CategoricalTickFormatter\"},{\"attributes\":{},\"id\":\"2560\",\"type\":\"UnionRenderers\"},{\"attributes\":{},\"id\":\"2532\",\"type\":\"WheelZoomTool\"},{\"attributes\":{\"label\":{\"value\":\"potassium (70mg)\"},\"renderers\":[{\"id\":\"2550\"}]},\"id\":\"2564\",\"type\":\"LegendItem\"},{\"attributes\":{\"range\":{\"id\":\"2518\"},\"value\":-0.1},\"id\":\"2622\",\"type\":\"Dodge\"},{\"attributes\":{\"end\":8,\"start\":-8},\"id\":\"2516\",\"type\":\"Range1d\"},{\"attributes\":{\"fill_color\":{\"value\":\"deepskyblue\"},\"hatch_color\":{\"value\":\"deepskyblue\"},\"height\":{\"value\":0.05},\"line_color\":{\"value\":\"deepskyblue\"},\"right\":{\"field\":\"sugars\"},\"y\":{\"field\":\"recommended_name\",\"transform\":{\"id\":\"2641\"}}},\"id\":\"2643\",\"type\":\"HBar\"},{\"attributes\":{},\"id\":\"2559\",\"type\":\"AllLabels\"},{\"attributes\":{\"range\":{\"id\":\"2518\"},\"value\":0.2},\"id\":\"2565\",\"type\":\"Dodge\"},{\"attributes\":{\"fill_alpha\":{\"value\":0.2},\"fill_color\":{\"value\":\"lightgreen\"},\"hatch_alpha\":{\"value\":0.2},\"hatch_color\":{\"value\":\"lightgreen\"},\"height\":{\"value\":0.05},\"line_alpha\":{\"value\":0.2},\"line_color\":{\"value\":\"lightgreen\"},\"right\":{\"field\":\"fat\"},\"y\":{\"field\":\"recommended_name\",\"transform\":{\"id\":\"2603\"}}},\"id\":\"2607\",\"type\":\"HBar\"},{\"attributes\":{\"overlay\":{\"id\":\"2537\"}},\"id\":\"2533\",\"type\":\"BoxZoomTool\"},{\"attributes\":{\"label\":{\"value\":\"sodium (80mg)\"},\"renderers\":[{\"id\":\"2627\"}]},\"id\":\"2640\",\"type\":\"LegendItem\"},{\"attributes\":{\"factors\":[\"Smacks\",\"Golden Crisp\",\"Post Nat. Raisin Bran\",\"Total Raisin Bran\",\"Apple Jacks\",\"Cocoa Puffs\",\"Count Chocula\",\"Mueslix Crispy Blend\",\"Froot Loops\",\"Fruitful Bran\",\"Cap'n'Crunch\",\"Raisin Bran\",\"Lucky Charms\",\"Trix\",\"Fruity Pebbles\",\"Corn Pops\",\"Honey Graham Ohs\",\"Frosted Flakes\",\"Honey-comb\",\"Muesli Raisins; Peaches; & Pecans\",\"Muesli Raisins; Dates; & Almonds\",\"Honey Nut Cheerios\",\"Apple Cinnamon Cheerios\",\"Oatmeal Raisin Crisp\",\"Fruit & Fibre Dates; Walnuts; and Oats\",\"Crispy Wheat & Raisins\",\"Golden Grahams\",\"Cinnamon Toast Crunch\",\"Nut&Honey Crunch\",\"Just Right Fruit & Nut\",\"Basic 4\",\"Wheaties Honey Gold\",\"Raisin Nut Bran\",\"100% Natural Bran\",\"Nutri-Grain Almond-Raisin\",\"Clusters\",\"Cracklin' Oat Bran\",\"Frosted Mini-Wheats\",\"Multi-Grain Cheerios\",\"Bran Chex\",\"Just Right Crunchy  Nuggets\",\"Life\",\"Quaker Oat Squares\",\"100% Bran\",\"Raisin Squares\",\"All-Bran\",\"Bran Flakes\",\"Double Chex\",\"Grape Nuts Flakes\",\"Strawberry Fruit Wheats\",\"Great Grains Pecan\",\"Product 19\",\"Rice Krispies\",\"Corn Chex\",\"Kix\",\"Triples\",\"Special K\",\"Wheat Chex\",\"Crispix\",\"Total Corn Flakes\",\"Total Whole Grain\",\"Wheaties\",\"Grape-Nuts\",\"Maypo\",\"Corn Flakes\",\"Rice Chex\",\"Nutri-grain Wheat\",\"Cheerios\",\"**All-Bran with Extra Fiber**\",\"**Puffed Rice**\",\"**Puffed Wheat**\",\"**Shredded Wheat**\",\"**Shredded Wheat 'n'Bran**\",\"**Shredded Wheat spoon size**\"]},\"id\":\"2518\",\"type\":\"FactorRange\"},{\"attributes\":{\"fill_alpha\":{\"value\":0.2},\"fill_color\":{\"value\":\"limegreen\"},\"hatch_alpha\":{\"value\":0.2},\"hatch_color\":{\"value\":\"limegreen\"},\"height\":{\"value\":0.05},\"line_alpha\":{\"value\":0.2},\"line_color\":{\"value\":\"limegreen\"},\"right\":{\"field\":\"sodium\"},\"y\":{\"field\":\"recommended_name\",\"transform\":{\"id\":\"2622\"}}},\"id\":\"2626\",\"type\":\"HBar\"},{\"attributes\":{\"fill_alpha\":{\"value\":0.1},\"fill_color\":{\"value\":\"deepskyblue\"},\"hatch_alpha\":{\"value\":0.1},\"hatch_color\":{\"value\":\"deepskyblue\"},\"height\":{\"value\":0.05},\"line_alpha\":{\"value\":0.1},\"line_color\":{\"value\":\"deepskyblue\"},\"right\":{\"field\":\"sugars\"},\"y\":{\"field\":\"recommended_name\",\"transform\":{\"id\":\"2641\"}}},\"id\":\"2644\",\"type\":\"HBar\"},{\"attributes\":{},\"id\":\"2534\",\"type\":\"SaveTool\"},{\"attributes\":{},\"id\":\"2561\",\"type\":\"Selection\"},{\"attributes\":{\"fill_color\":{\"value\":\"gold\"},\"hatch_color\":{\"value\":\"gold\"},\"height\":{\"value\":0.05},\"line_color\":{\"value\":\"gold\"},\"right\":{\"field\":\"potass\"},\"y\":{\"field\":\"recommended_name\",\"transform\":{\"id\":\"2545\"}}},\"id\":\"2547\",\"type\":\"HBar\"},{\"attributes\":{},\"id\":\"2520\",\"type\":\"LinearScale\"}],\"root_ids\":[\"2515\"]},\"title\":\"Bokeh Application\",\"version\":\"2.4.0\"}};\n",
       "  const render_items = [{\"docid\":\"55b908f3-a740-49fe-b909-53fef2b4498b\",\"root_ids\":[\"2515\"],\"roots\":{\"2515\":\"b5271c99-679a-4a85-8d8b-0a96f370c466\"}}];\n",
       "  root.Bokeh.embed.embed_items_notebook(docs_json, render_items);\n",
       "\n",
       "  }\n",
       "  if (root.Bokeh !== undefined) {\n",
       "    embed_document(root);\n",
       "  } else {\n",
       "    let attempts = 0;\n",
       "    const timer = setInterval(function(root) {\n",
       "      if (root.Bokeh !== undefined) {\n",
       "        clearInterval(timer);\n",
       "        embed_document(root);\n",
       "      } else {\n",
       "        attempts++;\n",
       "        if (attempts > 100) {\n",
       "          clearInterval(timer);\n",
       "          console.log(\"Bokeh: ERROR: Unable to run BokehJS code because BokehJS library is missing\");\n",
       "        }\n",
       "      }\n",
       "    }, 10, root)\n",
       "  }\n",
       "})(window);"
      ],
      "application/vnd.bokehjs_exec.v0+json": ""
     },
     "metadata": {
      "application/vnd.bokehjs_exec.v0+json": {
       "id": "2515"
      }
     },
     "output_type": "display_data"
    }
   ],
   "source": [
    "#STEP 3. visualize composition of cereals\n",
    "df=sorted_cereals.sort_values(by=['sugars','sodium'], ascending=False)\n",
    "df['recommended_name']=df.apply(lambda x: '**'+x['name']+'**' if x['recommended']\\\n",
    "    else x['name'], axis=1)\n",
    "\n",
    "data={'recommended_name': df['recommended_name'],\n",
    "     'protein': df['protein'],\n",
    "     'sodium': -1*df['sodium'],\n",
    "     'sugars': -1*df['sugars'],\n",
    "     'vitamins': df['vitamins'],\n",
    "     'potass': df['potass'],\n",
    "     'fat': -1*df['fat']}\n",
    "\n",
    "source=ColumnDataSource(data=data)\n",
    "width=0.05\n",
    "delta=0.1\n",
    "\n",
    "p=figure(y_range=df['recommended_name'], height=2000, toolbar_location=None,\\\n",
    "        x_range=(-8,8))\n",
    "p.hbar(y=dodge('recommended_name',3*delta, range=p.y_range), height=width, right='potass', \\\n",
    "       color='gold', legend_label='potassium (70mg)', source=source)\n",
    "p.hbar(y=dodge('recommended_name',2*delta, range=p.y_range), height=width, right='vitamins', \\\n",
    "       color='lightsalmon', legend_label='vitamins (20%)', source=source)\n",
    "p.hbar(y=dodge('recommended_name',delta, range=p.y_range), height=width, right='protein', \\\n",
    "       color='tomato', legend_label='protein (g)', source=source)\n",
    "p.hbar(y=dodge('recommended_name',0, range=p.y_range), height=width, right='fat', \\\n",
    "       color='lightgreen', legend_label='fat (g)', source=source)\n",
    "p.hbar(y=dodge('recommended_name',-delta, range=p.y_range), height=width, right='sodium', \\\n",
    "       color='limegreen', legend_label='sodium (80mg)', source=source)\n",
    "p.hbar(y=dodge('recommended_name',-2*delta, range=p.y_range), height=width, right='sugars', \\\n",
    "       color='deepskyblue', legend_label='sugars (4g)', source=source)\n",
    "\n",
    "p.xaxis.ticker=list(range(-6,7))\n",
    "p.xaxis.major_label_overrides={-6:'',-5:'',-4:'',-3:'',-2:'',-1:'',0:'',\\\n",
    "                              1:'',2:'',3:'',4:'',5:'',6:''}\n",
    "p.legend.location='top_left'\n",
    "p.xaxis.axis_label='bad substances to limit --- good nutrients to include'\n",
    "p.title='Nutrient composition of each cereal'\n",
    "show(p)"
   ]
  },
  {
   "cell_type": "markdown",
   "id": "c92948fb",
   "metadata": {},
   "source": [
    "**Recommended Cereals**  Shredded Wheat spoon size, Shredded Wheat'n'Bran, Shredded Wheat, Puffed Wheat, and Puffed Rice.  These cereals have no sugar, sodium, or fat, (bad things the guidelines recommend against), but do have some protein and potassium, which are good nutrients. \n",
    "\n",
    "The above plot shows the nutrient composition of each cereal, sorted by sugar and sodium levels.  Grid lines indicate multiples of the indicated amount (70mg of potassium, 140mg of potassium, etc..)."
   ]
  },
  {
   "cell_type": "code",
   "execution_count": 32,
   "id": "67d11083",
   "metadata": {},
   "outputs": [],
   "source": [
    "def rank_values(df,col):\n",
    "    counts=dict(Counter(df[col]))\n",
    "    ranked=[]\n",
    "    for x in df[col]:\n",
    "        ranked+=[counts.get(x)]\n",
    "        counts[x]+=-1\n",
    "    df['ranked']=ranked\n",
    "    return df"
   ]
  },
  {
   "cell_type": "code",
   "execution_count": 33,
   "id": "626fb5ba",
   "metadata": {},
   "outputs": [],
   "source": [
    "labels={'protein':'protein (g)', 'potass':'potassium (70mg)', 'fat':'fat (g)', 'sugars':'sugars (x4g)',\\\n",
    "       'vitamins':'vitamins', 'sodium':'sodium (80mg)'}"
   ]
  },
  {
   "cell_type": "code",
   "execution_count": 34,
   "id": "69654fc2",
   "metadata": {},
   "outputs": [],
   "source": [
    "colors={True: 'hotpink', False: 'lightgray'}\n",
    "p={}\n",
    "dfs={}\n",
    "\n",
    "def plot_dist_nutrients(nutrient):\n",
    "    p=figure(height=250, width=200, x_range=(-1,7), toolbar_location=None)\n",
    "    df=rank_values(sorted_cereals,nutrient)\n",
    "    p.circle(x=df[nutrient],y=df['ranked'],\\\n",
    "             color=df['recommended'].apply(lambda x: colors.get(x)), alpha=.5, size=10)\n",
    "    p.xaxis.axis_label=labels.get(nutrient)\n",
    "    \n",
    "    p.xaxis.ticker=[0,1,2,3,4,5,6]\n",
    "    p.yaxis.ticker=[5, 10, 15, 20, 25, 30, 35, 40]\n",
    "    p.yaxis.axis_label='number of cereals'\n",
    "    p.title='# cereals x '+nutrient\n",
    "    return p"
   ]
  },
  {
   "cell_type": "code",
   "execution_count": 35,
   "id": "81e45de5",
   "metadata": {},
   "outputs": [
    {
     "data": {
      "text/html": [
       "\n",
       "\n",
       "\n",
       "\n",
       "\n",
       "\n",
       "  <div class=\"bk-root\" id=\"2a023117-dcec-4ccb-98db-fabeae1d3742\" data-root-id=\"2800\"></div>\n"
      ]
     },
     "metadata": {},
     "output_type": "display_data"
    },
    {
     "data": {
      "application/javascript": [
       "(function(root) {\n",
       "  function embed_document(root) {\n",
       "    \n",
       "  const docs_json = {\"a030747d-74c2-4289-9728-d79282651590\":{\"defs\":[],\"roots\":{\"references\":[{\"attributes\":{\"below\":[{\"id\":\"2809\"}],\"center\":[{\"id\":\"2812\"},{\"id\":\"2816\"}],\"height\":250,\"left\":[{\"id\":\"2813\"}],\"renderers\":[{\"id\":\"2835\"}],\"title\":{\"id\":\"2841\"},\"toolbar\":{\"id\":\"2824\"},\"toolbar_location\":null,\"width\":200,\"x_range\":{\"id\":\"2801\"},\"x_scale\":{\"id\":\"2805\"},\"y_range\":{\"id\":\"2803\"},\"y_scale\":{\"id\":\"2807\"}},\"id\":\"2800\",\"subtype\":\"Figure\",\"type\":\"Plot\"},{\"attributes\":{\"axis\":{\"id\":\"2813\"},\"coordinates\":null,\"dimension\":1,\"group\":null,\"ticker\":null},\"id\":\"2816\",\"type\":\"Grid\"},{\"attributes\":{},\"id\":\"2939\",\"type\":\"UnionRenderers\"},{\"attributes\":{},\"id\":\"2805\",\"type\":\"LinearScale\"},{\"attributes\":{},\"id\":\"2817\",\"type\":\"PanTool\"},{\"attributes\":{\"axis_label\":\"fat (g)\",\"coordinates\":null,\"formatter\":{\"id\":\"2937\"},\"group\":null,\"major_label_policy\":{\"id\":\"2938\"},\"ticker\":{\"id\":\"2837\"}},\"id\":\"2809\",\"type\":\"LinearAxis\"},{\"attributes\":{\"coordinates\":null,\"group\":null,\"text\":\"# cereals x fat\"},\"id\":\"2841\",\"type\":\"Title\"},{\"attributes\":{\"axis\":{\"id\":\"2809\"},\"coordinates\":null,\"group\":null,\"ticker\":null},\"id\":\"2812\",\"type\":\"Grid\"},{\"attributes\":{\"ticks\":[0,1,2,3,4,5,6]},\"id\":\"2837\",\"type\":\"FixedTicker\"},{\"attributes\":{\"axis_label\":\"number of cereals\",\"coordinates\":null,\"formatter\":{\"id\":\"2935\"},\"group\":null,\"major_label_policy\":{\"id\":\"2936\"},\"ticker\":{\"id\":\"2839\"}},\"id\":\"2813\",\"type\":\"LinearAxis\"},{\"attributes\":{},\"id\":\"2936\",\"type\":\"AllLabels\"},{\"attributes\":{},\"id\":\"2937\",\"type\":\"BasicTickFormatter\"},{\"attributes\":{},\"id\":\"2818\",\"type\":\"WheelZoomTool\"},{\"attributes\":{\"end\":7,\"start\":-1},\"id\":\"2801\",\"type\":\"Range1d\"},{\"attributes\":{\"fill_alpha\":{\"value\":0.5},\"fill_color\":{\"field\":\"fill_color\"},\"hatch_alpha\":{\"value\":0.5},\"hatch_color\":{\"field\":\"hatch_color\"},\"line_alpha\":{\"value\":0.5},\"line_color\":{\"field\":\"line_color\"},\"size\":{\"value\":10},\"x\":{\"field\":\"x\"},\"y\":{\"field\":\"y\"}},\"id\":\"2832\",\"type\":\"Circle\"},{\"attributes\":{\"coordinates\":null,\"data_source\":{\"id\":\"2831\"},\"glyph\":{\"id\":\"2832\"},\"group\":null,\"hover_glyph\":null,\"muted_glyph\":{\"id\":\"2834\"},\"nonselection_glyph\":{\"id\":\"2833\"},\"view\":{\"id\":\"2836\"}},\"id\":\"2835\",\"type\":\"GlyphRenderer\"},{\"attributes\":{},\"id\":\"2938\",\"type\":\"AllLabels\"},{\"attributes\":{},\"id\":\"2935\",\"type\":\"BasicTickFormatter\"},{\"attributes\":{\"source\":{\"id\":\"2831\"}},\"id\":\"2836\",\"type\":\"CDSView\"},{\"attributes\":{},\"id\":\"2803\",\"type\":\"DataRange1d\"},{\"attributes\":{\"tools\":[{\"id\":\"2817\"},{\"id\":\"2818\"},{\"id\":\"2819\"},{\"id\":\"2820\"},{\"id\":\"2821\"},{\"id\":\"2822\"}]},\"id\":\"2824\",\"type\":\"Toolbar\"},{\"attributes\":{\"fill_alpha\":{\"value\":0.2},\"fill_color\":{\"field\":\"fill_color\"},\"hatch_alpha\":{\"value\":0.2},\"hatch_color\":{\"field\":\"hatch_color\"},\"line_alpha\":{\"value\":0.2},\"line_color\":{\"field\":\"line_color\"},\"size\":{\"value\":10},\"x\":{\"field\":\"x\"},\"y\":{\"field\":\"y\"}},\"id\":\"2834\",\"type\":\"Circle\"},{\"attributes\":{},\"id\":\"2822\",\"type\":\"HelpTool\"},{\"attributes\":{\"fill_alpha\":{\"value\":0.1},\"fill_color\":{\"field\":\"fill_color\"},\"hatch_alpha\":{\"value\":0.1},\"hatch_color\":{\"field\":\"hatch_color\"},\"line_alpha\":{\"value\":0.1},\"line_color\":{\"field\":\"line_color\"},\"size\":{\"value\":10},\"x\":{\"field\":\"x\"},\"y\":{\"field\":\"y\"}},\"id\":\"2833\",\"type\":\"Circle\"},{\"attributes\":{},\"id\":\"2807\",\"type\":\"LinearScale\"},{\"attributes\":{\"bottom_units\":\"screen\",\"coordinates\":null,\"fill_alpha\":0.5,\"fill_color\":\"lightgrey\",\"group\":null,\"left_units\":\"screen\",\"level\":\"overlay\",\"line_alpha\":1.0,\"line_color\":\"black\",\"line_dash\":[4,4],\"line_width\":2,\"right_units\":\"screen\",\"syncable\":false,\"top_units\":\"screen\"},\"id\":\"2823\",\"type\":\"BoxAnnotation\"},{\"attributes\":{},\"id\":\"2821\",\"type\":\"ResetTool\"},{\"attributes\":{\"data\":{\"fill_color\":[\"hotpink\",\"hotpink\",\"hotpink\",\"hotpink\",\"hotpink\",\"hotpink\",\"lightgray\",\"lightgray\",\"lightgray\",\"lightgray\",\"lightgray\",\"lightgray\",\"lightgray\",\"lightgray\",\"lightgray\",\"lightgray\",\"lightgray\",\"lightgray\",\"lightgray\",\"lightgray\",\"lightgray\",\"lightgray\",\"lightgray\",\"lightgray\",\"lightgray\",\"lightgray\",\"lightgray\",\"lightgray\",\"lightgray\",\"lightgray\",\"lightgray\",\"lightgray\",\"lightgray\",\"lightgray\",\"lightgray\",\"lightgray\",\"lightgray\",\"lightgray\",\"lightgray\",\"lightgray\",\"lightgray\",\"lightgray\",\"lightgray\",\"lightgray\",\"lightgray\",\"lightgray\",\"lightgray\",\"lightgray\",\"lightgray\",\"lightgray\",\"lightgray\",\"lightgray\",\"lightgray\",\"lightgray\",\"lightgray\",\"lightgray\",\"lightgray\",\"lightgray\",\"lightgray\",\"lightgray\",\"lightgray\",\"lightgray\",\"lightgray\",\"lightgray\",\"lightgray\",\"lightgray\",\"lightgray\",\"lightgray\",\"lightgray\",\"lightgray\",\"lightgray\",\"lightgray\",\"lightgray\",\"lightgray\"],\"hatch_color\":[\"hotpink\",\"hotpink\",\"hotpink\",\"hotpink\",\"hotpink\",\"hotpink\",\"lightgray\",\"lightgray\",\"lightgray\",\"lightgray\",\"lightgray\",\"lightgray\",\"lightgray\",\"lightgray\",\"lightgray\",\"lightgray\",\"lightgray\",\"lightgray\",\"lightgray\",\"lightgray\",\"lightgray\",\"lightgray\",\"lightgray\",\"lightgray\",\"lightgray\",\"lightgray\",\"lightgray\",\"lightgray\",\"lightgray\",\"lightgray\",\"lightgray\",\"lightgray\",\"lightgray\",\"lightgray\",\"lightgray\",\"lightgray\",\"lightgray\",\"lightgray\",\"lightgray\",\"lightgray\",\"lightgray\",\"lightgray\",\"lightgray\",\"lightgray\",\"lightgray\",\"lightgray\",\"lightgray\",\"lightgray\",\"lightgray\",\"lightgray\",\"lightgray\",\"lightgray\",\"lightgray\",\"lightgray\",\"lightgray\",\"lightgray\",\"lightgray\",\"lightgray\",\"lightgray\",\"lightgray\",\"lightgray\",\"lightgray\",\"lightgray\",\"lightgray\",\"lightgray\",\"lightgray\",\"lightgray\",\"lightgray\",\"lightgray\",\"lightgray\",\"lightgray\",\"lightgray\",\"lightgray\",\"lightgray\"],\"line_color\":[\"hotpink\",\"hotpink\",\"hotpink\",\"hotpink\",\"hotpink\",\"hotpink\",\"lightgray\",\"lightgray\",\"lightgray\",\"lightgray\",\"lightgray\",\"lightgray\",\"lightgray\",\"lightgray\",\"lightgray\",\"lightgray\",\"lightgray\",\"lightgray\",\"lightgray\",\"lightgray\",\"lightgray\",\"lightgray\",\"lightgray\",\"lightgray\",\"lightgray\",\"lightgray\",\"lightgray\",\"lightgray\",\"lightgray\",\"lightgray\",\"lightgray\",\"lightgray\",\"lightgray\",\"lightgray\",\"lightgray\",\"lightgray\",\"lightgray\",\"lightgray\",\"lightgray\",\"lightgray\",\"lightgray\",\"lightgray\",\"lightgray\",\"lightgray\",\"lightgray\",\"lightgray\",\"lightgray\",\"lightgray\",\"lightgray\",\"lightgray\",\"lightgray\",\"lightgray\",\"lightgray\",\"lightgray\",\"lightgray\",\"lightgray\",\"lightgray\",\"lightgray\",\"lightgray\",\"lightgray\",\"lightgray\",\"lightgray\",\"lightgray\",\"lightgray\",\"lightgray\",\"lightgray\",\"lightgray\",\"lightgray\",\"lightgray\",\"lightgray\",\"lightgray\",\"lightgray\",\"lightgray\",\"lightgray\"],\"x\":{\"__ndarray__\":\"AAAAAAAAAAAAAAAAAAAAAAAAAAAAAAAAAAAAAAAAAAAAAAAAAAAAAAAAAAAAAAAAAAAAAAAAAEAAAAAAAAAAAAAAAAAAAAAAAAAAAAAAAAAAAAAAAADwPwAAAAAAAAAAAAAAAAAA8D8AAAAAAADwPwAAAAAAAPA/AAAAAAAAAAAAAAAAAAAAAAAAAAAAAPA/AAAAAAAA8D8AAAAAAADwPwAAAAAAAAAAAAAAAAAAAAAAAAAAAAAAAAAAAAAAAAhAAAAAAAAAAAAAAAAAAADwPwAAAAAAAAAAAAAAAAAAAAAAAAAAAADwPwAAAAAAAAAAAAAAAAAA8D8AAAAAAADwPwAAAAAAAABAAAAAAAAA8D8AAAAAAADwPwAAAAAAAPA/AAAAAAAAAAAAAAAAAAAAQAAAAAAAAAhAAAAAAAAAAEAAAAAAAAAUQAAAAAAAAABAAAAAAAAA8D8AAAAAAAAAQAAAAAAAAPA/AAAAAAAA8D8AAAAAAAAIQAAAAAAAAPA/AAAAAAAA8D8AAAAAAAAAQAAAAAAAAABAAAAAAAAAAEAAAAAAAADwPwAAAAAAAAhAAAAAAAAACEAAAAAAAAAAAAAAAAAAAAAAAAAAAAAAAEAAAAAAAAAAAAAAAAAAAPA/AAAAAAAA8D8AAAAAAADwPwAAAAAAAPA/AAAAAAAAAEAAAAAAAAAAAAAAAAAAAPA/AAAAAAAAAEAAAAAAAADwPwAAAAAAAPA/AAAAAAAAAAAAAAAAAADwPwAAAAAAAPA/AAAAAAAAAAAAAAAAAADwPw==\",\"dtype\":\"float64\",\"order\":\"little\",\"shape\":[74]},\"y\":[26,25,24,23,22,21,12,20,19,18,30,17,29,28,27,16,15,26,25,24,14,13,12,5,11,23,10,9,22,8,21,20,11,19,18,17,7,10,4,9,1,8,16,7,15,14,3,13,12,6,5,4,11,2,1,6,5,3,4,10,9,8,7,2,3,6,1,5,4,2,3,2,1,1]},\"selected\":{\"id\":\"2940\"},\"selection_policy\":{\"id\":\"2939\"}},\"id\":\"2831\",\"type\":\"ColumnDataSource\"},{\"attributes\":{\"overlay\":{\"id\":\"2823\"}},\"id\":\"2819\",\"type\":\"BoxZoomTool\"},{\"attributes\":{\"ticks\":[5,10,15,20,25,30,35,40]},\"id\":\"2839\",\"type\":\"FixedTicker\"},{\"attributes\":{},\"id\":\"2940\",\"type\":\"Selection\"},{\"attributes\":{},\"id\":\"2820\",\"type\":\"SaveTool\"}],\"root_ids\":[\"2800\"]},\"title\":\"Bokeh Application\",\"version\":\"2.4.0\"}};\n",
       "  const render_items = [{\"docid\":\"a030747d-74c2-4289-9728-d79282651590\",\"root_ids\":[\"2800\"],\"roots\":{\"2800\":\"2a023117-dcec-4ccb-98db-fabeae1d3742\"}}];\n",
       "  root.Bokeh.embed.embed_items_notebook(docs_json, render_items);\n",
       "\n",
       "  }\n",
       "  if (root.Bokeh !== undefined) {\n",
       "    embed_document(root);\n",
       "  } else {\n",
       "    let attempts = 0;\n",
       "    const timer = setInterval(function(root) {\n",
       "      if (root.Bokeh !== undefined) {\n",
       "        clearInterval(timer);\n",
       "        embed_document(root);\n",
       "      } else {\n",
       "        attempts++;\n",
       "        if (attempts > 100) {\n",
       "          clearInterval(timer);\n",
       "          console.log(\"Bokeh: ERROR: Unable to run BokehJS code because BokehJS library is missing\");\n",
       "        }\n",
       "      }\n",
       "    }, 10, root)\n",
       "  }\n",
       "})(window);"
      ],
      "application/vnd.bokehjs_exec.v0+json": ""
     },
     "metadata": {
      "application/vnd.bokehjs_exec.v0+json": {
       "id": "2800"
      }
     },
     "output_type": "display_data"
    }
   ],
   "source": [
    "show(plot_dist_nutrients('fat'))"
   ]
  },
  {
   "cell_type": "markdown",
   "id": "f45ee96c",
   "metadata": {},
   "source": [
    "The recommended cereals don't have any fat.  All of the recommended cereals are shown (in pink) within the distribution of cereal's fat."
   ]
  },
  {
   "cell_type": "code",
   "execution_count": 36,
   "id": "400167e0",
   "metadata": {},
   "outputs": [
    {
     "data": {
      "text/html": [
       "\n",
       "\n",
       "\n",
       "\n",
       "\n",
       "\n",
       "  <div class=\"bk-root\" id=\"afec190a-b01e-4b29-9675-80b9970e6f29\" data-root-id=\"2982\"></div>\n"
      ]
     },
     "metadata": {},
     "output_type": "display_data"
    },
    {
     "data": {
      "application/javascript": [
       "(function(root) {\n",
       "  function embed_document(root) {\n",
       "    \n",
       "  const docs_json = {\"e41d8690-ee62-449f-a827-7eb717ed7f76\":{\"defs\":[],\"roots\":{\"references\":[{\"attributes\":{\"below\":[{\"id\":\"2991\"}],\"center\":[{\"id\":\"2994\"},{\"id\":\"2998\"}],\"height\":250,\"left\":[{\"id\":\"2995\"}],\"renderers\":[{\"id\":\"3017\"}],\"title\":{\"id\":\"3023\"},\"toolbar\":{\"id\":\"3006\"},\"toolbar_location\":null,\"width\":200,\"x_range\":{\"id\":\"2983\"},\"x_scale\":{\"id\":\"2987\"},\"y_range\":{\"id\":\"2985\"},\"y_scale\":{\"id\":\"2989\"}},\"id\":\"2982\",\"subtype\":\"Figure\",\"type\":\"Plot\"},{\"attributes\":{},\"id\":\"2987\",\"type\":\"LinearScale\"},{\"attributes\":{\"coordinates\":null,\"group\":null,\"text\":\"# cereals x sugars\"},\"id\":\"3023\",\"type\":\"Title\"},{\"attributes\":{\"end\":7,\"start\":-1},\"id\":\"2983\",\"type\":\"Range1d\"},{\"attributes\":{\"overlay\":{\"id\":\"3005\"}},\"id\":\"3001\",\"type\":\"BoxZoomTool\"},{\"attributes\":{},\"id\":\"3002\",\"type\":\"SaveTool\"},{\"attributes\":{},\"id\":\"3000\",\"type\":\"WheelZoomTool\"},{\"attributes\":{\"axis_label\":\"sugars (x4g)\",\"coordinates\":null,\"formatter\":{\"id\":\"3127\"},\"group\":null,\"major_label_policy\":{\"id\":\"3128\"},\"ticker\":{\"id\":\"3019\"}},\"id\":\"2991\",\"type\":\"LinearAxis\"},{\"attributes\":{\"source\":{\"id\":\"3013\"}},\"id\":\"3018\",\"type\":\"CDSView\"},{\"attributes\":{},\"id\":\"3003\",\"type\":\"ResetTool\"},{\"attributes\":{},\"id\":\"2985\",\"type\":\"DataRange1d\"},{\"attributes\":{},\"id\":\"2999\",\"type\":\"PanTool\"},{\"attributes\":{\"ticks\":[5,10,15,20,25,30,35,40]},\"id\":\"3021\",\"type\":\"FixedTicker\"},{\"attributes\":{\"axis_label\":\"number of cereals\",\"coordinates\":null,\"formatter\":{\"id\":\"3125\"},\"group\":null,\"major_label_policy\":{\"id\":\"3126\"},\"ticker\":{\"id\":\"3021\"}},\"id\":\"2995\",\"type\":\"LinearAxis\"},{\"attributes\":{\"axis\":{\"id\":\"2991\"},\"coordinates\":null,\"group\":null,\"ticker\":null},\"id\":\"2994\",\"type\":\"Grid\"},{\"attributes\":{},\"id\":\"3004\",\"type\":\"HelpTool\"},{\"attributes\":{},\"id\":\"3127\",\"type\":\"BasicTickFormatter\"},{\"attributes\":{\"tools\":[{\"id\":\"2999\"},{\"id\":\"3000\"},{\"id\":\"3001\"},{\"id\":\"3002\"},{\"id\":\"3003\"},{\"id\":\"3004\"}]},\"id\":\"3006\",\"type\":\"Toolbar\"},{\"attributes\":{\"axis\":{\"id\":\"2995\"},\"coordinates\":null,\"dimension\":1,\"group\":null,\"ticker\":null},\"id\":\"2998\",\"type\":\"Grid\"},{\"attributes\":{\"fill_alpha\":{\"value\":0.2},\"fill_color\":{\"field\":\"fill_color\"},\"hatch_alpha\":{\"value\":0.2},\"hatch_color\":{\"field\":\"hatch_color\"},\"line_alpha\":{\"value\":0.2},\"line_color\":{\"field\":\"line_color\"},\"size\":{\"value\":10},\"x\":{\"field\":\"x\"},\"y\":{\"field\":\"y\"}},\"id\":\"3016\",\"type\":\"Circle\"},{\"attributes\":{\"ticks\":[0,1,2,3,4,5,6]},\"id\":\"3019\",\"type\":\"FixedTicker\"},{\"attributes\":{\"fill_alpha\":{\"value\":0.1},\"fill_color\":{\"field\":\"fill_color\"},\"hatch_alpha\":{\"value\":0.1},\"hatch_color\":{\"field\":\"hatch_color\"},\"line_alpha\":{\"value\":0.1},\"line_color\":{\"field\":\"line_color\"},\"size\":{\"value\":10},\"x\":{\"field\":\"x\"},\"y\":{\"field\":\"y\"}},\"id\":\"3015\",\"type\":\"Circle\"},{\"attributes\":{},\"id\":\"3128\",\"type\":\"AllLabels\"},{\"attributes\":{\"data\":{\"fill_color\":[\"hotpink\",\"hotpink\",\"hotpink\",\"hotpink\",\"hotpink\",\"hotpink\",\"lightgray\",\"lightgray\",\"lightgray\",\"lightgray\",\"lightgray\",\"lightgray\",\"lightgray\",\"lightgray\",\"lightgray\",\"lightgray\",\"lightgray\",\"lightgray\",\"lightgray\",\"lightgray\",\"lightgray\",\"lightgray\",\"lightgray\",\"lightgray\",\"lightgray\",\"lightgray\",\"lightgray\",\"lightgray\",\"lightgray\",\"lightgray\",\"lightgray\",\"lightgray\",\"lightgray\",\"lightgray\",\"lightgray\",\"lightgray\",\"lightgray\",\"lightgray\",\"lightgray\",\"lightgray\",\"lightgray\",\"lightgray\",\"lightgray\",\"lightgray\",\"lightgray\",\"lightgray\",\"lightgray\",\"lightgray\",\"lightgray\",\"lightgray\",\"lightgray\",\"lightgray\",\"lightgray\",\"lightgray\",\"lightgray\",\"lightgray\",\"lightgray\",\"lightgray\",\"lightgray\",\"lightgray\",\"lightgray\",\"lightgray\",\"lightgray\",\"lightgray\",\"lightgray\",\"lightgray\",\"lightgray\",\"lightgray\",\"lightgray\",\"lightgray\",\"lightgray\",\"lightgray\",\"lightgray\",\"lightgray\"],\"hatch_color\":[\"hotpink\",\"hotpink\",\"hotpink\",\"hotpink\",\"hotpink\",\"hotpink\",\"lightgray\",\"lightgray\",\"lightgray\",\"lightgray\",\"lightgray\",\"lightgray\",\"lightgray\",\"lightgray\",\"lightgray\",\"lightgray\",\"lightgray\",\"lightgray\",\"lightgray\",\"lightgray\",\"lightgray\",\"lightgray\",\"lightgray\",\"lightgray\",\"lightgray\",\"lightgray\",\"lightgray\",\"lightgray\",\"lightgray\",\"lightgray\",\"lightgray\",\"lightgray\",\"lightgray\",\"lightgray\",\"lightgray\",\"lightgray\",\"lightgray\",\"lightgray\",\"lightgray\",\"lightgray\",\"lightgray\",\"lightgray\",\"lightgray\",\"lightgray\",\"lightgray\",\"lightgray\",\"lightgray\",\"lightgray\",\"lightgray\",\"lightgray\",\"lightgray\",\"lightgray\",\"lightgray\",\"lightgray\",\"lightgray\",\"lightgray\",\"lightgray\",\"lightgray\",\"lightgray\",\"lightgray\",\"lightgray\",\"lightgray\",\"lightgray\",\"lightgray\",\"lightgray\",\"lightgray\",\"lightgray\",\"lightgray\",\"lightgray\",\"lightgray\",\"lightgray\",\"lightgray\",\"lightgray\",\"lightgray\"],\"line_color\":[\"hotpink\",\"hotpink\",\"hotpink\",\"hotpink\",\"hotpink\",\"hotpink\",\"lightgray\",\"lightgray\",\"lightgray\",\"lightgray\",\"lightgray\",\"lightgray\",\"lightgray\",\"lightgray\",\"lightgray\",\"lightgray\",\"lightgray\",\"lightgray\",\"lightgray\",\"lightgray\",\"lightgray\",\"lightgray\",\"lightgray\",\"lightgray\",\"lightgray\",\"lightgray\",\"lightgray\",\"lightgray\",\"lightgray\",\"lightgray\",\"lightgray\",\"lightgray\",\"lightgray\",\"lightgray\",\"lightgray\",\"lightgray\",\"lightgray\",\"lightgray\",\"lightgray\",\"lightgray\",\"lightgray\",\"lightgray\",\"lightgray\",\"lightgray\",\"lightgray\",\"lightgray\",\"lightgray\",\"lightgray\",\"lightgray\",\"lightgray\",\"lightgray\",\"lightgray\",\"lightgray\",\"lightgray\",\"lightgray\",\"lightgray\",\"lightgray\",\"lightgray\",\"lightgray\",\"lightgray\",\"lightgray\",\"lightgray\",\"lightgray\",\"lightgray\",\"lightgray\",\"lightgray\",\"lightgray\",\"lightgray\",\"lightgray\",\"lightgray\",\"lightgray\",\"lightgray\",\"lightgray\",\"lightgray\"],\"x\":{\"__ndarray__\":\"AAAAAAAAAAAAAAAAAAAAAAAAAAAAAAAAAAAAAAAAAAAAAAAAAAAAAAAAAAAAAAAAAAAAAAAA0D8AAAAAAADgPwAAAAAAAOA/AAAAAAAA4D8AAAAAAADoPwAAAAAAAOg/AAAAAAAA6D8AAAAAAADoPwAAAAAAAOg/AAAAAAAA6D8AAAAAAADoPwAAAAAAAOg/AAAAAAAA6D8AAAAAAADoPwAAAAAAAOg/AAAAAAAA6D8AAAAAAADoPwAAAAAAAPA/AAAAAAAA9D8AAAAAAAD0PwAAAAAAAPQ/AAAAAAAA9D8AAAAAAAD0PwAAAAAAAPg/AAAAAAAA+D8AAAAAAAD4PwAAAAAAAPg/AAAAAAAA+D8AAAAAAAD4PwAAAAAAAPg/AAAAAAAA/D8AAAAAAAD8PwAAAAAAAPw/AAAAAAAA/D8AAAAAAAAAQAAAAAAAAABAAAAAAAAAAEAAAAAAAAAAQAAAAAAAAAJAAAAAAAAAAkAAAAAAAAACQAAAAAAAAAJAAAAAAAAABEAAAAAAAAAEQAAAAAAAAARAAAAAAAAABEAAAAAAAAAEQAAAAAAAAAZAAAAAAAAABkAAAAAAAAAGQAAAAAAAAAZAAAAAAAAABkAAAAAAAAAIQAAAAAAAAAhAAAAAAAAACEAAAAAAAAAIQAAAAAAAAAhAAAAAAAAACEAAAAAAAAAIQAAAAAAAAApAAAAAAAAACkAAAAAAAAAKQAAAAAAAAApAAAAAAAAADEAAAAAAAAAMQAAAAAAAAAxAAAAAAAAADkAAAAAAAAAOQA==\",\"dtype\":\"float64\",\"order\":\"little\",\"shape\":[74]},\"y\":[6,5,4,3,2,1,1,3,2,1,13,12,11,10,9,8,7,6,5,4,3,2,1,1,5,4,3,2,1,7,6,5,4,3,2,1,4,3,2,1,4,3,2,1,4,3,2,1,5,4,3,2,1,5,4,3,2,1,7,6,5,4,3,2,1,4,3,2,1,3,2,1,2,1]},\"selected\":{\"id\":\"3130\"},\"selection_policy\":{\"id\":\"3129\"}},\"id\":\"3013\",\"type\":\"ColumnDataSource\"},{\"attributes\":{},\"id\":\"3126\",\"type\":\"AllLabels\"},{\"attributes\":{},\"id\":\"3125\",\"type\":\"BasicTickFormatter\"},{\"attributes\":{},\"id\":\"3130\",\"type\":\"Selection\"},{\"attributes\":{},\"id\":\"2989\",\"type\":\"LinearScale\"},{\"attributes\":{},\"id\":\"3129\",\"type\":\"UnionRenderers\"},{\"attributes\":{\"bottom_units\":\"screen\",\"coordinates\":null,\"fill_alpha\":0.5,\"fill_color\":\"lightgrey\",\"group\":null,\"left_units\":\"screen\",\"level\":\"overlay\",\"line_alpha\":1.0,\"line_color\":\"black\",\"line_dash\":[4,4],\"line_width\":2,\"right_units\":\"screen\",\"syncable\":false,\"top_units\":\"screen\"},\"id\":\"3005\",\"type\":\"BoxAnnotation\"},{\"attributes\":{\"fill_alpha\":{\"value\":0.5},\"fill_color\":{\"field\":\"fill_color\"},\"hatch_alpha\":{\"value\":0.5},\"hatch_color\":{\"field\":\"hatch_color\"},\"line_alpha\":{\"value\":0.5},\"line_color\":{\"field\":\"line_color\"},\"size\":{\"value\":10},\"x\":{\"field\":\"x\"},\"y\":{\"field\":\"y\"}},\"id\":\"3014\",\"type\":\"Circle\"},{\"attributes\":{\"coordinates\":null,\"data_source\":{\"id\":\"3013\"},\"glyph\":{\"id\":\"3014\"},\"group\":null,\"hover_glyph\":null,\"muted_glyph\":{\"id\":\"3016\"},\"nonselection_glyph\":{\"id\":\"3015\"},\"view\":{\"id\":\"3018\"}},\"id\":\"3017\",\"type\":\"GlyphRenderer\"}],\"root_ids\":[\"2982\"]},\"title\":\"Bokeh Application\",\"version\":\"2.4.0\"}};\n",
       "  const render_items = [{\"docid\":\"e41d8690-ee62-449f-a827-7eb717ed7f76\",\"root_ids\":[\"2982\"],\"roots\":{\"2982\":\"afec190a-b01e-4b29-9675-80b9970e6f29\"}}];\n",
       "  root.Bokeh.embed.embed_items_notebook(docs_json, render_items);\n",
       "\n",
       "  }\n",
       "  if (root.Bokeh !== undefined) {\n",
       "    embed_document(root);\n",
       "  } else {\n",
       "    let attempts = 0;\n",
       "    const timer = setInterval(function(root) {\n",
       "      if (root.Bokeh !== undefined) {\n",
       "        clearInterval(timer);\n",
       "        embed_document(root);\n",
       "      } else {\n",
       "        attempts++;\n",
       "        if (attempts > 100) {\n",
       "          clearInterval(timer);\n",
       "          console.log(\"Bokeh: ERROR: Unable to run BokehJS code because BokehJS library is missing\");\n",
       "        }\n",
       "      }\n",
       "    }, 10, root)\n",
       "  }\n",
       "})(window);"
      ],
      "application/vnd.bokehjs_exec.v0+json": ""
     },
     "metadata": {
      "application/vnd.bokehjs_exec.v0+json": {
       "id": "2982"
      }
     },
     "output_type": "display_data"
    }
   ],
   "source": [
    "p=plot_dist_nutrients('sugars')\n",
    "show(p)"
   ]
  },
  {
   "cell_type": "markdown",
   "id": "bb5a038f",
   "metadata": {},
   "source": [
    "The recommended cereals don't have any sugar. In contrast, the other cereals have 4-16g of sugar/serving."
   ]
  },
  {
   "cell_type": "code",
   "execution_count": 37,
   "id": "610187f6",
   "metadata": {},
   "outputs": [
    {
     "data": {
      "text/html": [
       "\n",
       "\n",
       "\n",
       "\n",
       "\n",
       "\n",
       "  <div class=\"bk-root\" id=\"3866d931-17c9-4b3a-bb99-8884380a9880\" data-root-id=\"3172\"></div>\n"
      ]
     },
     "metadata": {},
     "output_type": "display_data"
    },
    {
     "data": {
      "application/javascript": [
       "(function(root) {\n",
       "  function embed_document(root) {\n",
       "    \n",
       "  const docs_json = {\"1c979a25-1d8c-4edb-9ebb-7f69e2aee76e\":{\"defs\":[],\"roots\":{\"references\":[{\"attributes\":{\"below\":[{\"id\":\"3181\"}],\"center\":[{\"id\":\"3184\"},{\"id\":\"3188\"}],\"height\":250,\"left\":[{\"id\":\"3185\"}],\"renderers\":[{\"id\":\"3207\"}],\"title\":{\"id\":\"3213\"},\"toolbar\":{\"id\":\"3196\"},\"toolbar_location\":null,\"width\":200,\"x_range\":{\"id\":\"3173\"},\"x_scale\":{\"id\":\"3177\"},\"y_range\":{\"id\":\"3175\"},\"y_scale\":{\"id\":\"3179\"}},\"id\":\"3172\",\"subtype\":\"Figure\",\"type\":\"Plot\"},{\"attributes\":{},\"id\":\"3192\",\"type\":\"SaveTool\"},{\"attributes\":{\"overlay\":{\"id\":\"3195\"}},\"id\":\"3191\",\"type\":\"BoxZoomTool\"},{\"attributes\":{\"ticks\":[5,10,15,20,25,30,35,40]},\"id\":\"3211\",\"type\":\"FixedTicker\"},{\"attributes\":{\"axis\":{\"id\":\"3181\"},\"coordinates\":null,\"group\":null,\"ticker\":null},\"id\":\"3184\",\"type\":\"Grid\"},{\"attributes\":{\"data\":{\"fill_color\":[\"hotpink\",\"hotpink\",\"hotpink\",\"hotpink\",\"hotpink\",\"hotpink\",\"lightgray\",\"lightgray\",\"lightgray\",\"lightgray\",\"lightgray\",\"lightgray\",\"lightgray\",\"lightgray\",\"lightgray\",\"lightgray\",\"lightgray\",\"lightgray\",\"lightgray\",\"lightgray\",\"lightgray\",\"lightgray\",\"lightgray\",\"lightgray\",\"lightgray\",\"lightgray\",\"lightgray\",\"lightgray\",\"lightgray\",\"lightgray\",\"lightgray\",\"lightgray\",\"lightgray\",\"lightgray\",\"lightgray\",\"lightgray\",\"lightgray\",\"lightgray\",\"lightgray\",\"lightgray\",\"lightgray\",\"lightgray\",\"lightgray\",\"lightgray\",\"lightgray\",\"lightgray\",\"lightgray\",\"lightgray\",\"lightgray\",\"lightgray\",\"lightgray\",\"lightgray\",\"lightgray\",\"lightgray\",\"lightgray\",\"lightgray\",\"lightgray\",\"lightgray\",\"lightgray\",\"lightgray\",\"lightgray\",\"lightgray\",\"lightgray\",\"lightgray\",\"lightgray\",\"lightgray\",\"lightgray\",\"lightgray\",\"lightgray\",\"lightgray\",\"lightgray\",\"lightgray\",\"lightgray\",\"lightgray\"],\"hatch_color\":[\"hotpink\",\"hotpink\",\"hotpink\",\"hotpink\",\"hotpink\",\"hotpink\",\"lightgray\",\"lightgray\",\"lightgray\",\"lightgray\",\"lightgray\",\"lightgray\",\"lightgray\",\"lightgray\",\"lightgray\",\"lightgray\",\"lightgray\",\"lightgray\",\"lightgray\",\"lightgray\",\"lightgray\",\"lightgray\",\"lightgray\",\"lightgray\",\"lightgray\",\"lightgray\",\"lightgray\",\"lightgray\",\"lightgray\",\"lightgray\",\"lightgray\",\"lightgray\",\"lightgray\",\"lightgray\",\"lightgray\",\"lightgray\",\"lightgray\",\"lightgray\",\"lightgray\",\"lightgray\",\"lightgray\",\"lightgray\",\"lightgray\",\"lightgray\",\"lightgray\",\"lightgray\",\"lightgray\",\"lightgray\",\"lightgray\",\"lightgray\",\"lightgray\",\"lightgray\",\"lightgray\",\"lightgray\",\"lightgray\",\"lightgray\",\"lightgray\",\"lightgray\",\"lightgray\",\"lightgray\",\"lightgray\",\"lightgray\",\"lightgray\",\"lightgray\",\"lightgray\",\"lightgray\",\"lightgray\",\"lightgray\",\"lightgray\",\"lightgray\",\"lightgray\",\"lightgray\",\"lightgray\",\"lightgray\"],\"line_color\":[\"hotpink\",\"hotpink\",\"hotpink\",\"hotpink\",\"hotpink\",\"hotpink\",\"lightgray\",\"lightgray\",\"lightgray\",\"lightgray\",\"lightgray\",\"lightgray\",\"lightgray\",\"lightgray\",\"lightgray\",\"lightgray\",\"lightgray\",\"lightgray\",\"lightgray\",\"lightgray\",\"lightgray\",\"lightgray\",\"lightgray\",\"lightgray\",\"lightgray\",\"lightgray\",\"lightgray\",\"lightgray\",\"lightgray\",\"lightgray\",\"lightgray\",\"lightgray\",\"lightgray\",\"lightgray\",\"lightgray\",\"lightgray\",\"lightgray\",\"lightgray\",\"lightgray\",\"lightgray\",\"lightgray\",\"lightgray\",\"lightgray\",\"lightgray\",\"lightgray\",\"lightgray\",\"lightgray\",\"lightgray\",\"lightgray\",\"lightgray\",\"lightgray\",\"lightgray\",\"lightgray\",\"lightgray\",\"lightgray\",\"lightgray\",\"lightgray\",\"lightgray\",\"lightgray\",\"lightgray\",\"lightgray\",\"lightgray\",\"lightgray\",\"lightgray\",\"lightgray\",\"lightgray\",\"lightgray\",\"lightgray\",\"lightgray\",\"lightgray\",\"lightgray\",\"lightgray\",\"lightgray\",\"lightgray\"],\"x\":{\"__ndarray__\":\"AAAAAAAAAAAAAAAAAAAAAAAAAAAAAAAAAAAAAAAAAAAAAAAAAAAAAAAAAAAAAPw/AAAAAAAADUAAAAAAAAABQAAAAAAAAAhAAAAAAAAADUAAAAAAAAAAAAAAAAAAAAFAAAAAAAAABEAAAAAAAAAEQAAAAAAAAARAAAAAAAAABkAAAAAAAAAHQAAAAAAAAAdAAAAAAAAACUAAAAAAAAAKQAAAAAAAAAxAAAAAAAAADUAAAAAAAAAQQAAAAAAAAO4/AAAAAAAAyD8AAAAAAAD8PwAAAAAAAANAAAAAAAAABUAAAAAAAAAKQAAAAAAAAAAAAAAAAAAA+j8AAAAAAAD7PwAAAAAAAP4/AAAAAAAAAUAAAAAAAAAEQAAAAAAAAAZAAAAAAAAAAAAAAAAAAAD8PwAAAAAAAPw/AAAAAAAABkAAAAAAAADIPwAAAAAAAPw/AAAAAAAABEAAAAAAAAAFQAAAAAAAAAFAAAAAAAAAA0AAAAAAAAAFQAAAAAAAAAxAAAAAAAAA/D8AAAAAAAAAQAAAAAAAAAFAAAAAAAAAAkAAAAAAAAAJQAAAAAAAAPM/AAAAAAAA/j8AAAAAAAACQAAAAAAAAARAAAAAAAAABkAAAAAAAADyPwAAAAAAAPs/AAAAAAAA/D8AAAAAAAACQAAAAAAAAAVAAAAAAAAABkAAAAAAAAAIQAAAAAAAAPk/AAAAAAAA/j8AAAAAAAACQAAAAAAAAAJAAAAAAAAA+T8AAAAAAAADQAAAAAAAAARAAAAAAAAA4j8AAAAAAADsPw==\",\"dtype\":\"float64\",\"order\":\"little\",\"shape\":[74]},\"y\":[8,7,6,5,4,7,3,5,2,2,3,4,7,6,5,5,2,1,2,2,2,1,1,1,2,6,3,4,1,2,1,2,3,3,4,4,1,5,4,3,1,3,3,3,2,2,2,1,2,1,1,5,1,1,2,4,2,2,1,1,1,3,1,1,1,2,1,2,1,1,1,1,1,1]},\"selected\":{\"id\":\"3328\"},\"selection_policy\":{\"id\":\"3327\"}},\"id\":\"3203\",\"type\":\"ColumnDataSource\"},{\"attributes\":{\"fill_alpha\":{\"value\":0.2},\"fill_color\":{\"field\":\"fill_color\"},\"hatch_alpha\":{\"value\":0.2},\"hatch_color\":{\"field\":\"hatch_color\"},\"line_alpha\":{\"value\":0.2},\"line_color\":{\"field\":\"line_color\"},\"size\":{\"value\":10},\"x\":{\"field\":\"x\"},\"y\":{\"field\":\"y\"}},\"id\":\"3206\",\"type\":\"Circle\"},{\"attributes\":{},\"id\":\"3325\",\"type\":\"BasicTickFormatter\"},{\"attributes\":{\"tools\":[{\"id\":\"3189\"},{\"id\":\"3190\"},{\"id\":\"3191\"},{\"id\":\"3192\"},{\"id\":\"3193\"},{\"id\":\"3194\"}]},\"id\":\"3196\",\"type\":\"Toolbar\"},{\"attributes\":{},\"id\":\"3189\",\"type\":\"PanTool\"},{\"attributes\":{},\"id\":\"3190\",\"type\":\"WheelZoomTool\"},{\"attributes\":{},\"id\":\"3327\",\"type\":\"UnionRenderers\"},{\"attributes\":{\"source\":{\"id\":\"3203\"}},\"id\":\"3208\",\"type\":\"CDSView\"},{\"attributes\":{},\"id\":\"3324\",\"type\":\"AllLabels\"},{\"attributes\":{},\"id\":\"3326\",\"type\":\"AllLabels\"},{\"attributes\":{\"axis_label\":\"number of cereals\",\"coordinates\":null,\"formatter\":{\"id\":\"3323\"},\"group\":null,\"major_label_policy\":{\"id\":\"3324\"},\"ticker\":{\"id\":\"3211\"}},\"id\":\"3185\",\"type\":\"LinearAxis\"},{\"attributes\":{\"axis\":{\"id\":\"3185\"},\"coordinates\":null,\"dimension\":1,\"group\":null,\"ticker\":null},\"id\":\"3188\",\"type\":\"Grid\"},{\"attributes\":{},\"id\":\"3194\",\"type\":\"HelpTool\"},{\"attributes\":{\"fill_alpha\":{\"value\":0.5},\"fill_color\":{\"field\":\"fill_color\"},\"hatch_alpha\":{\"value\":0.5},\"hatch_color\":{\"field\":\"hatch_color\"},\"line_alpha\":{\"value\":0.5},\"line_color\":{\"field\":\"line_color\"},\"size\":{\"value\":10},\"x\":{\"field\":\"x\"},\"y\":{\"field\":\"y\"}},\"id\":\"3204\",\"type\":\"Circle\"},{\"attributes\":{\"bottom_units\":\"screen\",\"coordinates\":null,\"fill_alpha\":0.5,\"fill_color\":\"lightgrey\",\"group\":null,\"left_units\":\"screen\",\"level\":\"overlay\",\"line_alpha\":1.0,\"line_color\":\"black\",\"line_dash\":[4,4],\"line_width\":2,\"right_units\":\"screen\",\"syncable\":false,\"top_units\":\"screen\"},\"id\":\"3195\",\"type\":\"BoxAnnotation\"},{\"attributes\":{},\"id\":\"3179\",\"type\":\"LinearScale\"},{\"attributes\":{\"coordinates\":null,\"group\":null,\"text\":\"# cereals x sodium\"},\"id\":\"3213\",\"type\":\"Title\"},{\"attributes\":{\"fill_alpha\":{\"value\":0.1},\"fill_color\":{\"field\":\"fill_color\"},\"hatch_alpha\":{\"value\":0.1},\"hatch_color\":{\"field\":\"hatch_color\"},\"line_alpha\":{\"value\":0.1},\"line_color\":{\"field\":\"line_color\"},\"size\":{\"value\":10},\"x\":{\"field\":\"x\"},\"y\":{\"field\":\"y\"}},\"id\":\"3205\",\"type\":\"Circle\"},{\"attributes\":{\"axis_label\":\"sodium (80mg)\",\"coordinates\":null,\"formatter\":{\"id\":\"3325\"},\"group\":null,\"major_label_policy\":{\"id\":\"3326\"},\"ticker\":{\"id\":\"3209\"}},\"id\":\"3181\",\"type\":\"LinearAxis\"},{\"attributes\":{\"coordinates\":null,\"data_source\":{\"id\":\"3203\"},\"glyph\":{\"id\":\"3204\"},\"group\":null,\"hover_glyph\":null,\"muted_glyph\":{\"id\":\"3206\"},\"nonselection_glyph\":{\"id\":\"3205\"},\"view\":{\"id\":\"3208\"}},\"id\":\"3207\",\"type\":\"GlyphRenderer\"},{\"attributes\":{\"ticks\":[0,1,2,3,4,5,6]},\"id\":\"3209\",\"type\":\"FixedTicker\"},{\"attributes\":{\"end\":7,\"start\":-1},\"id\":\"3173\",\"type\":\"Range1d\"},{\"attributes\":{},\"id\":\"3177\",\"type\":\"LinearScale\"},{\"attributes\":{},\"id\":\"3323\",\"type\":\"BasicTickFormatter\"},{\"attributes\":{},\"id\":\"3175\",\"type\":\"DataRange1d\"},{\"attributes\":{},\"id\":\"3193\",\"type\":\"ResetTool\"},{\"attributes\":{},\"id\":\"3328\",\"type\":\"Selection\"}],\"root_ids\":[\"3172\"]},\"title\":\"Bokeh Application\",\"version\":\"2.4.0\"}};\n",
       "  const render_items = [{\"docid\":\"1c979a25-1d8c-4edb-9ebb-7f69e2aee76e\",\"root_ids\":[\"3172\"],\"roots\":{\"3172\":\"3866d931-17c9-4b3a-bb99-8884380a9880\"}}];\n",
       "  root.Bokeh.embed.embed_items_notebook(docs_json, render_items);\n",
       "\n",
       "  }\n",
       "  if (root.Bokeh !== undefined) {\n",
       "    embed_document(root);\n",
       "  } else {\n",
       "    let attempts = 0;\n",
       "    const timer = setInterval(function(root) {\n",
       "      if (root.Bokeh !== undefined) {\n",
       "        clearInterval(timer);\n",
       "        embed_document(root);\n",
       "      } else {\n",
       "        attempts++;\n",
       "        if (attempts > 100) {\n",
       "          clearInterval(timer);\n",
       "          console.log(\"Bokeh: ERROR: Unable to run BokehJS code because BokehJS library is missing\");\n",
       "        }\n",
       "      }\n",
       "    }, 10, root)\n",
       "  }\n",
       "})(window);"
      ],
      "application/vnd.bokehjs_exec.v0+json": ""
     },
     "metadata": {
      "application/vnd.bokehjs_exec.v0+json": {
       "id": "3172"
      }
     },
     "output_type": "display_data"
    }
   ],
   "source": [
    "p=plot_dist_nutrients('sodium')\n",
    "show(p)"
   ]
  },
  {
   "cell_type": "markdown",
   "id": "6e63e4c6",
   "metadata": {},
   "source": [
    "The recommended cereals have very little sodium.  Much less sodium than the other cereals."
   ]
  },
  {
   "cell_type": "code",
   "execution_count": 38,
   "id": "0cefdc9e",
   "metadata": {},
   "outputs": [
    {
     "data": {
      "text/html": [
       "\n",
       "\n",
       "\n",
       "\n",
       "\n",
       "\n",
       "  <div class=\"bk-root\" id=\"fbe8afec-0fd5-42b4-bc63-d3a1518e1d7c\" data-root-id=\"3370\"></div>\n"
      ]
     },
     "metadata": {},
     "output_type": "display_data"
    },
    {
     "data": {
      "application/javascript": [
       "(function(root) {\n",
       "  function embed_document(root) {\n",
       "    \n",
       "  const docs_json = {\"52aa0b09-f8b2-4b45-87dd-511a670abc1b\":{\"defs\":[],\"roots\":{\"references\":[{\"attributes\":{\"below\":[{\"id\":\"3379\"}],\"center\":[{\"id\":\"3382\"},{\"id\":\"3386\"}],\"height\":250,\"left\":[{\"id\":\"3383\"}],\"renderers\":[{\"id\":\"3405\"}],\"title\":{\"id\":\"3411\"},\"toolbar\":{\"id\":\"3394\"},\"toolbar_location\":null,\"width\":200,\"x_range\":{\"id\":\"3371\"},\"x_scale\":{\"id\":\"3375\"},\"y_range\":{\"id\":\"3373\"},\"y_scale\":{\"id\":\"3377\"}},\"id\":\"3370\",\"subtype\":\"Figure\",\"type\":\"Plot\"},{\"attributes\":{},\"id\":\"3390\",\"type\":\"SaveTool\"},{\"attributes\":{},\"id\":\"3391\",\"type\":\"ResetTool\"},{\"attributes\":{\"bottom_units\":\"screen\",\"coordinates\":null,\"fill_alpha\":0.5,\"fill_color\":\"lightgrey\",\"group\":null,\"left_units\":\"screen\",\"level\":\"overlay\",\"line_alpha\":1.0,\"line_color\":\"black\",\"line_dash\":[4,4],\"line_width\":2,\"right_units\":\"screen\",\"syncable\":false,\"top_units\":\"screen\"},\"id\":\"3393\",\"type\":\"BoxAnnotation\"},{\"attributes\":{\"axis\":{\"id\":\"3379\"},\"coordinates\":null,\"group\":null,\"ticker\":null},\"id\":\"3382\",\"type\":\"Grid\"},{\"attributes\":{\"ticks\":[0,1,2,3,4,5,6]},\"id\":\"3407\",\"type\":\"FixedTicker\"},{\"attributes\":{\"fill_alpha\":{\"value\":0.1},\"fill_color\":{\"field\":\"fill_color\"},\"hatch_alpha\":{\"value\":0.1},\"hatch_color\":{\"field\":\"hatch_color\"},\"line_alpha\":{\"value\":0.1},\"line_color\":{\"field\":\"line_color\"},\"size\":{\"value\":10},\"x\":{\"field\":\"x\"},\"y\":{\"field\":\"y\"}},\"id\":\"3403\",\"type\":\"Circle\"},{\"attributes\":{},\"id\":\"3392\",\"type\":\"HelpTool\"},{\"attributes\":{},\"id\":\"3532\",\"type\":\"AllLabels\"},{\"attributes\":{},\"id\":\"3534\",\"type\":\"Selection\"},{\"attributes\":{\"source\":{\"id\":\"3401\"}},\"id\":\"3406\",\"type\":\"CDSView\"},{\"attributes\":{},\"id\":\"3529\",\"type\":\"BasicTickFormatter\"},{\"attributes\":{},\"id\":\"3377\",\"type\":\"LinearScale\"},{\"attributes\":{\"axis_label\":\"protein (g)\",\"coordinates\":null,\"formatter\":{\"id\":\"3531\"},\"group\":null,\"major_label_policy\":{\"id\":\"3532\"},\"ticker\":{\"id\":\"3407\"}},\"id\":\"3379\",\"type\":\"LinearAxis\"},{\"attributes\":{\"overlay\":{\"id\":\"3393\"}},\"id\":\"3389\",\"type\":\"BoxZoomTool\"},{\"attributes\":{},\"id\":\"3373\",\"type\":\"DataRange1d\"},{\"attributes\":{\"axis_label\":\"number of cereals\",\"coordinates\":null,\"formatter\":{\"id\":\"3529\"},\"group\":null,\"major_label_policy\":{\"id\":\"3530\"},\"ticker\":{\"id\":\"3409\"}},\"id\":\"3383\",\"type\":\"LinearAxis\"},{\"attributes\":{},\"id\":\"3533\",\"type\":\"UnionRenderers\"},{\"attributes\":{\"data\":{\"fill_color\":[\"hotpink\",\"hotpink\",\"hotpink\",\"hotpink\",\"hotpink\",\"hotpink\",\"lightgray\",\"lightgray\",\"lightgray\",\"lightgray\",\"lightgray\",\"lightgray\",\"lightgray\",\"lightgray\",\"lightgray\",\"lightgray\",\"lightgray\",\"lightgray\",\"lightgray\",\"lightgray\",\"lightgray\",\"lightgray\",\"lightgray\",\"lightgray\",\"lightgray\",\"lightgray\",\"lightgray\",\"lightgray\",\"lightgray\",\"lightgray\",\"lightgray\",\"lightgray\",\"lightgray\",\"lightgray\",\"lightgray\",\"lightgray\",\"lightgray\",\"lightgray\",\"lightgray\",\"lightgray\",\"lightgray\",\"lightgray\",\"lightgray\",\"lightgray\",\"lightgray\",\"lightgray\",\"lightgray\",\"lightgray\",\"lightgray\",\"lightgray\",\"lightgray\",\"lightgray\",\"lightgray\",\"lightgray\",\"lightgray\",\"lightgray\",\"lightgray\",\"lightgray\",\"lightgray\",\"lightgray\",\"lightgray\",\"lightgray\",\"lightgray\",\"lightgray\",\"lightgray\",\"lightgray\",\"lightgray\",\"lightgray\",\"lightgray\",\"lightgray\",\"lightgray\",\"lightgray\",\"lightgray\",\"lightgray\"],\"hatch_color\":[\"hotpink\",\"hotpink\",\"hotpink\",\"hotpink\",\"hotpink\",\"hotpink\",\"lightgray\",\"lightgray\",\"lightgray\",\"lightgray\",\"lightgray\",\"lightgray\",\"lightgray\",\"lightgray\",\"lightgray\",\"lightgray\",\"lightgray\",\"lightgray\",\"lightgray\",\"lightgray\",\"lightgray\",\"lightgray\",\"lightgray\",\"lightgray\",\"lightgray\",\"lightgray\",\"lightgray\",\"lightgray\",\"lightgray\",\"lightgray\",\"lightgray\",\"lightgray\",\"lightgray\",\"lightgray\",\"lightgray\",\"lightgray\",\"lightgray\",\"lightgray\",\"lightgray\",\"lightgray\",\"lightgray\",\"lightgray\",\"lightgray\",\"lightgray\",\"lightgray\",\"lightgray\",\"lightgray\",\"lightgray\",\"lightgray\",\"lightgray\",\"lightgray\",\"lightgray\",\"lightgray\",\"lightgray\",\"lightgray\",\"lightgray\",\"lightgray\",\"lightgray\",\"lightgray\",\"lightgray\",\"lightgray\",\"lightgray\",\"lightgray\",\"lightgray\",\"lightgray\",\"lightgray\",\"lightgray\",\"lightgray\",\"lightgray\",\"lightgray\",\"lightgray\",\"lightgray\",\"lightgray\",\"lightgray\"],\"line_color\":[\"hotpink\",\"hotpink\",\"hotpink\",\"hotpink\",\"hotpink\",\"hotpink\",\"lightgray\",\"lightgray\",\"lightgray\",\"lightgray\",\"lightgray\",\"lightgray\",\"lightgray\",\"lightgray\",\"lightgray\",\"lightgray\",\"lightgray\",\"lightgray\",\"lightgray\",\"lightgray\",\"lightgray\",\"lightgray\",\"lightgray\",\"lightgray\",\"lightgray\",\"lightgray\",\"lightgray\",\"lightgray\",\"lightgray\",\"lightgray\",\"lightgray\",\"lightgray\",\"lightgray\",\"lightgray\",\"lightgray\",\"lightgray\",\"lightgray\",\"lightgray\",\"lightgray\",\"lightgray\",\"lightgray\",\"lightgray\",\"lightgray\",\"lightgray\",\"lightgray\",\"lightgray\",\"lightgray\",\"lightgray\",\"lightgray\",\"lightgray\",\"lightgray\",\"lightgray\",\"lightgray\",\"lightgray\",\"lightgray\",\"lightgray\",\"lightgray\",\"lightgray\",\"lightgray\",\"lightgray\",\"lightgray\",\"lightgray\",\"lightgray\",\"lightgray\",\"lightgray\",\"lightgray\",\"lightgray\",\"lightgray\",\"lightgray\",\"lightgray\",\"lightgray\",\"lightgray\",\"lightgray\",\"lightgray\"],\"x\":{\"__ndarray__\":\"AAAAAAAA8D8AAAAAAAAAQAAAAAAAAABAAAAAAAAACEAAAAAAAAAIQAAAAAAAABBAAAAAAAAAGEAAAAAAAAAIQAAAAAAAAPA/AAAAAAAAAEAAAAAAAAAQQAAAAAAAAAhAAAAAAAAAAEAAAAAAAAAIQAAAAAAAAAhAAAAAAAAAAEAAAAAAAAAYQAAAAAAAAAhAAAAAAAAAAEAAAAAAAAAAQAAAAAAAAABAAAAAAAAAAEAAAAAAAAAIQAAAAAAAAAhAAAAAAAAAAEAAAAAAAAAIQAAAAAAAAABAAAAAAAAACEAAAAAAAAAQQAAAAAAAAABAAAAAAAAAEEAAAAAAAAAQQAAAAAAAABBAAAAAAAAAAEAAAAAAAAAAQAAAAAAAAABAAAAAAAAACEAAAAAAAAAIQAAAAAAAAAhAAAAAAAAACEAAAAAAAAAIQAAAAAAAAAhAAAAAAAAAAEAAAAAAAAAIQAAAAAAAAAhAAAAAAAAAAEAAAAAAAADwPwAAAAAAAPA/AAAAAAAAAEAAAAAAAAAIQAAAAAAAAAhAAAAAAAAAAEAAAAAAAAAIQAAAAAAAABBAAAAAAAAAEEAAAAAAAADwPwAAAAAAAPA/AAAAAAAA8D8AAAAAAADwPwAAAAAAAPA/AAAAAAAA8D8AAAAAAAAAQAAAAAAAAAhAAAAAAAAA8D8AAAAAAAAIQAAAAAAAAABAAAAAAAAACEAAAAAAAADwPwAAAAAAAPA/AAAAAAAAAEAAAAAAAAAIQAAAAAAAAAhAAAAAAAAAAEAAAAAAAAAAQA==\",\"dtype\":\"float64\",\"order\":\"little\",\"shape\":[74]},\"y\":[13,24,23,27,26,8,2,25,12,22,7,24,21,23,22,20,1,21,19,18,17,16,20,19,15,18,14,17,6,13,5,4,3,12,11,10,16,15,14,13,12,11,9,10,9,8,11,10,7,8,7,6,6,2,1,9,8,7,6,5,4,5,5,3,4,4,3,2,1,3,2,1,2,1]},\"selected\":{\"id\":\"3534\"},\"selection_policy\":{\"id\":\"3533\"}},\"id\":\"3401\",\"type\":\"ColumnDataSource\"},{\"attributes\":{\"axis\":{\"id\":\"3383\"},\"coordinates\":null,\"dimension\":1,\"group\":null,\"ticker\":null},\"id\":\"3386\",\"type\":\"Grid\"},{\"attributes\":{\"fill_alpha\":{\"value\":0.5},\"fill_color\":{\"field\":\"fill_color\"},\"hatch_alpha\":{\"value\":0.5},\"hatch_color\":{\"field\":\"hatch_color\"},\"line_alpha\":{\"value\":0.5},\"line_color\":{\"field\":\"line_color\"},\"size\":{\"value\":10},\"x\":{\"field\":\"x\"},\"y\":{\"field\":\"y\"}},\"id\":\"3402\",\"type\":\"Circle\"},{\"attributes\":{\"coordinates\":null,\"data_source\":{\"id\":\"3401\"},\"glyph\":{\"id\":\"3402\"},\"group\":null,\"hover_glyph\":null,\"muted_glyph\":{\"id\":\"3404\"},\"nonselection_glyph\":{\"id\":\"3403\"},\"view\":{\"id\":\"3406\"}},\"id\":\"3405\",\"type\":\"GlyphRenderer\"},{\"attributes\":{},\"id\":\"3375\",\"type\":\"LinearScale\"},{\"attributes\":{\"fill_alpha\":{\"value\":0.2},\"fill_color\":{\"field\":\"fill_color\"},\"hatch_alpha\":{\"value\":0.2},\"hatch_color\":{\"field\":\"hatch_color\"},\"line_alpha\":{\"value\":0.2},\"line_color\":{\"field\":\"line_color\"},\"size\":{\"value\":10},\"x\":{\"field\":\"x\"},\"y\":{\"field\":\"y\"}},\"id\":\"3404\",\"type\":\"Circle\"},{\"attributes\":{\"ticks\":[5,10,15,20,25,30,35,40]},\"id\":\"3409\",\"type\":\"FixedTicker\"},{\"attributes\":{},\"id\":\"3530\",\"type\":\"AllLabels\"},{\"attributes\":{\"coordinates\":null,\"group\":null,\"text\":\"# cereals x protein\"},\"id\":\"3411\",\"type\":\"Title\"},{\"attributes\":{\"tools\":[{\"id\":\"3387\"},{\"id\":\"3388\"},{\"id\":\"3389\"},{\"id\":\"3390\"},{\"id\":\"3391\"},{\"id\":\"3392\"}]},\"id\":\"3394\",\"type\":\"Toolbar\"},{\"attributes\":{},\"id\":\"3388\",\"type\":\"WheelZoomTool\"},{\"attributes\":{},\"id\":\"3531\",\"type\":\"BasicTickFormatter\"},{\"attributes\":{\"end\":7,\"start\":-1},\"id\":\"3371\",\"type\":\"Range1d\"},{\"attributes\":{},\"id\":\"3387\",\"type\":\"PanTool\"}],\"root_ids\":[\"3370\"]},\"title\":\"Bokeh Application\",\"version\":\"2.4.0\"}};\n",
       "  const render_items = [{\"docid\":\"52aa0b09-f8b2-4b45-87dd-511a670abc1b\",\"root_ids\":[\"3370\"],\"roots\":{\"3370\":\"fbe8afec-0fd5-42b4-bc63-d3a1518e1d7c\"}}];\n",
       "  root.Bokeh.embed.embed_items_notebook(docs_json, render_items);\n",
       "\n",
       "  }\n",
       "  if (root.Bokeh !== undefined) {\n",
       "    embed_document(root);\n",
       "  } else {\n",
       "    let attempts = 0;\n",
       "    const timer = setInterval(function(root) {\n",
       "      if (root.Bokeh !== undefined) {\n",
       "        clearInterval(timer);\n",
       "        embed_document(root);\n",
       "      } else {\n",
       "        attempts++;\n",
       "        if (attempts > 100) {\n",
       "          clearInterval(timer);\n",
       "          console.log(\"Bokeh: ERROR: Unable to run BokehJS code because BokehJS library is missing\");\n",
       "        }\n",
       "      }\n",
       "    }, 10, root)\n",
       "  }\n",
       "})(window);"
      ],
      "application/vnd.bokehjs_exec.v0+json": ""
     },
     "metadata": {
      "application/vnd.bokehjs_exec.v0+json": {
       "id": "3370"
      }
     },
     "output_type": "display_data"
    }
   ],
   "source": [
    "p=plot_dist_nutrients('protein')\n",
    "show(p)"
   ]
  },
  {
   "cell_type": "markdown",
   "id": "36b7729c",
   "metadata": {},
   "source": [
    "The recommended cereals vary in protein, and can be observed over the entire distribution of protein composition."
   ]
  },
  {
   "cell_type": "code",
   "execution_count": null,
   "id": "10593f4c",
   "metadata": {},
   "outputs": [],
   "source": []
  }
 ],
 "metadata": {
  "kernelspec": {
   "display_name": "Python 3",
   "language": "python",
   "name": "python3"
  },
  "language_info": {
   "codemirror_mode": {
    "name": "ipython",
    "version": 3
   },
   "file_extension": ".py",
   "mimetype": "text/x-python",
   "name": "python",
   "nbconvert_exporter": "python",
   "pygments_lexer": "ipython3",
   "version": "3.7.15"
  }
 },
 "nbformat": 4,
 "nbformat_minor": 5
}
