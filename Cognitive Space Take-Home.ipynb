{
 "cells": [
  {
   "cell_type": "code",
   "execution_count": 1,
   "id": "716db220",
   "metadata": {},
   "outputs": [],
   "source": [
    "import numpy as np\n",
    "import scipy as sp\n",
    "import random\n",
    "from collections import Counter\n",
    "import copy\n",
    "import sigfig"
   ]
  },
  {
   "cell_type": "markdown",
   "id": "6833c28a",
   "metadata": {},
   "source": [
    "# Problem 1"
   ]
  },
  {
   "cell_type": "markdown",
   "id": "70c11fcd",
   "metadata": {},
   "source": [
    "With Object Oriented Programming in mind, create the following simulation environment in python:\n",
    "\n",
    "A 100x100 grid world with 10 randomly placed pieces of food. Note that food cannot share the same coordinate.\n",
    "An ant class that randomly moves up, down, left, or right at each time step. If an ant tries to step beyond the bounds of the box, it does nothing. Note that food is consumed if an ant shares the same coordinate as the food. Ants can share the same coordinate. Ants starting locations should be random.\n",
    "Run 1000 simulations with 100 ants, each for 100-time steps. Report the mean and standard deviation of the total food eaten. Feel free to use any Python packages as needed."
   ]
  },
  {
   "cell_type": "code",
   "execution_count": 2,
   "id": "029c84da",
   "metadata": {},
   "outputs": [],
   "source": [
    "#prevent moves\n",
    "def lim(x,x_min,x_max):\n",
    "    return min(max(x,x_min),x_max)\n",
    "\n",
    "class Ant:\n",
    "    \n",
    "    def __init__(self,grid):\n",
    "        self.position=(random.randint(0,(grid.x_range-1)),random.randint(0,(grid.y_range-1)))\n",
    "        \n",
    "    def move(self,grid):\n",
    "        movement=np.array(random.choice([[-1,0],[1,0],[0,1],[0,-1]]))\n",
    "        position=np.array(self.position)+movement\n",
    "        self.position=(lim(position[0],0,(grid.x_range-1)), lim(position[1],0,(grid.y_range-1)))\n",
    "        \n",
    "\n",
    "class Grid:\n",
    "    \n",
    "    def __init__(self,x_range,y_range):\n",
    "        self.x_range=x_range\n",
    "        self.y_range=y_range\n",
    "        self.locations=[(x,y) for x in list(range(0,self.x_range)) for y in list(range(0,self.y_range))]\n",
    "        self.has_food={location:False for location in self.locations}\n",
    "        self.food_count=0\n",
    "        \n",
    "    def update_food_count(self):\n",
    "        self.food_count=np.array(list(self.has_food.values())).sum()\n",
    "        \n",
    "    def drop_food(self,pieces_of_food):\n",
    "        locations=random.sample(self.locations, k=pieces_of_food)\n",
    "        for location in locations:\n",
    "            self.has_food[location]=True\n",
    "        self.update_food_count()\n",
    "            \n",
    "    def ants_eat(self,colony):\n",
    "        for ant in colony:\n",
    "            self.has_food[ant.position]=False\n",
    "        self.update_food_count()\n",
    "        \n",
    "        \n",
    "class Colony:\n",
    "    \n",
    "    def __init__(self,grid,size):\n",
    "        self.grid=grid\n",
    "        self.size=size\n",
    "        self.members=[Ant(self.grid) for i in range(0,self.size)]\n",
    "        \n",
    "    def move(self):\n",
    "        [ant.move(grid=self.grid) for ant in self.members]\n",
    "\n",
    "        \n",
    "        \n",
    "class Simulation:\n",
    "    \n",
    "    def __init__(self,x_range,y_range,pieces_of_food,colony_size):\n",
    "        self.starting_food=pieces_of_food\n",
    "        self.food_eaten=0\n",
    "        self.grid=Grid(x_range=x_range,y_range=y_range)\n",
    "        self.grid.drop_food(pieces_of_food=pieces_of_food)\n",
    "        self.colony=Colony(self.grid,size=colony_size)\n",
    "        self.food_count_record=[pieces_of_food]\n",
    "        self.colony_record=[x.position for x in self.colony.members]\n",
    "        \n",
    "    def update_food_eaten(self):\n",
    "        self.food_eaten=self.starting_food-self.grid.food_count\n",
    "        \n",
    "    def run(self,timesteps):\n",
    "        for i in range(timesteps):\n",
    "            self.food_count_record+=[self.grid.food_count]\n",
    "            self.grid.ants_eat(colony=self.colony.members)\n",
    "            self.colony.move()\n",
    "        self.update_food_eaten()\n",
    "        "
   ]
  },
  {
   "cell_type": "code",
   "execution_count": 3,
   "id": "0419dda9",
   "metadata": {},
   "outputs": [],
   "source": [
    "simulated_food_eaten=[]\n",
    "simulation_stats=[]\n",
    "\n",
    "for i in range(1000):\n",
    "    simulation=Simulation(x_range=100,y_range=100,pieces_of_food=10,colony_size=100)\n",
    "    simulation.run(timesteps=100)\n",
    "    simulated_food_eaten+=[simulation.food_eaten]\n",
    "\n",
    "simulation_stats+=[{'mean': round(np.array(simulated_food_eaten).mean(),2),\\\n",
    "    'std': round(np.array(simulated_food_eaten).std(),2)}]"
   ]
  },
  {
   "cell_type": "code",
   "execution_count": 4,
   "id": "6562c865",
   "metadata": {},
   "outputs": [
    {
     "data": {
      "text/plain": [
       "[{'mean': 3.85, 'std': 1.53}]"
      ]
     },
     "execution_count": 4,
     "metadata": {},
     "output_type": "execute_result"
    }
   ],
   "source": [
    "simulation_stats"
   ]
  },
  {
   "cell_type": "markdown",
   "id": "d2ba605d",
   "metadata": {},
   "source": [
    "# Problem 2"
   ]
  },
  {
   "cell_type": "markdown",
   "id": "a8ecb548",
   "metadata": {},
   "source": [
    "Using Python and the pandas package write a Jupyter notebook to process the following cereal data, and, based on the US Governments Dietary Guidelines’ Executive Summary, recommend 5 cereals that meet those guidelines.\n",
    "\n",
    " \n",
    "\n",
    "Plot at least 3 data visualizations to help communicate your recommendations. Feel free to use common Python packages such as numpy as needed.\n",
    "\n",
    " \n",
    "\n",
    "Briefly explain your thought process for processing the data and determining the recommended cereals in the comments.\n",
    "\n",
    "Cereal Data: https://www.kaggle.com/crawford/80-cereals\n",
    "Dietary Guidelines: https://www.dietaryguidelines.gov/resources/2020-2025-dietary-guidelines-online-materials/top-10-things-you-need-know-about-dietary"
   ]
  },
  {
   "cell_type": "code",
   "execution_count": 16,
   "id": "cffaee0b",
   "metadata": {},
   "outputs": [
    {
     "data": {
      "text/html": [
       "\n",
       "    <div class=\"bk-root\">\n",
       "        <a href=\"https://bokeh.org\" target=\"_blank\" class=\"bk-logo bk-logo-small bk-logo-notebook\"></a>\n",
       "        <span id=\"1655\">Loading BokehJS ...</span>\n",
       "    </div>"
      ]
     },
     "metadata": {},
     "output_type": "display_data"
    },
    {
     "data": {
      "application/javascript": [
       "\n",
       "(function(root) {\n",
       "  function now() {\n",
       "    return new Date();\n",
       "  }\n",
       "\n",
       "  const force = true;\n",
       "\n",
       "  if (typeof root._bokeh_onload_callbacks === \"undefined\" || force === true) {\n",
       "    root._bokeh_onload_callbacks = [];\n",
       "    root._bokeh_is_loading = undefined;\n",
       "  }\n",
       "\n",
       "  const JS_MIME_TYPE = 'application/javascript';\n",
       "  const HTML_MIME_TYPE = 'text/html';\n",
       "  const EXEC_MIME_TYPE = 'application/vnd.bokehjs_exec.v0+json';\n",
       "  const CLASS_NAME = 'output_bokeh rendered_html';\n",
       "\n",
       "  /**\n",
       "   * Render data to the DOM node\n",
       "   */\n",
       "  function render(props, node) {\n",
       "    const script = document.createElement(\"script\");\n",
       "    node.appendChild(script);\n",
       "  }\n",
       "\n",
       "  /**\n",
       "   * Handle when an output is cleared or removed\n",
       "   */\n",
       "  function handleClearOutput(event, handle) {\n",
       "    const cell = handle.cell;\n",
       "\n",
       "    const id = cell.output_area._bokeh_element_id;\n",
       "    const server_id = cell.output_area._bokeh_server_id;\n",
       "    // Clean up Bokeh references\n",
       "    if (id != null && id in Bokeh.index) {\n",
       "      Bokeh.index[id].model.document.clear();\n",
       "      delete Bokeh.index[id];\n",
       "    }\n",
       "\n",
       "    if (server_id !== undefined) {\n",
       "      // Clean up Bokeh references\n",
       "      const cmd_clean = \"from bokeh.io.state import curstate; print(curstate().uuid_to_server['\" + server_id + \"'].get_sessions()[0].document.roots[0]._id)\";\n",
       "      cell.notebook.kernel.execute(cmd_clean, {\n",
       "        iopub: {\n",
       "          output: function(msg) {\n",
       "            const id = msg.content.text.trim();\n",
       "            if (id in Bokeh.index) {\n",
       "              Bokeh.index[id].model.document.clear();\n",
       "              delete Bokeh.index[id];\n",
       "            }\n",
       "          }\n",
       "        }\n",
       "      });\n",
       "      // Destroy server and session\n",
       "      const cmd_destroy = \"import bokeh.io.notebook as ion; ion.destroy_server('\" + server_id + \"')\";\n",
       "      cell.notebook.kernel.execute(cmd_destroy);\n",
       "    }\n",
       "  }\n",
       "\n",
       "  /**\n",
       "   * Handle when a new output is added\n",
       "   */\n",
       "  function handleAddOutput(event, handle) {\n",
       "    const output_area = handle.output_area;\n",
       "    const output = handle.output;\n",
       "\n",
       "    // limit handleAddOutput to display_data with EXEC_MIME_TYPE content only\n",
       "    if ((output.output_type != \"display_data\") || (!Object.prototype.hasOwnProperty.call(output.data, EXEC_MIME_TYPE))) {\n",
       "      return\n",
       "    }\n",
       "\n",
       "    const toinsert = output_area.element.find(\".\" + CLASS_NAME.split(' ')[0]);\n",
       "\n",
       "    if (output.metadata[EXEC_MIME_TYPE][\"id\"] !== undefined) {\n",
       "      toinsert[toinsert.length - 1].firstChild.textContent = output.data[JS_MIME_TYPE];\n",
       "      // store reference to embed id on output_area\n",
       "      output_area._bokeh_element_id = output.metadata[EXEC_MIME_TYPE][\"id\"];\n",
       "    }\n",
       "    if (output.metadata[EXEC_MIME_TYPE][\"server_id\"] !== undefined) {\n",
       "      const bk_div = document.createElement(\"div\");\n",
       "      bk_div.innerHTML = output.data[HTML_MIME_TYPE];\n",
       "      const script_attrs = bk_div.children[0].attributes;\n",
       "      for (let i = 0; i < script_attrs.length; i++) {\n",
       "        toinsert[toinsert.length - 1].firstChild.setAttribute(script_attrs[i].name, script_attrs[i].value);\n",
       "        toinsert[toinsert.length - 1].firstChild.textContent = bk_div.children[0].textContent\n",
       "      }\n",
       "      // store reference to server id on output_area\n",
       "      output_area._bokeh_server_id = output.metadata[EXEC_MIME_TYPE][\"server_id\"];\n",
       "    }\n",
       "  }\n",
       "\n",
       "  function register_renderer(events, OutputArea) {\n",
       "\n",
       "    function append_mime(data, metadata, element) {\n",
       "      // create a DOM node to render to\n",
       "      const toinsert = this.create_output_subarea(\n",
       "        metadata,\n",
       "        CLASS_NAME,\n",
       "        EXEC_MIME_TYPE\n",
       "      );\n",
       "      this.keyboard_manager.register_events(toinsert);\n",
       "      // Render to node\n",
       "      const props = {data: data, metadata: metadata[EXEC_MIME_TYPE]};\n",
       "      render(props, toinsert[toinsert.length - 1]);\n",
       "      element.append(toinsert);\n",
       "      return toinsert\n",
       "    }\n",
       "\n",
       "    /* Handle when an output is cleared or removed */\n",
       "    events.on('clear_output.CodeCell', handleClearOutput);\n",
       "    events.on('delete.Cell', handleClearOutput);\n",
       "\n",
       "    /* Handle when a new output is added */\n",
       "    events.on('output_added.OutputArea', handleAddOutput);\n",
       "\n",
       "    /**\n",
       "     * Register the mime type and append_mime function with output_area\n",
       "     */\n",
       "    OutputArea.prototype.register_mime_type(EXEC_MIME_TYPE, append_mime, {\n",
       "      /* Is output safe? */\n",
       "      safe: true,\n",
       "      /* Index of renderer in `output_area.display_order` */\n",
       "      index: 0\n",
       "    });\n",
       "  }\n",
       "\n",
       "  // register the mime type if in Jupyter Notebook environment and previously unregistered\n",
       "  if (root.Jupyter !== undefined) {\n",
       "    const events = require('base/js/events');\n",
       "    const OutputArea = require('notebook/js/outputarea').OutputArea;\n",
       "\n",
       "    if (OutputArea.prototype.mime_types().indexOf(EXEC_MIME_TYPE) == -1) {\n",
       "      register_renderer(events, OutputArea);\n",
       "    }\n",
       "  }\n",
       "\n",
       "  \n",
       "  if (typeof (root._bokeh_timeout) === \"undefined\" || force === true) {\n",
       "    root._bokeh_timeout = Date.now() + 5000;\n",
       "    root._bokeh_failed_load = false;\n",
       "  }\n",
       "\n",
       "  const NB_LOAD_WARNING = {'data': {'text/html':\n",
       "     \"<div style='background-color: #fdd'>\\n\"+\n",
       "     \"<p>\\n\"+\n",
       "     \"BokehJS does not appear to have successfully loaded. If loading BokehJS from CDN, this \\n\"+\n",
       "     \"may be due to a slow or bad network connection. Possible fixes:\\n\"+\n",
       "     \"</p>\\n\"+\n",
       "     \"<ul>\\n\"+\n",
       "     \"<li>re-rerun `output_notebook()` to attempt to load from CDN again, or</li>\\n\"+\n",
       "     \"<li>use INLINE resources instead, as so:</li>\\n\"+\n",
       "     \"</ul>\\n\"+\n",
       "     \"<code>\\n\"+\n",
       "     \"from bokeh.resources import INLINE\\n\"+\n",
       "     \"output_notebook(resources=INLINE)\\n\"+\n",
       "     \"</code>\\n\"+\n",
       "     \"</div>\"}};\n",
       "\n",
       "  function display_loaded() {\n",
       "    const el = document.getElementById(\"1655\");\n",
       "    if (el != null) {\n",
       "      el.textContent = \"BokehJS is loading...\";\n",
       "    }\n",
       "    if (root.Bokeh !== undefined) {\n",
       "      if (el != null) {\n",
       "        el.textContent = \"BokehJS \" + root.Bokeh.version + \" successfully loaded.\";\n",
       "      }\n",
       "    } else if (Date.now() < root._bokeh_timeout) {\n",
       "      setTimeout(display_loaded, 100)\n",
       "    }\n",
       "  }\n",
       "\n",
       "\n",
       "  function run_callbacks() {\n",
       "    try {\n",
       "      root._bokeh_onload_callbacks.forEach(function(callback) {\n",
       "        if (callback != null)\n",
       "          callback();\n",
       "      });\n",
       "    } finally {\n",
       "      delete root._bokeh_onload_callbacks\n",
       "    }\n",
       "    console.debug(\"Bokeh: all callbacks have finished\");\n",
       "  }\n",
       "\n",
       "  function load_libs(css_urls, js_urls, callback) {\n",
       "    if (css_urls == null) css_urls = [];\n",
       "    if (js_urls == null) js_urls = [];\n",
       "\n",
       "    root._bokeh_onload_callbacks.push(callback);\n",
       "    if (root._bokeh_is_loading > 0) {\n",
       "      console.debug(\"Bokeh: BokehJS is being loaded, scheduling callback at\", now());\n",
       "      return null;\n",
       "    }\n",
       "    if (js_urls == null || js_urls.length === 0) {\n",
       "      run_callbacks();\n",
       "      return null;\n",
       "    }\n",
       "    console.debug(\"Bokeh: BokehJS not loaded, scheduling load and callback at\", now());\n",
       "    root._bokeh_is_loading = css_urls.length + js_urls.length;\n",
       "\n",
       "    function on_load() {\n",
       "      root._bokeh_is_loading--;\n",
       "      if (root._bokeh_is_loading === 0) {\n",
       "        console.debug(\"Bokeh: all BokehJS libraries/stylesheets loaded\");\n",
       "        run_callbacks()\n",
       "      }\n",
       "    }\n",
       "\n",
       "    function on_error(url) {\n",
       "      console.error(\"failed to load \" + url);\n",
       "    }\n",
       "\n",
       "    for (let i = 0; i < css_urls.length; i++) {\n",
       "      const url = css_urls[i];\n",
       "      const element = document.createElement(\"link\");\n",
       "      element.onload = on_load;\n",
       "      element.onerror = on_error.bind(null, url);\n",
       "      element.rel = \"stylesheet\";\n",
       "      element.type = \"text/css\";\n",
       "      element.href = url;\n",
       "      console.debug(\"Bokeh: injecting link tag for BokehJS stylesheet: \", url);\n",
       "      document.body.appendChild(element);\n",
       "    }\n",
       "\n",
       "    for (let i = 0; i < js_urls.length; i++) {\n",
       "      const url = js_urls[i];\n",
       "      const element = document.createElement('script');\n",
       "      element.onload = on_load;\n",
       "      element.onerror = on_error.bind(null, url);\n",
       "      element.async = false;\n",
       "      element.src = url;\n",
       "      console.debug(\"Bokeh: injecting script tag for BokehJS library: \", url);\n",
       "      document.head.appendChild(element);\n",
       "    }\n",
       "  };\n",
       "\n",
       "  function inject_raw_css(css) {\n",
       "    const element = document.createElement(\"style\");\n",
       "    element.appendChild(document.createTextNode(css));\n",
       "    document.body.appendChild(element);\n",
       "  }\n",
       "\n",
       "  \n",
       "  const js_urls = [\"https://cdn.bokeh.org/bokeh/release/bokeh-2.4.0.min.js\", \"https://cdn.bokeh.org/bokeh/release/bokeh-gl-2.4.0.min.js\", \"https://cdn.bokeh.org/bokeh/release/bokeh-widgets-2.4.0.min.js\", \"https://cdn.bokeh.org/bokeh/release/bokeh-tables-2.4.0.min.js\", \"https://cdn.bokeh.org/bokeh/release/bokeh-mathjax-2.4.0.min.js\"];\n",
       "  const css_urls = [];\n",
       "  \n",
       "\n",
       "  const inline_js = [\n",
       "    function(Bokeh) {\n",
       "      Bokeh.set_log_level(\"info\");\n",
       "    },\n",
       "    function(Bokeh) {\n",
       "    \n",
       "    \n",
       "    }\n",
       "  ];\n",
       "\n",
       "  function run_inline_js() {\n",
       "    \n",
       "    if (root.Bokeh !== undefined || force === true) {\n",
       "      \n",
       "    for (let i = 0; i < inline_js.length; i++) {\n",
       "      inline_js[i].call(root, root.Bokeh);\n",
       "    }\n",
       "    if (force === true) {\n",
       "        display_loaded();\n",
       "      }} else if (Date.now() < root._bokeh_timeout) {\n",
       "      setTimeout(run_inline_js, 100);\n",
       "    } else if (!root._bokeh_failed_load) {\n",
       "      console.log(\"Bokeh: BokehJS failed to load within specified timeout.\");\n",
       "      root._bokeh_failed_load = true;\n",
       "    } else if (force !== true) {\n",
       "      const cell = $(document.getElementById(\"1655\")).parents('.cell').data().cell;\n",
       "      cell.output_area.append_execute_result(NB_LOAD_WARNING)\n",
       "    }\n",
       "\n",
       "  }\n",
       "\n",
       "  if (root._bokeh_is_loading === 0) {\n",
       "    console.debug(\"Bokeh: BokehJS loaded, going straight to plotting\");\n",
       "    run_inline_js();\n",
       "  } else {\n",
       "    load_libs(css_urls, js_urls, function() {\n",
       "      console.debug(\"Bokeh: BokehJS plotting callback run at\", now());\n",
       "      run_inline_js();\n",
       "    });\n",
       "  }\n",
       "}(window));"
      ],
      "application/vnd.bokehjs_load.v0+json": "\n(function(root) {\n  function now() {\n    return new Date();\n  }\n\n  const force = true;\n\n  if (typeof root._bokeh_onload_callbacks === \"undefined\" || force === true) {\n    root._bokeh_onload_callbacks = [];\n    root._bokeh_is_loading = undefined;\n  }\n\n  \n\n  \n  if (typeof (root._bokeh_timeout) === \"undefined\" || force === true) {\n    root._bokeh_timeout = Date.now() + 5000;\n    root._bokeh_failed_load = false;\n  }\n\n  const NB_LOAD_WARNING = {'data': {'text/html':\n     \"<div style='background-color: #fdd'>\\n\"+\n     \"<p>\\n\"+\n     \"BokehJS does not appear to have successfully loaded. If loading BokehJS from CDN, this \\n\"+\n     \"may be due to a slow or bad network connection. Possible fixes:\\n\"+\n     \"</p>\\n\"+\n     \"<ul>\\n\"+\n     \"<li>re-rerun `output_notebook()` to attempt to load from CDN again, or</li>\\n\"+\n     \"<li>use INLINE resources instead, as so:</li>\\n\"+\n     \"</ul>\\n\"+\n     \"<code>\\n\"+\n     \"from bokeh.resources import INLINE\\n\"+\n     \"output_notebook(resources=INLINE)\\n\"+\n     \"</code>\\n\"+\n     \"</div>\"}};\n\n  function display_loaded() {\n    const el = document.getElementById(\"1655\");\n    if (el != null) {\n      el.textContent = \"BokehJS is loading...\";\n    }\n    if (root.Bokeh !== undefined) {\n      if (el != null) {\n        el.textContent = \"BokehJS \" + root.Bokeh.version + \" successfully loaded.\";\n      }\n    } else if (Date.now() < root._bokeh_timeout) {\n      setTimeout(display_loaded, 100)\n    }\n  }\n\n\n  function run_callbacks() {\n    try {\n      root._bokeh_onload_callbacks.forEach(function(callback) {\n        if (callback != null)\n          callback();\n      });\n    } finally {\n      delete root._bokeh_onload_callbacks\n    }\n    console.debug(\"Bokeh: all callbacks have finished\");\n  }\n\n  function load_libs(css_urls, js_urls, callback) {\n    if (css_urls == null) css_urls = [];\n    if (js_urls == null) js_urls = [];\n\n    root._bokeh_onload_callbacks.push(callback);\n    if (root._bokeh_is_loading > 0) {\n      console.debug(\"Bokeh: BokehJS is being loaded, scheduling callback at\", now());\n      return null;\n    }\n    if (js_urls == null || js_urls.length === 0) {\n      run_callbacks();\n      return null;\n    }\n    console.debug(\"Bokeh: BokehJS not loaded, scheduling load and callback at\", now());\n    root._bokeh_is_loading = css_urls.length + js_urls.length;\n\n    function on_load() {\n      root._bokeh_is_loading--;\n      if (root._bokeh_is_loading === 0) {\n        console.debug(\"Bokeh: all BokehJS libraries/stylesheets loaded\");\n        run_callbacks()\n      }\n    }\n\n    function on_error(url) {\n      console.error(\"failed to load \" + url);\n    }\n\n    for (let i = 0; i < css_urls.length; i++) {\n      const url = css_urls[i];\n      const element = document.createElement(\"link\");\n      element.onload = on_load;\n      element.onerror = on_error.bind(null, url);\n      element.rel = \"stylesheet\";\n      element.type = \"text/css\";\n      element.href = url;\n      console.debug(\"Bokeh: injecting link tag for BokehJS stylesheet: \", url);\n      document.body.appendChild(element);\n    }\n\n    for (let i = 0; i < js_urls.length; i++) {\n      const url = js_urls[i];\n      const element = document.createElement('script');\n      element.onload = on_load;\n      element.onerror = on_error.bind(null, url);\n      element.async = false;\n      element.src = url;\n      console.debug(\"Bokeh: injecting script tag for BokehJS library: \", url);\n      document.head.appendChild(element);\n    }\n  };\n\n  function inject_raw_css(css) {\n    const element = document.createElement(\"style\");\n    element.appendChild(document.createTextNode(css));\n    document.body.appendChild(element);\n  }\n\n  \n  const js_urls = [\"https://cdn.bokeh.org/bokeh/release/bokeh-2.4.0.min.js\", \"https://cdn.bokeh.org/bokeh/release/bokeh-gl-2.4.0.min.js\", \"https://cdn.bokeh.org/bokeh/release/bokeh-widgets-2.4.0.min.js\", \"https://cdn.bokeh.org/bokeh/release/bokeh-tables-2.4.0.min.js\", \"https://cdn.bokeh.org/bokeh/release/bokeh-mathjax-2.4.0.min.js\"];\n  const css_urls = [];\n  \n\n  const inline_js = [\n    function(Bokeh) {\n      Bokeh.set_log_level(\"info\");\n    },\n    function(Bokeh) {\n    \n    \n    }\n  ];\n\n  function run_inline_js() {\n    \n    if (root.Bokeh !== undefined || force === true) {\n      \n    for (let i = 0; i < inline_js.length; i++) {\n      inline_js[i].call(root, root.Bokeh);\n    }\n    if (force === true) {\n        display_loaded();\n      }} else if (Date.now() < root._bokeh_timeout) {\n      setTimeout(run_inline_js, 100);\n    } else if (!root._bokeh_failed_load) {\n      console.log(\"Bokeh: BokehJS failed to load within specified timeout.\");\n      root._bokeh_failed_load = true;\n    } else if (force !== true) {\n      const cell = $(document.getElementById(\"1655\")).parents('.cell').data().cell;\n      cell.output_area.append_execute_result(NB_LOAD_WARNING)\n    }\n\n  }\n\n  if (root._bokeh_is_loading === 0) {\n    console.debug(\"Bokeh: BokehJS loaded, going straight to plotting\");\n    run_inline_js();\n  } else {\n    load_libs(css_urls, js_urls, function() {\n      console.debug(\"Bokeh: BokehJS plotting callback run at\", now());\n      run_inline_js();\n    });\n  }\n}(window));"
     },
     "metadata": {},
     "output_type": "display_data"
    }
   ],
   "source": [
    "#import bokeh function\n",
    "from bokeh.plotting import figure, show\n",
    "from bokeh.io import output_notebook\n",
    "from bokeh.layouts import row, column\n",
    "from bokeh.io import export_png\n",
    "from bokeh.models import DatetimeTickFormatter, TickFormatter, ColumnDataSource, Legend, Range1d, FactorRange\n",
    "from bokeh.transform import dodge\n",
    "from bokeh.core.properties import Dict, Int, String\n",
    "\n",
    "output_notebook()\n"
   ]
  },
  {
   "cell_type": "markdown",
   "id": "961208aa",
   "metadata": {},
   "source": [
    "The guidelines say: \"Limiting added sugars* to less than 10% of calories per day for ages 2 and older and to avoid added sugars for infants and toddlers;\n",
    "Limiting saturated fat to less than 10% of calories per day starting at age 2;\n",
    "Limiting sodium intake to less than 2,300mg per day (or even less if younger than 14);\""
   ]
  },
  {
   "cell_type": "code",
   "execution_count": 17,
   "id": "bfc2952b",
   "metadata": {},
   "outputs": [],
   "source": [
    "import pandas as pd\n",
    "\n",
    "#STEP 1. Import the data\n",
    "cereal_details=pd.read_csv('cereal.csv')[['name','protein','fat',\\\n",
    "    'sodium','sugars','potass','vitamins']]\\\n",
    "    .applymap(lambda x: np.nan if (type(x)!=str and x<0) else x).dropna()"
   ]
  },
  {
   "cell_type": "code",
   "execution_count": 18,
   "id": "547ce964",
   "metadata": {},
   "outputs": [],
   "source": [
    "#STEP 2. assign recommendation to the five with the lowest sugar and sodium\n",
    "\n",
    "#normalize the nutrients so that they can be on the same plot\n",
    "stds=cereal_details.describe().loc['std',:].apply(lambda x: sigfig.round(x, sigfigs=1)).to_dict()\n",
    "normalized_cereal_details=copy.deepcopy(cereal_details)\n",
    "for col in cereal_details.columns[1:]:\n",
    "    normalized_cereal_details[col]=cereal_details[col]/stds.get(col)\n",
    "    \n",
    "sorted_cereals=normalized_cereal_details\\\n",
    "    .sort_values(by=['sugars','sodium','fat']).reset_index(drop=True)\n",
    "sorted_cereals['recommended']=False\n",
    "sorted_cereals.loc[:5,'recommended']=True\n",
    "sorted_cereals['norm_sodium']=sorted_cereals['sodium'].apply(lambda x: round(x))"
   ]
  },
  {
   "cell_type": "code",
   "execution_count": 8,
   "id": "f36ccadd",
   "metadata": {},
   "outputs": [
    {
     "data": {
      "text/html": [
       "\n",
       "\n",
       "\n",
       "\n",
       "\n",
       "\n",
       "  <div class=\"bk-root\" id=\"cfee4c12-5dab-48a2-90ff-b100253cec8f\" data-root-id=\"1004\"></div>\n"
      ]
     },
     "metadata": {},
     "output_type": "display_data"
    },
    {
     "data": {
      "application/javascript": [
       "(function(root) {\n",
       "  function embed_document(root) {\n",
       "    \n",
       "  const docs_json = {\"17a0d9f9-2767-4425-a1d4-8aeff4e72389\":{\"defs\":[],\"roots\":{\"references\":[{\"attributes\":{\"below\":[{\"id\":\"1013\"}],\"center\":[{\"id\":\"1016\"},{\"id\":\"1019\"},{\"id\":\"1052\"}],\"height\":2000,\"left\":[{\"id\":\"1017\"}],\"renderers\":[{\"id\":\"1039\"},{\"id\":\"1059\"},{\"id\":\"1078\"},{\"id\":\"1097\"},{\"id\":\"1116\"},{\"id\":\"1135\"}],\"title\":{\"id\":\"1151\"},\"toolbar\":{\"id\":\"1027\"},\"toolbar_location\":null,\"x_range\":{\"id\":\"1005\"},\"x_scale\":{\"id\":\"1009\"},\"y_range\":{\"id\":\"1007\"},\"y_scale\":{\"id\":\"1011\"}},\"id\":\"1004\",\"subtype\":\"Figure\",\"type\":\"Plot\"},{\"attributes\":{\"factors\":[\"Smacks\",\"Golden Crisp\",\"Post Nat. Raisin Bran\",\"Total Raisin Bran\",\"Apple Jacks\",\"Cocoa Puffs\",\"Count Chocula\",\"Mueslix Crispy Blend\",\"Froot Loops\",\"Fruitful Bran\",\"Cap'n'Crunch\",\"Raisin Bran\",\"Lucky Charms\",\"Trix\",\"Fruity Pebbles\",\"Corn Pops\",\"Honey Graham Ohs\",\"Frosted Flakes\",\"Honey-comb\",\"Muesli Raisins; Peaches; & Pecans\",\"Muesli Raisins; Dates; & Almonds\",\"Honey Nut Cheerios\",\"Apple Cinnamon Cheerios\",\"Oatmeal Raisin Crisp\",\"Fruit & Fibre Dates; Walnuts; and Oats\",\"Crispy Wheat & Raisins\",\"Golden Grahams\",\"Cinnamon Toast Crunch\",\"Nut&Honey Crunch\",\"Just Right Fruit & Nut\",\"Basic 4\",\"Wheaties Honey Gold\",\"Raisin Nut Bran\",\"100% Natural Bran\",\"Nutri-Grain Almond-Raisin\",\"Clusters\",\"Cracklin' Oat Bran\",\"Frosted Mini-Wheats\",\"Multi-Grain Cheerios\",\"Bran Chex\",\"Just Right Crunchy  Nuggets\",\"Life\",\"Quaker Oat Squares\",\"100% Bran\",\"Raisin Squares\",\"All-Bran\",\"Bran Flakes\",\"Double Chex\",\"Grape Nuts Flakes\",\"Strawberry Fruit Wheats\",\"Great Grains Pecan\",\"Product 19\",\"Rice Krispies\",\"Corn Chex\",\"Kix\",\"Triples\",\"Special K\",\"Wheat Chex\",\"Crispix\",\"Total Corn Flakes\",\"Total Whole Grain\",\"Wheaties\",\"Grape-Nuts\",\"Maypo\",\"Corn Flakes\",\"Rice Chex\",\"Nutri-grain Wheat\",\"Cheerios\",\"**All-Bran with Extra Fiber**\",\"**Puffed Rice**\",\"**Puffed Wheat**\",\"**Shredded Wheat**\",\"**Shredded Wheat 'n'Bran**\",\"**Shredded Wheat spoon size**\"]},\"id\":\"1007\",\"type\":\"FactorRange\"},{\"attributes\":{\"fill_alpha\":{\"value\":0.2},\"fill_color\":{\"value\":\"limegreen\"},\"hatch_alpha\":{\"value\":0.2},\"hatch_color\":{\"value\":\"limegreen\"},\"height\":{\"value\":0.05},\"line_alpha\":{\"value\":0.2},\"line_color\":{\"value\":\"limegreen\"},\"right\":{\"field\":\"sodium\"},\"y\":{\"field\":\"recommended_name\",\"transform\":{\"id\":\"1111\"}}},\"id\":\"1115\",\"type\":\"HBar\"},{\"attributes\":{\"source\":{\"id\":\"1003\"}},\"id\":\"1040\",\"type\":\"CDSView\"},{\"attributes\":{},\"id\":\"1024\",\"type\":\"ResetTool\"},{\"attributes\":{},\"id\":\"1050\",\"type\":\"Selection\"},{\"attributes\":{},\"id\":\"1009\",\"type\":\"LinearScale\"},{\"attributes\":{},\"id\":\"1025\",\"type\":\"HelpTool\"},{\"attributes\":{\"range\":{\"id\":\"1007\"},\"value\":-0.1},\"id\":\"1111\",\"type\":\"Dodge\"},{\"attributes\":{\"fill_alpha\":{\"value\":0.2},\"fill_color\":{\"value\":\"tomato\"},\"hatch_alpha\":{\"value\":0.2},\"hatch_color\":{\"value\":\"tomato\"},\"height\":{\"value\":0.05},\"line_alpha\":{\"value\":0.2},\"line_color\":{\"value\":\"tomato\"},\"right\":{\"field\":\"protein\"},\"y\":{\"field\":\"recommended_name\",\"transform\":{\"id\":\"1073\"}}},\"id\":\"1077\",\"type\":\"HBar\"},{\"attributes\":{\"fill_alpha\":{\"value\":0.1},\"fill_color\":{\"value\":\"limegreen\"},\"hatch_alpha\":{\"value\":0.1},\"hatch_color\":{\"value\":\"limegreen\"},\"height\":{\"value\":0.05},\"line_alpha\":{\"value\":0.1},\"line_color\":{\"value\":\"limegreen\"},\"right\":{\"field\":\"sodium\"},\"y\":{\"field\":\"recommended_name\",\"transform\":{\"id\":\"1111\"}}},\"id\":\"1114\",\"type\":\"HBar\"},{\"attributes\":{\"range\":{\"id\":\"1007\"},\"value\":0.30000000000000004},\"id\":\"1034\",\"type\":\"Dodge\"},{\"attributes\":{},\"id\":\"1044\",\"type\":\"CategoricalTickFormatter\"},{\"attributes\":{\"coordinates\":null,\"data_source\":{\"id\":\"1003\"},\"glyph\":{\"id\":\"1036\"},\"group\":null,\"hover_glyph\":null,\"muted_glyph\":{\"id\":\"1038\"},\"nonselection_glyph\":{\"id\":\"1037\"},\"view\":{\"id\":\"1040\"}},\"id\":\"1039\",\"type\":\"GlyphRenderer\"},{\"attributes\":{\"end\":8,\"start\":-8},\"id\":\"1005\",\"type\":\"Range1d\"},{\"attributes\":{\"axis_label\":\"bad substances to limit --- good nutrients to include\",\"coordinates\":null,\"formatter\":{\"id\":\"1047\"},\"group\":null,\"major_label_overrides\":{\"-1\":\"\",\"-2\":\"\",\"-3\":\"\",\"-4\":\"\",\"-5\":\"\",\"-6\":\"\",\"0\":\"\",\"1\":\"\",\"2\":\"\",\"3\":\"\",\"4\":\"\",\"5\":\"\",\"6\":\"\"},\"major_label_policy\":{\"id\":\"1048\"},\"ticker\":{\"id\":\"1149\"}},\"id\":\"1013\",\"type\":\"LinearAxis\"},{\"attributes\":{\"bottom_units\":\"screen\",\"coordinates\":null,\"fill_alpha\":0.5,\"fill_color\":\"lightgrey\",\"group\":null,\"left_units\":\"screen\",\"level\":\"overlay\",\"line_alpha\":1.0,\"line_color\":\"black\",\"line_dash\":[4,4],\"line_width\":2,\"right_units\":\"screen\",\"syncable\":false,\"top_units\":\"screen\"},\"id\":\"1026\",\"type\":\"BoxAnnotation\"},{\"attributes\":{\"fill_alpha\":{\"value\":0.1},\"fill_color\":{\"value\":\"tomato\"},\"hatch_alpha\":{\"value\":0.1},\"hatch_color\":{\"value\":\"tomato\"},\"height\":{\"value\":0.05},\"line_alpha\":{\"value\":0.1},\"line_color\":{\"value\":\"tomato\"},\"right\":{\"field\":\"protein\"},\"y\":{\"field\":\"recommended_name\",\"transform\":{\"id\":\"1073\"}}},\"id\":\"1076\",\"type\":\"HBar\"},{\"attributes\":{\"fill_color\":{\"value\":\"limegreen\"},\"hatch_color\":{\"value\":\"limegreen\"},\"height\":{\"value\":0.05},\"line_color\":{\"value\":\"limegreen\"},\"right\":{\"field\":\"sodium\"},\"y\":{\"field\":\"recommended_name\",\"transform\":{\"id\":\"1111\"}}},\"id\":\"1113\",\"type\":\"HBar\"},{\"attributes\":{\"coordinates\":null,\"data_source\":{\"id\":\"1003\"},\"glyph\":{\"id\":\"1113\"},\"group\":null,\"hover_glyph\":null,\"muted_glyph\":{\"id\":\"1115\"},\"nonselection_glyph\":{\"id\":\"1114\"},\"view\":{\"id\":\"1117\"}},\"id\":\"1116\",\"type\":\"GlyphRenderer\"},{\"attributes\":{},\"id\":\"1048\",\"type\":\"AllLabels\"},{\"attributes\":{},\"id\":\"1018\",\"type\":\"CategoricalTicker\"},{\"attributes\":{\"fill_color\":{\"value\":\"tomato\"},\"hatch_color\":{\"value\":\"tomato\"},\"height\":{\"value\":0.05},\"line_color\":{\"value\":\"tomato\"},\"right\":{\"field\":\"protein\"},\"y\":{\"field\":\"recommended_name\",\"transform\":{\"id\":\"1073\"}}},\"id\":\"1075\",\"type\":\"HBar\"},{\"attributes\":{\"source\":{\"id\":\"1003\"}},\"id\":\"1117\",\"type\":\"CDSView\"},{\"attributes\":{\"range\":{\"id\":\"1007\"},\"value\":0.1},\"id\":\"1073\",\"type\":\"Dodge\"},{\"attributes\":{\"coordinates\":null,\"group\":null,\"text\":\"Nutrient composition of each cereal\"},\"id\":\"1151\",\"type\":\"Title\"},{\"attributes\":{\"coordinates\":null,\"data_source\":{\"id\":\"1003\"},\"glyph\":{\"id\":\"1075\"},\"group\":null,\"hover_glyph\":null,\"muted_glyph\":{\"id\":\"1077\"},\"nonselection_glyph\":{\"id\":\"1076\"},\"view\":{\"id\":\"1079\"}},\"id\":\"1078\",\"type\":\"GlyphRenderer\"},{\"attributes\":{\"axis\":{\"id\":\"1017\"},\"coordinates\":null,\"dimension\":1,\"group\":null,\"ticker\":null},\"id\":\"1019\",\"type\":\"Grid\"},{\"attributes\":{\"fill_alpha\":{\"value\":0.1},\"fill_color\":{\"value\":\"lightsalmon\"},\"hatch_alpha\":{\"value\":0.1},\"hatch_color\":{\"value\":\"lightsalmon\"},\"height\":{\"value\":0.05},\"line_alpha\":{\"value\":0.1},\"line_color\":{\"value\":\"lightsalmon\"},\"right\":{\"field\":\"vitamins\"},\"y\":{\"field\":\"recommended_name\",\"transform\":{\"id\":\"1054\"}}},\"id\":\"1057\",\"type\":\"HBar\"},{\"attributes\":{\"axis\":{\"id\":\"1013\"},\"coordinates\":null,\"group\":null,\"ticker\":null},\"id\":\"1016\",\"type\":\"Grid\"},{\"attributes\":{\"fill_alpha\":{\"value\":0.1},\"fill_color\":{\"value\":\"gold\"},\"hatch_alpha\":{\"value\":0.1},\"hatch_color\":{\"value\":\"gold\"},\"height\":{\"value\":0.05},\"line_alpha\":{\"value\":0.1},\"line_color\":{\"value\":\"gold\"},\"right\":{\"field\":\"potass\"},\"y\":{\"field\":\"recommended_name\",\"transform\":{\"id\":\"1034\"}}},\"id\":\"1037\",\"type\":\"HBar\"},{\"attributes\":{\"source\":{\"id\":\"1003\"}},\"id\":\"1079\",\"type\":\"CDSView\"},{\"attributes\":{},\"id\":\"1049\",\"type\":\"UnionRenderers\"},{\"attributes\":{\"fill_color\":{\"value\":\"gold\"},\"hatch_color\":{\"value\":\"gold\"},\"height\":{\"value\":0.05},\"line_color\":{\"value\":\"gold\"},\"right\":{\"field\":\"potass\"},\"y\":{\"field\":\"recommended_name\",\"transform\":{\"id\":\"1034\"}}},\"id\":\"1036\",\"type\":\"HBar\"},{\"attributes\":{\"fill_alpha\":{\"value\":0.1},\"fill_color\":{\"value\":\"deepskyblue\"},\"hatch_alpha\":{\"value\":0.1},\"hatch_color\":{\"value\":\"deepskyblue\"},\"height\":{\"value\":0.05},\"line_alpha\":{\"value\":0.1},\"line_color\":{\"value\":\"deepskyblue\"},\"right\":{\"field\":\"sugars\"},\"y\":{\"field\":\"recommended_name\",\"transform\":{\"id\":\"1130\"}}},\"id\":\"1133\",\"type\":\"HBar\"},{\"attributes\":{\"label\":{\"value\":\"potassium (70mg)\"},\"renderers\":[{\"id\":\"1039\"}]},\"id\":\"1053\",\"type\":\"LegendItem\"},{\"attributes\":{\"label\":{\"value\":\"protein (g)\"},\"renderers\":[{\"id\":\"1078\"}]},\"id\":\"1091\",\"type\":\"LegendItem\"},{\"attributes\":{\"range\":{\"id\":\"1007\"},\"value\":0.2},\"id\":\"1054\",\"type\":\"Dodge\"},{\"attributes\":{\"range\":{\"id\":\"1007\"}},\"id\":\"1092\",\"type\":\"Dodge\"},{\"attributes\":{\"range\":{\"id\":\"1007\"},\"value\":-0.2},\"id\":\"1130\",\"type\":\"Dodge\"},{\"attributes\":{\"coordinates\":null,\"data_source\":{\"id\":\"1003\"},\"glyph\":{\"id\":\"1132\"},\"group\":null,\"hover_glyph\":null,\"muted_glyph\":{\"id\":\"1134\"},\"nonselection_glyph\":{\"id\":\"1133\"},\"view\":{\"id\":\"1136\"}},\"id\":\"1135\",\"type\":\"GlyphRenderer\"},{\"attributes\":{\"data\":{\"fat\":{\"__ndarray__\":\"AAAAAAAA8L8AAAAAAAAAgAAAAAAAAPC/AAAAAAAA8L8AAAAAAAAAgAAAAAAAAPC/AAAAAAAA8L8AAAAAAAAAwAAAAAAAAPC/AAAAAAAAAIAAAAAAAAAAwAAAAAAAAPC/AAAAAAAA8L8AAAAAAADwvwAAAAAAAPC/AAAAAAAAAIAAAAAAAAAAwAAAAAAAAACAAAAAAAAAAIAAAAAAAAAIwAAAAAAAAAjAAAAAAAAA8L8AAAAAAAAAwAAAAAAAAADAAAAAAAAAAMAAAAAAAADwvwAAAAAAAPC/AAAAAAAACMAAAAAAAADwvwAAAAAAAPC/AAAAAAAAAMAAAAAAAADwvwAAAAAAAADAAAAAAAAAFMAAAAAAAAAAwAAAAAAAAADAAAAAAAAACMAAAAAAAAAAgAAAAAAAAPC/AAAAAAAA8L8AAAAAAADwvwAAAAAAAADAAAAAAAAA8L8AAAAAAADwvwAAAAAAAACAAAAAAAAA8L8AAAAAAAAAgAAAAAAAAACAAAAAAAAA8L8AAAAAAAAAgAAAAAAAAAjAAAAAAAAAAIAAAAAAAAAAgAAAAAAAAACAAAAAAAAA8L8AAAAAAADwvwAAAAAAAACAAAAAAAAA8L8AAAAAAAAAgAAAAAAAAPC/AAAAAAAA8L8AAAAAAADwvwAAAAAAAACAAAAAAAAA8L8AAAAAAAAAgAAAAAAAAACAAAAAAAAAAIAAAAAAAAAAwAAAAAAAAACAAAAAAAAAAIAAAAAAAAAAgAAAAAAAAACAAAAAAAAAAIAAAAAAAAAAgA==\",\"dtype\":\"float64\",\"order\":\"little\",\"shape\":[74]},\"potass\":{\"__ndarray__\":\"kiRJkiRJ4j+SJEmSJEniP27btm3btg1AkiRJkiRJCkDbtm3btm3bP0mSJEmSJOk/btu2bdu27T+SJEmSJEkCQNu2bdu2bds/btu2bdu2BUAAAAAAAADgP9u2bdu2bQtASZIkSZIk6T+3bdu2bdvWP7dt27Zt29Y/kiRJkiRJ0j8lSZIkSZLkP7dt27Zt29Y/AAAAAAAA4D/btm3btm0DQNu2bdu2bQNAJUmSJEmS9D8AAAAAAADwP9u2bdu2bfs/t23btm3bBkDbtm3btm37PyVJkiRJkuQ/JUmSJEmS5D+SJEmSJEniP27btm3btvU/t23btm3b9j/btm3btm3rPwAAAAAAAABAt23btm3b/j9u27Zt27b9PwAAAAAAAPg/kiRJkiRJAkC3bdu2bdv2PyVJkiRJkvQ/JUmSJEmS/D/btm3btm3rP27btm3btvU/SZIkSZIk+T8AAAAAAAAQQEmSJEmSJPk/kiRJkiRJEkBu27Zt27YFQJIkSZIkSfI/27Zt27Zt8z8lSZIkSZL0P7dt27Zt2/Y/JUmSJEmS5D8AAAAAAADgP7dt27Zt29Y/kiRJkiRJ4j/btm3btm3rP0mSJEmSJOk/kiRJkiRJ+j/btm3btm3bPwAAAAAAAOA/SZIkSZIk+T9JkiRJkiT5PyVJkiRJkvQ/btu2bdu29T8AAAAAAADgP9u2bdu2bds/JUmSJEmS9D8AAAAAAAD4P7dt27Zt2xJA27Zt27Ztyz+3bdu2bdvmP27btm3btvU/AAAAAAAAAEDbtm3btm37Pw==\",\"dtype\":\"float64\",\"order\":\"little\",\"shape\":[74]},\"protein\":{\"__ndarray__\":\"AAAAAAAAAEAAAAAAAAAAQAAAAAAAAAhAAAAAAAAACEAAAAAAAAAAQAAAAAAAAPA/AAAAAAAA8D8AAAAAAAAIQAAAAAAAAABAAAAAAAAACEAAAAAAAADwPwAAAAAAAAhAAAAAAAAAAEAAAAAAAADwPwAAAAAAAPA/AAAAAAAA8D8AAAAAAADwPwAAAAAAAPA/AAAAAAAA8D8AAAAAAAAQQAAAAAAAABBAAAAAAAAACEAAAAAAAAAAQAAAAAAAAAhAAAAAAAAACEAAAAAAAAAAQAAAAAAAAPA/AAAAAAAA8D8AAAAAAAAAQAAAAAAAAAhAAAAAAAAACEAAAAAAAAAAQAAAAAAAAAhAAAAAAAAACEAAAAAAAAAIQAAAAAAAAAhAAAAAAAAACEAAAAAAAAAIQAAAAAAAAABAAAAAAAAAAEAAAAAAAAAAQAAAAAAAABBAAAAAAAAAEEAAAAAAAAAQQAAAAAAAAABAAAAAAAAAEEAAAAAAAAAIQAAAAAAAAABAAAAAAAAACEAAAAAAAAAAQAAAAAAAAAhAAAAAAAAACEAAAAAAAAAAQAAAAAAAAABAAAAAAAAAAEAAAAAAAAAAQAAAAAAAABhAAAAAAAAACEAAAAAAAAAAQAAAAAAAAABAAAAAAAAACEAAAAAAAAAIQAAAAAAAAAhAAAAAAAAAEEAAAAAAAAAAQAAAAAAAAPA/AAAAAAAACEAAAAAAAAAYQAAAAAAAABBAAAAAAAAA8D8AAAAAAAAAQAAAAAAAAABAAAAAAAAACEAAAAAAAAAIQA==\",\"dtype\":\"float64\",\"order\":\"little\",\"shape\":[74]},\"recommended_name\":[\"Smacks\",\"Golden Crisp\",\"Post Nat. Raisin Bran\",\"Total Raisin Bran\",\"Apple Jacks\",\"Cocoa Puffs\",\"Count Chocula\",\"Mueslix Crispy Blend\",\"Froot Loops\",\"Fruitful Bran\",\"Cap'n'Crunch\",\"Raisin Bran\",\"Lucky Charms\",\"Trix\",\"Fruity Pebbles\",\"Corn Pops\",\"Honey Graham Ohs\",\"Frosted Flakes\",\"Honey-comb\",\"Muesli Raisins; Peaches; & Pecans\",\"Muesli Raisins; Dates; & Almonds\",\"Honey Nut Cheerios\",\"Apple Cinnamon Cheerios\",\"Oatmeal Raisin Crisp\",\"Fruit & Fibre Dates; Walnuts; and Oats\",\"Crispy Wheat & Raisins\",\"Golden Grahams\",\"Cinnamon Toast Crunch\",\"Nut&Honey Crunch\",\"Just Right Fruit & Nut\",\"Basic 4\",\"Wheaties Honey Gold\",\"Raisin Nut Bran\",\"100% Natural Bran\",\"Nutri-Grain Almond-Raisin\",\"Clusters\",\"Cracklin' Oat Bran\",\"Frosted Mini-Wheats\",\"Multi-Grain Cheerios\",\"Bran Chex\",\"Just Right Crunchy  Nuggets\",\"Life\",\"Quaker Oat Squares\",\"100% Bran\",\"Raisin Squares\",\"All-Bran\",\"Bran Flakes\",\"Double Chex\",\"Grape Nuts Flakes\",\"Strawberry Fruit Wheats\",\"Great Grains Pecan\",\"Product 19\",\"Rice Krispies\",\"Corn Chex\",\"Kix\",\"Triples\",\"Special K\",\"Wheat Chex\",\"Crispix\",\"Total Corn Flakes\",\"Total Whole Grain\",\"Wheaties\",\"Grape-Nuts\",\"Maypo\",\"Corn Flakes\",\"Rice Chex\",\"Nutri-grain Wheat\",\"Cheerios\",\"**All-Bran with Extra Fiber**\",\"**Puffed Rice**\",\"**Puffed Wheat**\",\"**Shredded Wheat**\",\"**Shredded Wheat 'n'Bran**\",\"**Shredded Wheat spoon size**\"],\"sodium\":{\"__ndarray__\":\"AAAAAAAA7L8AAAAAAADivwAAAAAAAATAAAAAAAAAA8AAAAAAAAD5vwAAAAAAAALAAAAAAAAAAsAAAAAAAAD+vwAAAAAAAPm/AAAAAAAACMAAAAAAAAAGwAAAAAAAAAXAAAAAAAAAAsAAAAAAAAD8vwAAAAAAAPu/AAAAAAAA8r8AAAAAAAAGwAAAAAAAAATAAAAAAAAAAsAAAAAAAAD+vwAAAAAAAPO/AAAAAAAACcAAAAAAAAACwAAAAAAAAAHAAAAAAAAAAMAAAAAAAAD8vwAAAAAAAAzAAAAAAAAABcAAAAAAAAADwAAAAAAAAAHAAAAAAAAABcAAAAAAAAAEwAAAAAAAAPy/AAAAAAAAyL8AAAAAAAAGwAAAAAAAAPy/AAAAAAAA/L8AAAAAAAAAgAAAAAAAAAbAAAAAAAAABMAAAAAAAAABwAAAAAAAAP6/AAAAAAAA+78AAAAAAAD6vwAAAAAAAACAAAAAAAAACsAAAAAAAAAFwAAAAAAAAAPAAAAAAAAA/L8AAAAAAADIvwAAAAAAAO6/AAAAAAAAEMAAAAAAAAANwAAAAAAAAAzAAAAAAAAACsAAAAAAAAAJwAAAAAAAAAfAAAAAAAAAB8AAAAAAAAAGwAAAAAAAAATAAAAAAAAABMAAAAAAAAAEwAAAAAAAAAHAAAAAAAAAAIAAAAAAAAANwAAAAAAAAAjAAAAAAAAAAcAAAAAAAAANwAAAAAAAAPy/AAAAAAAAAIAAAAAAAAAAgAAAAAAAAACAAAAAAAAAAIAAAAAAAAAAgA==\",\"dtype\":\"float64\",\"order\":\"little\",\"shape\":[74]},\"sugars\":{\"__ndarray__\":\"AAAAAAAADsAAAAAAAAAOwAAAAAAAAAzAAAAAAAAADMAAAAAAAAAMwAAAAAAAAArAAAAAAAAACsAAAAAAAAAKwAAAAAAAAArAAAAAAAAACMAAAAAAAAAIwAAAAAAAAAjAAAAAAAAACMAAAAAAAAAIwAAAAAAAAAjAAAAAAAAACMAAAAAAAAAGwAAAAAAAAAbAAAAAAAAABsAAAAAAAAAGwAAAAAAAAAbAAAAAAAAABMAAAAAAAAAEwAAAAAAAAATAAAAAAAAABMAAAAAAAAAEwAAAAAAAAALAAAAAAAAAAsAAAAAAAAACwAAAAAAAAALAAAAAAAAAAMAAAAAAAAAAwAAAAAAAAADAAAAAAAAAAMAAAAAAAAD8vwAAAAAAAPy/AAAAAAAA/L8AAAAAAAD8vwAAAAAAAPi/AAAAAAAA+L8AAAAAAAD4vwAAAAAAAPi/AAAAAAAA+L8AAAAAAAD4vwAAAAAAAPi/AAAAAAAA9L8AAAAAAAD0vwAAAAAAAPS/AAAAAAAA9L8AAAAAAAD0vwAAAAAAAPC/AAAAAAAA6L8AAAAAAADovwAAAAAAAOi/AAAAAAAA6L8AAAAAAADovwAAAAAAAOi/AAAAAAAA6L8AAAAAAADovwAAAAAAAOi/AAAAAAAA6L8AAAAAAADovwAAAAAAAOi/AAAAAAAA6L8AAAAAAADgvwAAAAAAAOC/AAAAAAAA4L8AAAAAAADQvwAAAAAAAACAAAAAAAAAAIAAAAAAAAAAgAAAAAAAAACAAAAAAAAAAIAAAAAAAAAAgA==\",\"dtype\":\"float64\",\"order\":\"little\",\"shape\":[74]},\"vitamins\":{\"__ndarray__\":\"AAAAAAAA9D8AAAAAAAD0PwAAAAAAAPQ/AAAAAAAAFEAAAAAAAAD0PwAAAAAAAPQ/AAAAAAAA9D8AAAAAAAD0PwAAAAAAAPQ/AAAAAAAA9D8AAAAAAAD0PwAAAAAAAPQ/AAAAAAAA9D8AAAAAAAD0PwAAAAAAAPQ/AAAAAAAA9D8AAAAAAAD0PwAAAAAAAPQ/AAAAAAAA9D8AAAAAAAD0PwAAAAAAAPQ/AAAAAAAA9D8AAAAAAAD0PwAAAAAAAPQ/AAAAAAAA9D8AAAAAAAD0PwAAAAAAAPQ/AAAAAAAA9D8AAAAAAAD0PwAAAAAAABRAAAAAAAAA9D8AAAAAAAD0PwAAAAAAAPQ/AAAAAAAAAAAAAAAAAAD0PwAAAAAAAPQ/AAAAAAAA9D8AAAAAAAD0PwAAAAAAAPQ/AAAAAAAA9D8AAAAAAAAUQAAAAAAAAPQ/AAAAAAAA9D8AAAAAAAD0PwAAAAAAAPQ/AAAAAAAA9D8AAAAAAAD0PwAAAAAAAPQ/AAAAAAAA9D8AAAAAAAD0PwAAAAAAAPQ/AAAAAAAAFEAAAAAAAAD0PwAAAAAAAPQ/AAAAAAAA9D8AAAAAAAD0PwAAAAAAAPQ/AAAAAAAA9D8AAAAAAAD0PwAAAAAAABRAAAAAAAAAFEAAAAAAAAD0PwAAAAAAAPQ/AAAAAAAA9D8AAAAAAAD0PwAAAAAAAPQ/AAAAAAAA9D8AAAAAAAD0PwAAAAAAAPQ/AAAAAAAAAAAAAAAAAAAAAAAAAAAAAAAAAAAAAAAAAAAAAAAAAAAAAA==\",\"dtype\":\"float64\",\"order\":\"little\",\"shape\":[74]}},\"selected\":{\"id\":\"1050\"},\"selection_policy\":{\"id\":\"1049\"}},\"id\":\"1003\",\"type\":\"ColumnDataSource\"},{\"attributes\":{\"tools\":[{\"id\":\"1020\"},{\"id\":\"1021\"},{\"id\":\"1022\"},{\"id\":\"1023\"},{\"id\":\"1024\"},{\"id\":\"1025\"}]},\"id\":\"1027\",\"type\":\"Toolbar\"},{\"attributes\":{\"fill_alpha\":{\"value\":0.2},\"fill_color\":{\"value\":\"lightsalmon\"},\"hatch_alpha\":{\"value\":0.2},\"hatch_color\":{\"value\":\"lightsalmon\"},\"height\":{\"value\":0.05},\"line_alpha\":{\"value\":0.2},\"line_color\":{\"value\":\"lightsalmon\"},\"right\":{\"field\":\"vitamins\"},\"y\":{\"field\":\"recommended_name\",\"transform\":{\"id\":\"1054\"}}},\"id\":\"1058\",\"type\":\"HBar\"},{\"attributes\":{\"fill_color\":{\"value\":\"deepskyblue\"},\"hatch_color\":{\"value\":\"deepskyblue\"},\"height\":{\"value\":0.05},\"line_color\":{\"value\":\"deepskyblue\"},\"right\":{\"field\":\"sugars\"},\"y\":{\"field\":\"recommended_name\",\"transform\":{\"id\":\"1130\"}}},\"id\":\"1132\",\"type\":\"HBar\"},{\"attributes\":{\"fill_alpha\":{\"value\":0.2},\"fill_color\":{\"value\":\"lightgreen\"},\"hatch_alpha\":{\"value\":0.2},\"hatch_color\":{\"value\":\"lightgreen\"},\"height\":{\"value\":0.05},\"line_alpha\":{\"value\":0.2},\"line_color\":{\"value\":\"lightgreen\"},\"right\":{\"field\":\"fat\"},\"y\":{\"field\":\"recommended_name\",\"transform\":{\"id\":\"1092\"}}},\"id\":\"1096\",\"type\":\"HBar\"},{\"attributes\":{\"ticks\":[-6,-5,-4,-3,-2,-1,0,1,2,3,4,5,6]},\"id\":\"1149\",\"type\":\"FixedTicker\"},{\"attributes\":{\"coordinates\":null,\"formatter\":{\"id\":\"1044\"},\"group\":null,\"major_label_policy\":{\"id\":\"1045\"},\"ticker\":{\"id\":\"1018\"}},\"id\":\"1017\",\"type\":\"CategoricalAxis\"},{\"attributes\":{\"fill_alpha\":{\"value\":0.2},\"fill_color\":{\"value\":\"gold\"},\"hatch_alpha\":{\"value\":0.2},\"hatch_color\":{\"value\":\"gold\"},\"height\":{\"value\":0.05},\"line_alpha\":{\"value\":0.2},\"line_color\":{\"value\":\"gold\"},\"right\":{\"field\":\"potass\"},\"y\":{\"field\":\"recommended_name\",\"transform\":{\"id\":\"1034\"}}},\"id\":\"1038\",\"type\":\"HBar\"},{\"attributes\":{},\"id\":\"1011\",\"type\":\"CategoricalScale\"},{\"attributes\":{\"source\":{\"id\":\"1003\"}},\"id\":\"1136\",\"type\":\"CDSView\"},{\"attributes\":{},\"id\":\"1020\",\"type\":\"PanTool\"},{\"attributes\":{\"label\":{\"value\":\"fat (g)\"},\"renderers\":[{\"id\":\"1097\"}]},\"id\":\"1110\",\"type\":\"LegendItem\"},{\"attributes\":{\"label\":{\"value\":\"sodium (80mg)\"},\"renderers\":[{\"id\":\"1116\"}]},\"id\":\"1129\",\"type\":\"LegendItem\"},{\"attributes\":{\"source\":{\"id\":\"1003\"}},\"id\":\"1060\",\"type\":\"CDSView\"},{\"attributes\":{},\"id\":\"1021\",\"type\":\"WheelZoomTool\"},{\"attributes\":{\"fill_alpha\":{\"value\":0.1},\"fill_color\":{\"value\":\"lightgreen\"},\"hatch_alpha\":{\"value\":0.1},\"hatch_color\":{\"value\":\"lightgreen\"},\"height\":{\"value\":0.05},\"line_alpha\":{\"value\":0.1},\"line_color\":{\"value\":\"lightgreen\"},\"right\":{\"field\":\"fat\"},\"y\":{\"field\":\"recommended_name\",\"transform\":{\"id\":\"1092\"}}},\"id\":\"1095\",\"type\":\"HBar\"},{\"attributes\":{},\"id\":\"1045\",\"type\":\"AllLabels\"},{\"attributes\":{\"overlay\":{\"id\":\"1026\"}},\"id\":\"1022\",\"type\":\"BoxZoomTool\"},{\"attributes\":{},\"id\":\"1047\",\"type\":\"BasicTickFormatter\"},{\"attributes\":{\"label\":{\"value\":\"vitamins (20%)\"},\"renderers\":[{\"id\":\"1059\"}]},\"id\":\"1072\",\"type\":\"LegendItem\"},{\"attributes\":{\"label\":{\"value\":\"sugars (4g)\"},\"renderers\":[{\"id\":\"1135\"}]},\"id\":\"1148\",\"type\":\"LegendItem\"},{\"attributes\":{\"coordinates\":null,\"group\":null,\"items\":[{\"id\":\"1053\"},{\"id\":\"1072\"},{\"id\":\"1091\"},{\"id\":\"1110\"},{\"id\":\"1129\"},{\"id\":\"1148\"}],\"location\":\"top_left\"},\"id\":\"1052\",\"type\":\"Legend\"},{\"attributes\":{\"fill_alpha\":{\"value\":0.2},\"fill_color\":{\"value\":\"deepskyblue\"},\"hatch_alpha\":{\"value\":0.2},\"hatch_color\":{\"value\":\"deepskyblue\"},\"height\":{\"value\":0.05},\"line_alpha\":{\"value\":0.2},\"line_color\":{\"value\":\"deepskyblue\"},\"right\":{\"field\":\"sugars\"},\"y\":{\"field\":\"recommended_name\",\"transform\":{\"id\":\"1130\"}}},\"id\":\"1134\",\"type\":\"HBar\"},{\"attributes\":{\"fill_color\":{\"value\":\"lightgreen\"},\"hatch_color\":{\"value\":\"lightgreen\"},\"height\":{\"value\":0.05},\"line_color\":{\"value\":\"lightgreen\"},\"right\":{\"field\":\"fat\"},\"y\":{\"field\":\"recommended_name\",\"transform\":{\"id\":\"1092\"}}},\"id\":\"1094\",\"type\":\"HBar\"},{\"attributes\":{},\"id\":\"1023\",\"type\":\"SaveTool\"},{\"attributes\":{\"coordinates\":null,\"data_source\":{\"id\":\"1003\"},\"glyph\":{\"id\":\"1094\"},\"group\":null,\"hover_glyph\":null,\"muted_glyph\":{\"id\":\"1096\"},\"nonselection_glyph\":{\"id\":\"1095\"},\"view\":{\"id\":\"1098\"}},\"id\":\"1097\",\"type\":\"GlyphRenderer\"},{\"attributes\":{\"source\":{\"id\":\"1003\"}},\"id\":\"1098\",\"type\":\"CDSView\"},{\"attributes\":{\"fill_color\":{\"value\":\"lightsalmon\"},\"hatch_color\":{\"value\":\"lightsalmon\"},\"height\":{\"value\":0.05},\"line_color\":{\"value\":\"lightsalmon\"},\"right\":{\"field\":\"vitamins\"},\"y\":{\"field\":\"recommended_name\",\"transform\":{\"id\":\"1054\"}}},\"id\":\"1056\",\"type\":\"HBar\"},{\"attributes\":{\"coordinates\":null,\"data_source\":{\"id\":\"1003\"},\"glyph\":{\"id\":\"1056\"},\"group\":null,\"hover_glyph\":null,\"muted_glyph\":{\"id\":\"1058\"},\"nonselection_glyph\":{\"id\":\"1057\"},\"view\":{\"id\":\"1060\"}},\"id\":\"1059\",\"type\":\"GlyphRenderer\"}],\"root_ids\":[\"1004\"]},\"title\":\"Bokeh Application\",\"version\":\"2.4.0\"}};\n",
       "  const render_items = [{\"docid\":\"17a0d9f9-2767-4425-a1d4-8aeff4e72389\",\"root_ids\":[\"1004\"],\"roots\":{\"1004\":\"cfee4c12-5dab-48a2-90ff-b100253cec8f\"}}];\n",
       "  root.Bokeh.embed.embed_items_notebook(docs_json, render_items);\n",
       "\n",
       "  }\n",
       "  if (root.Bokeh !== undefined) {\n",
       "    embed_document(root);\n",
       "  } else {\n",
       "    let attempts = 0;\n",
       "    const timer = setInterval(function(root) {\n",
       "      if (root.Bokeh !== undefined) {\n",
       "        clearInterval(timer);\n",
       "        embed_document(root);\n",
       "      } else {\n",
       "        attempts++;\n",
       "        if (attempts > 100) {\n",
       "          clearInterval(timer);\n",
       "          console.log(\"Bokeh: ERROR: Unable to run BokehJS code because BokehJS library is missing\");\n",
       "        }\n",
       "      }\n",
       "    }, 10, root)\n",
       "  }\n",
       "})(window);"
      ],
      "application/vnd.bokehjs_exec.v0+json": ""
     },
     "metadata": {
      "application/vnd.bokehjs_exec.v0+json": {
       "id": "1004"
      }
     },
     "output_type": "display_data"
    }
   ],
   "source": [
    "#STEP 3. visualize composition of cereals\n",
    "df=sorted_cereals.sort_values(by=['sugars','sodium'], ascending=False)\n",
    "df['recommended_name']=df.apply(lambda x: '**'+x['name']+'**' if x['recommended']\\\n",
    "    else x['name'], axis=1)\n",
    "\n",
    "data={'recommended_name': df['recommended_name'],\n",
    "     'protein': df['protein'],\n",
    "     'sodium': -1*df['sodium'],\n",
    "     'sugars': -1*df['sugars'],\n",
    "     'vitamins': df['vitamins'],\n",
    "     'potass': df['potass'],\n",
    "     'fat': -1*df['fat']}\n",
    "\n",
    "source=ColumnDataSource(data=data)\n",
    "width=0.05\n",
    "delta=0.1\n",
    "\n",
    "p=figure(y_range=df['recommended_name'], height=2000, toolbar_location=None,\\\n",
    "        x_range=(-8,8))\n",
    "p.hbar(y=dodge('recommended_name',3*delta, range=p.y_range), height=width, right='potass', \\\n",
    "       color='gold', legend_label='potassium (70mg)', source=source)\n",
    "p.hbar(y=dodge('recommended_name',2*delta, range=p.y_range), height=width, right='vitamins', \\\n",
    "       color='lightsalmon', legend_label='vitamins (20%)', source=source)\n",
    "p.hbar(y=dodge('recommended_name',delta, range=p.y_range), height=width, right='protein', \\\n",
    "       color='tomato', legend_label='protein (g)', source=source)\n",
    "p.hbar(y=dodge('recommended_name',0, range=p.y_range), height=width, right='fat', \\\n",
    "       color='lightgreen', legend_label='fat (g)', source=source)\n",
    "p.hbar(y=dodge('recommended_name',-delta, range=p.y_range), height=width, right='sodium', \\\n",
    "       color='limegreen', legend_label='sodium (80mg)', source=source)\n",
    "p.hbar(y=dodge('recommended_name',-2*delta, range=p.y_range), height=width, right='sugars', \\\n",
    "       color='deepskyblue', legend_label='sugars (4g)', source=source)\n",
    "\n",
    "p.xaxis.ticker=list(range(-6,7))\n",
    "p.xaxis.major_label_overrides={-6:'',-5:'',-4:'',-3:'',-2:'',-1:'',0:'',\\\n",
    "                              1:'',2:'',3:'',4:'',5:'',6:''}\n",
    "p.legend.location='top_left'\n",
    "p.xaxis.axis_label='bad substances to limit --- good nutrients to include'\n",
    "p.title='Nutrient composition of each cereal'\n",
    "show(p)"
   ]
  },
  {
   "cell_type": "markdown",
   "id": "1cc9cca0",
   "metadata": {},
   "source": [
    "**Recommended Cereals**  Shredded Wheat spoon size, Shredded Wheat'n'Bran, Shredded Wheat, Puffed Wheat, and Puffed Rice.  These cereals have no sugar, sodium, or fat, (bad things the guidelines recommend against), but do have some protein and potassium, which are good nutrients. \n",
    "\n",
    "The above plot shows the nutrient composition of each cereal, sorted by sugar and sodium levels.  Grid lines indicate multiples of the indicated amount (70mg of potassium, 140mg of potassium, etc..)."
   ]
  },
  {
   "cell_type": "code",
   "execution_count": 9,
   "id": "4d8142c0",
   "metadata": {},
   "outputs": [],
   "source": [
    "def rank_values(df,col):\n",
    "    counts=dict(Counter(df[col]))\n",
    "    ranked=[]\n",
    "    for x in df[col]:\n",
    "        ranked+=[counts.get(x)]\n",
    "        counts[x]+=-1\n",
    "    df['ranked']=ranked\n",
    "    return df"
   ]
  },
  {
   "cell_type": "code",
   "execution_count": 10,
   "id": "178c1e0b",
   "metadata": {},
   "outputs": [],
   "source": [
    "labels={'protein':'protein (g)', 'potass':'potassium (70mg)', 'fat':'fat (g)', 'sugars':'sugars (x4g)',\\\n",
    "       'vitamins':'vitamins', 'sodium':'sodium (80mg)'}"
   ]
  },
  {
   "cell_type": "code",
   "execution_count": 11,
   "id": "7518a99a",
   "metadata": {},
   "outputs": [],
   "source": [
    "colors={True: 'hotpink', False: 'lightgray'}\n",
    "p={}\n",
    "dfs={}\n",
    "\n",
    "def plot_dist_nutrients(nutrient):\n",
    "    p=figure(height=250, width=200, x_range=(-1,7), toolbar_location=None)\n",
    "    df=rank_values(sorted_cereals,nutrient)\n",
    "    p.circle(x=df[nutrient],y=df['ranked'],\\\n",
    "             color=df['recommended'].apply(lambda x: colors.get(x)), alpha=.5, size=10)\n",
    "    p.xaxis.axis_label=labels.get(nutrient)\n",
    "    \n",
    "    p.xaxis.ticker=[0,1,2,3,4,5,6]\n",
    "    p.yaxis.ticker=[5, 10, 15, 20, 25, 30, 35, 40]\n",
    "    p.yaxis.axis_label='number of cereals'\n",
    "    p.title='# cereals by '+nutrient\n",
    "    return p"
   ]
  },
  {
   "cell_type": "code",
   "execution_count": 12,
   "id": "fb787a2e",
   "metadata": {},
   "outputs": [
    {
     "data": {
      "text/html": [
       "\n",
       "\n",
       "\n",
       "\n",
       "\n",
       "\n",
       "  <div class=\"bk-root\" id=\"9b34f220-d33c-47aa-8dfe-9bdd22e0ab34\" data-root-id=\"1207\"></div>\n"
      ]
     },
     "metadata": {},
     "output_type": "display_data"
    },
    {
     "data": {
      "application/javascript": [
       "(function(root) {\n",
       "  function embed_document(root) {\n",
       "    \n",
       "  const docs_json = {\"cba9c28c-5eaa-497f-b5fa-d7ee246693fa\":{\"defs\":[],\"roots\":{\"references\":[{\"attributes\":{\"below\":[{\"id\":\"1216\"}],\"center\":[{\"id\":\"1219\"},{\"id\":\"1223\"}],\"height\":250,\"left\":[{\"id\":\"1220\"}],\"renderers\":[{\"id\":\"1242\"}],\"title\":{\"id\":\"1248\"},\"toolbar\":{\"id\":\"1231\"},\"toolbar_location\":null,\"width\":200,\"x_range\":{\"id\":\"1208\"},\"x_scale\":{\"id\":\"1212\"},\"y_range\":{\"id\":\"1210\"},\"y_scale\":{\"id\":\"1214\"}},\"id\":\"1207\",\"subtype\":\"Figure\",\"type\":\"Plot\"},{\"attributes\":{\"axis_label\":\"fat (g)\",\"coordinates\":null,\"formatter\":{\"id\":\"1262\"},\"group\":null,\"major_label_policy\":{\"id\":\"1263\"},\"ticker\":{\"id\":\"1244\"}},\"id\":\"1216\",\"type\":\"LinearAxis\"},{\"attributes\":{\"ticks\":[5,10,15,20,25,30,35,40]},\"id\":\"1246\",\"type\":\"FixedTicker\"},{\"attributes\":{},\"id\":\"1264\",\"type\":\"UnionRenderers\"},{\"attributes\":{\"bottom_units\":\"screen\",\"coordinates\":null,\"fill_alpha\":0.5,\"fill_color\":\"lightgrey\",\"group\":null,\"left_units\":\"screen\",\"level\":\"overlay\",\"line_alpha\":1.0,\"line_color\":\"black\",\"line_dash\":[4,4],\"line_width\":2,\"right_units\":\"screen\",\"syncable\":false,\"top_units\":\"screen\"},\"id\":\"1230\",\"type\":\"BoxAnnotation\"},{\"attributes\":{\"coordinates\":null,\"data_source\":{\"id\":\"1238\"},\"glyph\":{\"id\":\"1239\"},\"group\":null,\"hover_glyph\":null,\"muted_glyph\":{\"id\":\"1241\"},\"nonselection_glyph\":{\"id\":\"1240\"},\"view\":{\"id\":\"1243\"}},\"id\":\"1242\",\"type\":\"GlyphRenderer\"},{\"attributes\":{},\"id\":\"1262\",\"type\":\"BasicTickFormatter\"},{\"attributes\":{},\"id\":\"1225\",\"type\":\"WheelZoomTool\"},{\"attributes\":{},\"id\":\"1260\",\"type\":\"BasicTickFormatter\"},{\"attributes\":{},\"id\":\"1224\",\"type\":\"PanTool\"},{\"attributes\":{\"end\":7,\"start\":-1},\"id\":\"1208\",\"type\":\"Range1d\"},{\"attributes\":{\"axis_label\":\"number of cereals\",\"coordinates\":null,\"formatter\":{\"id\":\"1260\"},\"group\":null,\"major_label_policy\":{\"id\":\"1261\"},\"ticker\":{\"id\":\"1246\"}},\"id\":\"1220\",\"type\":\"LinearAxis\"},{\"attributes\":{\"coordinates\":null,\"group\":null,\"text\":\"# cereals by fat\"},\"id\":\"1248\",\"type\":\"Title\"},{\"attributes\":{},\"id\":\"1265\",\"type\":\"Selection\"},{\"attributes\":{},\"id\":\"1210\",\"type\":\"DataRange1d\"},{\"attributes\":{},\"id\":\"1228\",\"type\":\"ResetTool\"},{\"attributes\":{\"ticks\":[0,1,2,3,4,5,6]},\"id\":\"1244\",\"type\":\"FixedTicker\"},{\"attributes\":{\"axis\":{\"id\":\"1216\"},\"coordinates\":null,\"group\":null,\"ticker\":null},\"id\":\"1219\",\"type\":\"Grid\"},{\"attributes\":{\"fill_alpha\":{\"value\":0.2},\"fill_color\":{\"field\":\"fill_color\"},\"hatch_alpha\":{\"value\":0.2},\"hatch_color\":{\"field\":\"hatch_color\"},\"line_alpha\":{\"value\":0.2},\"line_color\":{\"field\":\"line_color\"},\"size\":{\"value\":10},\"x\":{\"field\":\"x\"},\"y\":{\"field\":\"y\"}},\"id\":\"1241\",\"type\":\"Circle\"},{\"attributes\":{},\"id\":\"1227\",\"type\":\"SaveTool\"},{\"attributes\":{},\"id\":\"1229\",\"type\":\"HelpTool\"},{\"attributes\":{\"source\":{\"id\":\"1238\"}},\"id\":\"1243\",\"type\":\"CDSView\"},{\"attributes\":{},\"id\":\"1212\",\"type\":\"LinearScale\"},{\"attributes\":{\"overlay\":{\"id\":\"1230\"}},\"id\":\"1226\",\"type\":\"BoxZoomTool\"},{\"attributes\":{},\"id\":\"1263\",\"type\":\"AllLabels\"},{\"attributes\":{\"data\":{\"fill_color\":[\"hotpink\",\"hotpink\",\"hotpink\",\"hotpink\",\"hotpink\",\"hotpink\",\"lightgray\",\"lightgray\",\"lightgray\",\"lightgray\",\"lightgray\",\"lightgray\",\"lightgray\",\"lightgray\",\"lightgray\",\"lightgray\",\"lightgray\",\"lightgray\",\"lightgray\",\"lightgray\",\"lightgray\",\"lightgray\",\"lightgray\",\"lightgray\",\"lightgray\",\"lightgray\",\"lightgray\",\"lightgray\",\"lightgray\",\"lightgray\",\"lightgray\",\"lightgray\",\"lightgray\",\"lightgray\",\"lightgray\",\"lightgray\",\"lightgray\",\"lightgray\",\"lightgray\",\"lightgray\",\"lightgray\",\"lightgray\",\"lightgray\",\"lightgray\",\"lightgray\",\"lightgray\",\"lightgray\",\"lightgray\",\"lightgray\",\"lightgray\",\"lightgray\",\"lightgray\",\"lightgray\",\"lightgray\",\"lightgray\",\"lightgray\",\"lightgray\",\"lightgray\",\"lightgray\",\"lightgray\",\"lightgray\",\"lightgray\",\"lightgray\",\"lightgray\",\"lightgray\",\"lightgray\",\"lightgray\",\"lightgray\",\"lightgray\",\"lightgray\",\"lightgray\",\"lightgray\",\"lightgray\",\"lightgray\"],\"hatch_color\":[\"hotpink\",\"hotpink\",\"hotpink\",\"hotpink\",\"hotpink\",\"hotpink\",\"lightgray\",\"lightgray\",\"lightgray\",\"lightgray\",\"lightgray\",\"lightgray\",\"lightgray\",\"lightgray\",\"lightgray\",\"lightgray\",\"lightgray\",\"lightgray\",\"lightgray\",\"lightgray\",\"lightgray\",\"lightgray\",\"lightgray\",\"lightgray\",\"lightgray\",\"lightgray\",\"lightgray\",\"lightgray\",\"lightgray\",\"lightgray\",\"lightgray\",\"lightgray\",\"lightgray\",\"lightgray\",\"lightgray\",\"lightgray\",\"lightgray\",\"lightgray\",\"lightgray\",\"lightgray\",\"lightgray\",\"lightgray\",\"lightgray\",\"lightgray\",\"lightgray\",\"lightgray\",\"lightgray\",\"lightgray\",\"lightgray\",\"lightgray\",\"lightgray\",\"lightgray\",\"lightgray\",\"lightgray\",\"lightgray\",\"lightgray\",\"lightgray\",\"lightgray\",\"lightgray\",\"lightgray\",\"lightgray\",\"lightgray\",\"lightgray\",\"lightgray\",\"lightgray\",\"lightgray\",\"lightgray\",\"lightgray\",\"lightgray\",\"lightgray\",\"lightgray\",\"lightgray\",\"lightgray\",\"lightgray\"],\"line_color\":[\"hotpink\",\"hotpink\",\"hotpink\",\"hotpink\",\"hotpink\",\"hotpink\",\"lightgray\",\"lightgray\",\"lightgray\",\"lightgray\",\"lightgray\",\"lightgray\",\"lightgray\",\"lightgray\",\"lightgray\",\"lightgray\",\"lightgray\",\"lightgray\",\"lightgray\",\"lightgray\",\"lightgray\",\"lightgray\",\"lightgray\",\"lightgray\",\"lightgray\",\"lightgray\",\"lightgray\",\"lightgray\",\"lightgray\",\"lightgray\",\"lightgray\",\"lightgray\",\"lightgray\",\"lightgray\",\"lightgray\",\"lightgray\",\"lightgray\",\"lightgray\",\"lightgray\",\"lightgray\",\"lightgray\",\"lightgray\",\"lightgray\",\"lightgray\",\"lightgray\",\"lightgray\",\"lightgray\",\"lightgray\",\"lightgray\",\"lightgray\",\"lightgray\",\"lightgray\",\"lightgray\",\"lightgray\",\"lightgray\",\"lightgray\",\"lightgray\",\"lightgray\",\"lightgray\",\"lightgray\",\"lightgray\",\"lightgray\",\"lightgray\",\"lightgray\",\"lightgray\",\"lightgray\",\"lightgray\",\"lightgray\",\"lightgray\",\"lightgray\",\"lightgray\",\"lightgray\",\"lightgray\",\"lightgray\"],\"x\":{\"__ndarray__\":\"AAAAAAAAAAAAAAAAAAAAAAAAAAAAAAAAAAAAAAAAAAAAAAAAAAAAAAAAAAAAAAAAAAAAAAAAAEAAAAAAAAAAAAAAAAAAAAAAAAAAAAAAAAAAAAAAAADwPwAAAAAAAAAAAAAAAAAA8D8AAAAAAADwPwAAAAAAAPA/AAAAAAAAAAAAAAAAAAAAAAAAAAAAAPA/AAAAAAAA8D8AAAAAAADwPwAAAAAAAAAAAAAAAAAAAAAAAAAAAAAAAAAAAAAAAAhAAAAAAAAAAAAAAAAAAADwPwAAAAAAAAAAAAAAAAAAAAAAAAAAAADwPwAAAAAAAAAAAAAAAAAA8D8AAAAAAADwPwAAAAAAAABAAAAAAAAA8D8AAAAAAADwPwAAAAAAAPA/AAAAAAAAAAAAAAAAAAAAQAAAAAAAAAhAAAAAAAAAAEAAAAAAAAAUQAAAAAAAAABAAAAAAAAA8D8AAAAAAAAAQAAAAAAAAPA/AAAAAAAA8D8AAAAAAAAIQAAAAAAAAPA/AAAAAAAA8D8AAAAAAAAAQAAAAAAAAABAAAAAAAAAAEAAAAAAAADwPwAAAAAAAAhAAAAAAAAACEAAAAAAAAAAAAAAAAAAAAAAAAAAAAAAAEAAAAAAAAAAAAAAAAAAAPA/AAAAAAAA8D8AAAAAAADwPwAAAAAAAPA/AAAAAAAAAEAAAAAAAAAAAAAAAAAAAPA/AAAAAAAAAEAAAAAAAADwPwAAAAAAAPA/AAAAAAAAAAAAAAAAAADwPwAAAAAAAPA/AAAAAAAAAAAAAAAAAADwPw==\",\"dtype\":\"float64\",\"order\":\"little\",\"shape\":[74]},\"y\":[26,25,24,23,22,21,12,20,19,18,30,17,29,28,27,16,15,26,25,24,14,13,12,5,11,23,10,9,22,8,21,20,11,19,18,17,7,10,4,9,1,8,16,7,15,14,3,13,12,6,5,4,11,2,1,6,5,3,4,10,9,8,7,2,3,6,1,5,4,2,3,2,1,1]},\"selected\":{\"id\":\"1265\"},\"selection_policy\":{\"id\":\"1264\"}},\"id\":\"1238\",\"type\":\"ColumnDataSource\"},{\"attributes\":{},\"id\":\"1261\",\"type\":\"AllLabels\"},{\"attributes\":{\"axis\":{\"id\":\"1220\"},\"coordinates\":null,\"dimension\":1,\"group\":null,\"ticker\":null},\"id\":\"1223\",\"type\":\"Grid\"},{\"attributes\":{},\"id\":\"1214\",\"type\":\"LinearScale\"},{\"attributes\":{\"tools\":[{\"id\":\"1224\"},{\"id\":\"1225\"},{\"id\":\"1226\"},{\"id\":\"1227\"},{\"id\":\"1228\"},{\"id\":\"1229\"}]},\"id\":\"1231\",\"type\":\"Toolbar\"},{\"attributes\":{\"fill_alpha\":{\"value\":0.1},\"fill_color\":{\"field\":\"fill_color\"},\"hatch_alpha\":{\"value\":0.1},\"hatch_color\":{\"field\":\"hatch_color\"},\"line_alpha\":{\"value\":0.1},\"line_color\":{\"field\":\"line_color\"},\"size\":{\"value\":10},\"x\":{\"field\":\"x\"},\"y\":{\"field\":\"y\"}},\"id\":\"1240\",\"type\":\"Circle\"},{\"attributes\":{\"fill_alpha\":{\"value\":0.5},\"fill_color\":{\"field\":\"fill_color\"},\"hatch_alpha\":{\"value\":0.5},\"hatch_color\":{\"field\":\"hatch_color\"},\"line_alpha\":{\"value\":0.5},\"line_color\":{\"field\":\"line_color\"},\"size\":{\"value\":10},\"x\":{\"field\":\"x\"},\"y\":{\"field\":\"y\"}},\"id\":\"1239\",\"type\":\"Circle\"}],\"root_ids\":[\"1207\"]},\"title\":\"Bokeh Application\",\"version\":\"2.4.0\"}};\n",
       "  const render_items = [{\"docid\":\"cba9c28c-5eaa-497f-b5fa-d7ee246693fa\",\"root_ids\":[\"1207\"],\"roots\":{\"1207\":\"9b34f220-d33c-47aa-8dfe-9bdd22e0ab34\"}}];\n",
       "  root.Bokeh.embed.embed_items_notebook(docs_json, render_items);\n",
       "\n",
       "  }\n",
       "  if (root.Bokeh !== undefined) {\n",
       "    embed_document(root);\n",
       "  } else {\n",
       "    let attempts = 0;\n",
       "    const timer = setInterval(function(root) {\n",
       "      if (root.Bokeh !== undefined) {\n",
       "        clearInterval(timer);\n",
       "        embed_document(root);\n",
       "      } else {\n",
       "        attempts++;\n",
       "        if (attempts > 100) {\n",
       "          clearInterval(timer);\n",
       "          console.log(\"Bokeh: ERROR: Unable to run BokehJS code because BokehJS library is missing\");\n",
       "        }\n",
       "      }\n",
       "    }, 10, root)\n",
       "  }\n",
       "})(window);"
      ],
      "application/vnd.bokehjs_exec.v0+json": ""
     },
     "metadata": {
      "application/vnd.bokehjs_exec.v0+json": {
       "id": "1207"
      }
     },
     "output_type": "display_data"
    }
   ],
   "source": [
    "show(plot_dist_nutrients('fat'))"
   ]
  },
  {
   "cell_type": "markdown",
   "id": "35cacbc9",
   "metadata": {},
   "source": [
    "The recommended cereals don't have any fat.  All of the recommended cereals are shown (in pink) within the distribution of cereal's fat."
   ]
  },
  {
   "cell_type": "code",
   "execution_count": 13,
   "id": "ee965c84",
   "metadata": {},
   "outputs": [
    {
     "data": {
      "text/html": [
       "\n",
       "\n",
       "\n",
       "\n",
       "\n",
       "\n",
       "  <div class=\"bk-root\" id=\"2b7a3e64-e376-461c-ae77-14115826b40d\" data-root-id=\"1307\"></div>\n"
      ]
     },
     "metadata": {},
     "output_type": "display_data"
    },
    {
     "data": {
      "application/javascript": [
       "(function(root) {\n",
       "  function embed_document(root) {\n",
       "    \n",
       "  const docs_json = {\"b306660c-dc39-4562-9611-aac1c22bfdde\":{\"defs\":[],\"roots\":{\"references\":[{\"attributes\":{\"below\":[{\"id\":\"1316\"}],\"center\":[{\"id\":\"1319\"},{\"id\":\"1323\"}],\"height\":250,\"left\":[{\"id\":\"1320\"}],\"renderers\":[{\"id\":\"1342\"}],\"title\":{\"id\":\"1348\"},\"toolbar\":{\"id\":\"1331\"},\"toolbar_location\":null,\"width\":200,\"x_range\":{\"id\":\"1308\"},\"x_scale\":{\"id\":\"1312\"},\"y_range\":{\"id\":\"1310\"},\"y_scale\":{\"id\":\"1314\"}},\"id\":\"1307\",\"subtype\":\"Figure\",\"type\":\"Plot\"},{\"attributes\":{},\"id\":\"1329\",\"type\":\"HelpTool\"},{\"attributes\":{},\"id\":\"1373\",\"type\":\"Selection\"},{\"attributes\":{\"end\":7,\"start\":-1},\"id\":\"1308\",\"type\":\"Range1d\"},{\"attributes\":{},\"id\":\"1368\",\"type\":\"BasicTickFormatter\"},{\"attributes\":{\"fill_alpha\":{\"value\":0.1},\"fill_color\":{\"field\":\"fill_color\"},\"hatch_alpha\":{\"value\":0.1},\"hatch_color\":{\"field\":\"hatch_color\"},\"line_alpha\":{\"value\":0.1},\"line_color\":{\"field\":\"line_color\"},\"size\":{\"value\":10},\"x\":{\"field\":\"x\"},\"y\":{\"field\":\"y\"}},\"id\":\"1340\",\"type\":\"Circle\"},{\"attributes\":{\"overlay\":{\"id\":\"1330\"}},\"id\":\"1326\",\"type\":\"BoxZoomTool\"},{\"attributes\":{\"ticks\":[0,1,2,3,4,5,6]},\"id\":\"1344\",\"type\":\"FixedTicker\"},{\"attributes\":{\"tools\":[{\"id\":\"1324\"},{\"id\":\"1325\"},{\"id\":\"1326\"},{\"id\":\"1327\"},{\"id\":\"1328\"},{\"id\":\"1329\"}]},\"id\":\"1331\",\"type\":\"Toolbar\"},{\"attributes\":{\"fill_alpha\":{\"value\":0.5},\"fill_color\":{\"field\":\"fill_color\"},\"hatch_alpha\":{\"value\":0.5},\"hatch_color\":{\"field\":\"hatch_color\"},\"line_alpha\":{\"value\":0.5},\"line_color\":{\"field\":\"line_color\"},\"size\":{\"value\":10},\"x\":{\"field\":\"x\"},\"y\":{\"field\":\"y\"}},\"id\":\"1339\",\"type\":\"Circle\"},{\"attributes\":{},\"id\":\"1372\",\"type\":\"UnionRenderers\"},{\"attributes\":{},\"id\":\"1324\",\"type\":\"PanTool\"},{\"attributes\":{},\"id\":\"1370\",\"type\":\"BasicTickFormatter\"},{\"attributes\":{},\"id\":\"1328\",\"type\":\"ResetTool\"},{\"attributes\":{\"fill_alpha\":{\"value\":0.2},\"fill_color\":{\"field\":\"fill_color\"},\"hatch_alpha\":{\"value\":0.2},\"hatch_color\":{\"field\":\"hatch_color\"},\"line_alpha\":{\"value\":0.2},\"line_color\":{\"field\":\"line_color\"},\"size\":{\"value\":10},\"x\":{\"field\":\"x\"},\"y\":{\"field\":\"y\"}},\"id\":\"1341\",\"type\":\"Circle\"},{\"attributes\":{},\"id\":\"1371\",\"type\":\"AllLabels\"},{\"attributes\":{},\"id\":\"1312\",\"type\":\"LinearScale\"},{\"attributes\":{},\"id\":\"1310\",\"type\":\"DataRange1d\"},{\"attributes\":{\"coordinates\":null,\"data_source\":{\"id\":\"1338\"},\"glyph\":{\"id\":\"1339\"},\"group\":null,\"hover_glyph\":null,\"muted_glyph\":{\"id\":\"1341\"},\"nonselection_glyph\":{\"id\":\"1340\"},\"view\":{\"id\":\"1343\"}},\"id\":\"1342\",\"type\":\"GlyphRenderer\"},{\"attributes\":{\"data\":{\"fill_color\":[\"hotpink\",\"hotpink\",\"hotpink\",\"hotpink\",\"hotpink\",\"hotpink\",\"lightgray\",\"lightgray\",\"lightgray\",\"lightgray\",\"lightgray\",\"lightgray\",\"lightgray\",\"lightgray\",\"lightgray\",\"lightgray\",\"lightgray\",\"lightgray\",\"lightgray\",\"lightgray\",\"lightgray\",\"lightgray\",\"lightgray\",\"lightgray\",\"lightgray\",\"lightgray\",\"lightgray\",\"lightgray\",\"lightgray\",\"lightgray\",\"lightgray\",\"lightgray\",\"lightgray\",\"lightgray\",\"lightgray\",\"lightgray\",\"lightgray\",\"lightgray\",\"lightgray\",\"lightgray\",\"lightgray\",\"lightgray\",\"lightgray\",\"lightgray\",\"lightgray\",\"lightgray\",\"lightgray\",\"lightgray\",\"lightgray\",\"lightgray\",\"lightgray\",\"lightgray\",\"lightgray\",\"lightgray\",\"lightgray\",\"lightgray\",\"lightgray\",\"lightgray\",\"lightgray\",\"lightgray\",\"lightgray\",\"lightgray\",\"lightgray\",\"lightgray\",\"lightgray\",\"lightgray\",\"lightgray\",\"lightgray\",\"lightgray\",\"lightgray\",\"lightgray\",\"lightgray\",\"lightgray\",\"lightgray\"],\"hatch_color\":[\"hotpink\",\"hotpink\",\"hotpink\",\"hotpink\",\"hotpink\",\"hotpink\",\"lightgray\",\"lightgray\",\"lightgray\",\"lightgray\",\"lightgray\",\"lightgray\",\"lightgray\",\"lightgray\",\"lightgray\",\"lightgray\",\"lightgray\",\"lightgray\",\"lightgray\",\"lightgray\",\"lightgray\",\"lightgray\",\"lightgray\",\"lightgray\",\"lightgray\",\"lightgray\",\"lightgray\",\"lightgray\",\"lightgray\",\"lightgray\",\"lightgray\",\"lightgray\",\"lightgray\",\"lightgray\",\"lightgray\",\"lightgray\",\"lightgray\",\"lightgray\",\"lightgray\",\"lightgray\",\"lightgray\",\"lightgray\",\"lightgray\",\"lightgray\",\"lightgray\",\"lightgray\",\"lightgray\",\"lightgray\",\"lightgray\",\"lightgray\",\"lightgray\",\"lightgray\",\"lightgray\",\"lightgray\",\"lightgray\",\"lightgray\",\"lightgray\",\"lightgray\",\"lightgray\",\"lightgray\",\"lightgray\",\"lightgray\",\"lightgray\",\"lightgray\",\"lightgray\",\"lightgray\",\"lightgray\",\"lightgray\",\"lightgray\",\"lightgray\",\"lightgray\",\"lightgray\",\"lightgray\",\"lightgray\"],\"line_color\":[\"hotpink\",\"hotpink\",\"hotpink\",\"hotpink\",\"hotpink\",\"hotpink\",\"lightgray\",\"lightgray\",\"lightgray\",\"lightgray\",\"lightgray\",\"lightgray\",\"lightgray\",\"lightgray\",\"lightgray\",\"lightgray\",\"lightgray\",\"lightgray\",\"lightgray\",\"lightgray\",\"lightgray\",\"lightgray\",\"lightgray\",\"lightgray\",\"lightgray\",\"lightgray\",\"lightgray\",\"lightgray\",\"lightgray\",\"lightgray\",\"lightgray\",\"lightgray\",\"lightgray\",\"lightgray\",\"lightgray\",\"lightgray\",\"lightgray\",\"lightgray\",\"lightgray\",\"lightgray\",\"lightgray\",\"lightgray\",\"lightgray\",\"lightgray\",\"lightgray\",\"lightgray\",\"lightgray\",\"lightgray\",\"lightgray\",\"lightgray\",\"lightgray\",\"lightgray\",\"lightgray\",\"lightgray\",\"lightgray\",\"lightgray\",\"lightgray\",\"lightgray\",\"lightgray\",\"lightgray\",\"lightgray\",\"lightgray\",\"lightgray\",\"lightgray\",\"lightgray\",\"lightgray\",\"lightgray\",\"lightgray\",\"lightgray\",\"lightgray\",\"lightgray\",\"lightgray\",\"lightgray\",\"lightgray\"],\"x\":{\"__ndarray__\":\"AAAAAAAAAAAAAAAAAAAAAAAAAAAAAAAAAAAAAAAAAAAAAAAAAAAAAAAAAAAAAAAAAAAAAAAA0D8AAAAAAADgPwAAAAAAAOA/AAAAAAAA4D8AAAAAAADoPwAAAAAAAOg/AAAAAAAA6D8AAAAAAADoPwAAAAAAAOg/AAAAAAAA6D8AAAAAAADoPwAAAAAAAOg/AAAAAAAA6D8AAAAAAADoPwAAAAAAAOg/AAAAAAAA6D8AAAAAAADoPwAAAAAAAPA/AAAAAAAA9D8AAAAAAAD0PwAAAAAAAPQ/AAAAAAAA9D8AAAAAAAD0PwAAAAAAAPg/AAAAAAAA+D8AAAAAAAD4PwAAAAAAAPg/AAAAAAAA+D8AAAAAAAD4PwAAAAAAAPg/AAAAAAAA/D8AAAAAAAD8PwAAAAAAAPw/AAAAAAAA/D8AAAAAAAAAQAAAAAAAAABAAAAAAAAAAEAAAAAAAAAAQAAAAAAAAAJAAAAAAAAAAkAAAAAAAAACQAAAAAAAAAJAAAAAAAAABEAAAAAAAAAEQAAAAAAAAARAAAAAAAAABEAAAAAAAAAEQAAAAAAAAAZAAAAAAAAABkAAAAAAAAAGQAAAAAAAAAZAAAAAAAAABkAAAAAAAAAIQAAAAAAAAAhAAAAAAAAACEAAAAAAAAAIQAAAAAAAAAhAAAAAAAAACEAAAAAAAAAIQAAAAAAAAApAAAAAAAAACkAAAAAAAAAKQAAAAAAAAApAAAAAAAAADEAAAAAAAAAMQAAAAAAAAAxAAAAAAAAADkAAAAAAAAAOQA==\",\"dtype\":\"float64\",\"order\":\"little\",\"shape\":[74]},\"y\":[6,5,4,3,2,1,1,3,2,1,13,12,11,10,9,8,7,6,5,4,3,2,1,1,5,4,3,2,1,7,6,5,4,3,2,1,4,3,2,1,4,3,2,1,4,3,2,1,5,4,3,2,1,5,4,3,2,1,7,6,5,4,3,2,1,4,3,2,1,3,2,1,2,1]},\"selected\":{\"id\":\"1373\"},\"selection_policy\":{\"id\":\"1372\"}},\"id\":\"1338\",\"type\":\"ColumnDataSource\"},{\"attributes\":{\"coordinates\":null,\"group\":null,\"text\":\"# cereals by sugars\"},\"id\":\"1348\",\"type\":\"Title\"},{\"attributes\":{},\"id\":\"1369\",\"type\":\"AllLabels\"},{\"attributes\":{},\"id\":\"1325\",\"type\":\"WheelZoomTool\"},{\"attributes\":{},\"id\":\"1327\",\"type\":\"SaveTool\"},{\"attributes\":{\"axis_label\":\"number of cereals\",\"coordinates\":null,\"formatter\":{\"id\":\"1368\"},\"group\":null,\"major_label_policy\":{\"id\":\"1369\"},\"ticker\":{\"id\":\"1346\"}},\"id\":\"1320\",\"type\":\"LinearAxis\"},{\"attributes\":{\"axis\":{\"id\":\"1320\"},\"coordinates\":null,\"dimension\":1,\"group\":null,\"ticker\":null},\"id\":\"1323\",\"type\":\"Grid\"},{\"attributes\":{\"axis\":{\"id\":\"1316\"},\"coordinates\":null,\"group\":null,\"ticker\":null},\"id\":\"1319\",\"type\":\"Grid\"},{\"attributes\":{\"ticks\":[5,10,15,20,25,30,35,40]},\"id\":\"1346\",\"type\":\"FixedTicker\"},{\"attributes\":{\"source\":{\"id\":\"1338\"}},\"id\":\"1343\",\"type\":\"CDSView\"},{\"attributes\":{\"axis_label\":\"sugars (x4g)\",\"coordinates\":null,\"formatter\":{\"id\":\"1370\"},\"group\":null,\"major_label_policy\":{\"id\":\"1371\"},\"ticker\":{\"id\":\"1344\"}},\"id\":\"1316\",\"type\":\"LinearAxis\"},{\"attributes\":{},\"id\":\"1314\",\"type\":\"LinearScale\"},{\"attributes\":{\"bottom_units\":\"screen\",\"coordinates\":null,\"fill_alpha\":0.5,\"fill_color\":\"lightgrey\",\"group\":null,\"left_units\":\"screen\",\"level\":\"overlay\",\"line_alpha\":1.0,\"line_color\":\"black\",\"line_dash\":[4,4],\"line_width\":2,\"right_units\":\"screen\",\"syncable\":false,\"top_units\":\"screen\"},\"id\":\"1330\",\"type\":\"BoxAnnotation\"}],\"root_ids\":[\"1307\"]},\"title\":\"Bokeh Application\",\"version\":\"2.4.0\"}};\n",
       "  const render_items = [{\"docid\":\"b306660c-dc39-4562-9611-aac1c22bfdde\",\"root_ids\":[\"1307\"],\"roots\":{\"1307\":\"2b7a3e64-e376-461c-ae77-14115826b40d\"}}];\n",
       "  root.Bokeh.embed.embed_items_notebook(docs_json, render_items);\n",
       "\n",
       "  }\n",
       "  if (root.Bokeh !== undefined) {\n",
       "    embed_document(root);\n",
       "  } else {\n",
       "    let attempts = 0;\n",
       "    const timer = setInterval(function(root) {\n",
       "      if (root.Bokeh !== undefined) {\n",
       "        clearInterval(timer);\n",
       "        embed_document(root);\n",
       "      } else {\n",
       "        attempts++;\n",
       "        if (attempts > 100) {\n",
       "          clearInterval(timer);\n",
       "          console.log(\"Bokeh: ERROR: Unable to run BokehJS code because BokehJS library is missing\");\n",
       "        }\n",
       "      }\n",
       "    }, 10, root)\n",
       "  }\n",
       "})(window);"
      ],
      "application/vnd.bokehjs_exec.v0+json": ""
     },
     "metadata": {
      "application/vnd.bokehjs_exec.v0+json": {
       "id": "1307"
      }
     },
     "output_type": "display_data"
    }
   ],
   "source": [
    "p=plot_dist_nutrients('sugars')\n",
    "show(p)"
   ]
  },
  {
   "cell_type": "markdown",
   "id": "a1c38032",
   "metadata": {},
   "source": [
    "The recommended cereals don't have any sugar. In contrast, the other cereals have 4-16g of sugar/serving."
   ]
  },
  {
   "cell_type": "code",
   "execution_count": 14,
   "id": "4c50dbf7",
   "metadata": {},
   "outputs": [
    {
     "data": {
      "text/html": [
       "\n",
       "\n",
       "\n",
       "\n",
       "\n",
       "\n",
       "  <div class=\"bk-root\" id=\"40bd16f9-3f3e-4afb-bab6-9ccc2a1b58db\" data-root-id=\"1415\"></div>\n"
      ]
     },
     "metadata": {},
     "output_type": "display_data"
    },
    {
     "data": {
      "application/javascript": [
       "(function(root) {\n",
       "  function embed_document(root) {\n",
       "    \n",
       "  const docs_json = {\"dffa527b-9029-4634-814a-bd4887af4a25\":{\"defs\":[],\"roots\":{\"references\":[{\"attributes\":{\"below\":[{\"id\":\"1424\"}],\"center\":[{\"id\":\"1427\"},{\"id\":\"1431\"}],\"height\":250,\"left\":[{\"id\":\"1428\"}],\"renderers\":[{\"id\":\"1450\"}],\"title\":{\"id\":\"1456\"},\"toolbar\":{\"id\":\"1439\"},\"toolbar_location\":null,\"width\":200,\"x_range\":{\"id\":\"1416\"},\"x_scale\":{\"id\":\"1420\"},\"y_range\":{\"id\":\"1418\"},\"y_scale\":{\"id\":\"1422\"}},\"id\":\"1415\",\"subtype\":\"Figure\",\"type\":\"Plot\"},{\"attributes\":{\"coordinates\":null,\"group\":null,\"text\":\"# cereals by sodium\"},\"id\":\"1456\",\"type\":\"Title\"},{\"attributes\":{\"axis_label\":\"number of cereals\",\"coordinates\":null,\"formatter\":{\"id\":\"1484\"},\"group\":null,\"major_label_policy\":{\"id\":\"1485\"},\"ticker\":{\"id\":\"1454\"}},\"id\":\"1428\",\"type\":\"LinearAxis\"},{\"attributes\":{\"end\":7,\"start\":-1},\"id\":\"1416\",\"type\":\"Range1d\"},{\"attributes\":{\"axis_label\":\"sodium (80mg)\",\"coordinates\":null,\"formatter\":{\"id\":\"1486\"},\"group\":null,\"major_label_policy\":{\"id\":\"1487\"},\"ticker\":{\"id\":\"1452\"}},\"id\":\"1424\",\"type\":\"LinearAxis\"},{\"attributes\":{\"axis\":{\"id\":\"1424\"},\"coordinates\":null,\"group\":null,\"ticker\":null},\"id\":\"1427\",\"type\":\"Grid\"},{\"attributes\":{},\"id\":\"1484\",\"type\":\"BasicTickFormatter\"},{\"attributes\":{\"fill_alpha\":{\"value\":0.1},\"fill_color\":{\"field\":\"fill_color\"},\"hatch_alpha\":{\"value\":0.1},\"hatch_color\":{\"field\":\"hatch_color\"},\"line_alpha\":{\"value\":0.1},\"line_color\":{\"field\":\"line_color\"},\"size\":{\"value\":10},\"x\":{\"field\":\"x\"},\"y\":{\"field\":\"y\"}},\"id\":\"1448\",\"type\":\"Circle\"},{\"attributes\":{},\"id\":\"1489\",\"type\":\"Selection\"},{\"attributes\":{},\"id\":\"1488\",\"type\":\"UnionRenderers\"},{\"attributes\":{\"ticks\":[5,10,15,20,25,30,35,40]},\"id\":\"1454\",\"type\":\"FixedTicker\"},{\"attributes\":{},\"id\":\"1422\",\"type\":\"LinearScale\"},{\"attributes\":{\"overlay\":{\"id\":\"1438\"}},\"id\":\"1434\",\"type\":\"BoxZoomTool\"},{\"attributes\":{\"axis\":{\"id\":\"1428\"},\"coordinates\":null,\"dimension\":1,\"group\":null,\"ticker\":null},\"id\":\"1431\",\"type\":\"Grid\"},{\"attributes\":{\"data\":{\"fill_color\":[\"hotpink\",\"hotpink\",\"hotpink\",\"hotpink\",\"hotpink\",\"hotpink\",\"lightgray\",\"lightgray\",\"lightgray\",\"lightgray\",\"lightgray\",\"lightgray\",\"lightgray\",\"lightgray\",\"lightgray\",\"lightgray\",\"lightgray\",\"lightgray\",\"lightgray\",\"lightgray\",\"lightgray\",\"lightgray\",\"lightgray\",\"lightgray\",\"lightgray\",\"lightgray\",\"lightgray\",\"lightgray\",\"lightgray\",\"lightgray\",\"lightgray\",\"lightgray\",\"lightgray\",\"lightgray\",\"lightgray\",\"lightgray\",\"lightgray\",\"lightgray\",\"lightgray\",\"lightgray\",\"lightgray\",\"lightgray\",\"lightgray\",\"lightgray\",\"lightgray\",\"lightgray\",\"lightgray\",\"lightgray\",\"lightgray\",\"lightgray\",\"lightgray\",\"lightgray\",\"lightgray\",\"lightgray\",\"lightgray\",\"lightgray\",\"lightgray\",\"lightgray\",\"lightgray\",\"lightgray\",\"lightgray\",\"lightgray\",\"lightgray\",\"lightgray\",\"lightgray\",\"lightgray\",\"lightgray\",\"lightgray\",\"lightgray\",\"lightgray\",\"lightgray\",\"lightgray\",\"lightgray\",\"lightgray\"],\"hatch_color\":[\"hotpink\",\"hotpink\",\"hotpink\",\"hotpink\",\"hotpink\",\"hotpink\",\"lightgray\",\"lightgray\",\"lightgray\",\"lightgray\",\"lightgray\",\"lightgray\",\"lightgray\",\"lightgray\",\"lightgray\",\"lightgray\",\"lightgray\",\"lightgray\",\"lightgray\",\"lightgray\",\"lightgray\",\"lightgray\",\"lightgray\",\"lightgray\",\"lightgray\",\"lightgray\",\"lightgray\",\"lightgray\",\"lightgray\",\"lightgray\",\"lightgray\",\"lightgray\",\"lightgray\",\"lightgray\",\"lightgray\",\"lightgray\",\"lightgray\",\"lightgray\",\"lightgray\",\"lightgray\",\"lightgray\",\"lightgray\",\"lightgray\",\"lightgray\",\"lightgray\",\"lightgray\",\"lightgray\",\"lightgray\",\"lightgray\",\"lightgray\",\"lightgray\",\"lightgray\",\"lightgray\",\"lightgray\",\"lightgray\",\"lightgray\",\"lightgray\",\"lightgray\",\"lightgray\",\"lightgray\",\"lightgray\",\"lightgray\",\"lightgray\",\"lightgray\",\"lightgray\",\"lightgray\",\"lightgray\",\"lightgray\",\"lightgray\",\"lightgray\",\"lightgray\",\"lightgray\",\"lightgray\",\"lightgray\"],\"line_color\":[\"hotpink\",\"hotpink\",\"hotpink\",\"hotpink\",\"hotpink\",\"hotpink\",\"lightgray\",\"lightgray\",\"lightgray\",\"lightgray\",\"lightgray\",\"lightgray\",\"lightgray\",\"lightgray\",\"lightgray\",\"lightgray\",\"lightgray\",\"lightgray\",\"lightgray\",\"lightgray\",\"lightgray\",\"lightgray\",\"lightgray\",\"lightgray\",\"lightgray\",\"lightgray\",\"lightgray\",\"lightgray\",\"lightgray\",\"lightgray\",\"lightgray\",\"lightgray\",\"lightgray\",\"lightgray\",\"lightgray\",\"lightgray\",\"lightgray\",\"lightgray\",\"lightgray\",\"lightgray\",\"lightgray\",\"lightgray\",\"lightgray\",\"lightgray\",\"lightgray\",\"lightgray\",\"lightgray\",\"lightgray\",\"lightgray\",\"lightgray\",\"lightgray\",\"lightgray\",\"lightgray\",\"lightgray\",\"lightgray\",\"lightgray\",\"lightgray\",\"lightgray\",\"lightgray\",\"lightgray\",\"lightgray\",\"lightgray\",\"lightgray\",\"lightgray\",\"lightgray\",\"lightgray\",\"lightgray\",\"lightgray\",\"lightgray\",\"lightgray\",\"lightgray\",\"lightgray\",\"lightgray\",\"lightgray\"],\"x\":{\"__ndarray__\":\"AAAAAAAAAAAAAAAAAAAAAAAAAAAAAAAAAAAAAAAAAAAAAAAAAAAAAAAAAAAAAPw/AAAAAAAADUAAAAAAAAABQAAAAAAAAAhAAAAAAAAADUAAAAAAAAAAAAAAAAAAAAFAAAAAAAAABEAAAAAAAAAEQAAAAAAAAARAAAAAAAAABkAAAAAAAAAHQAAAAAAAAAdAAAAAAAAACUAAAAAAAAAKQAAAAAAAAAxAAAAAAAAADUAAAAAAAAAQQAAAAAAAAO4/AAAAAAAAyD8AAAAAAAD8PwAAAAAAAANAAAAAAAAABUAAAAAAAAAKQAAAAAAAAAAAAAAAAAAA+j8AAAAAAAD7PwAAAAAAAP4/AAAAAAAAAUAAAAAAAAAEQAAAAAAAAAZAAAAAAAAAAAAAAAAAAAD8PwAAAAAAAPw/AAAAAAAABkAAAAAAAADIPwAAAAAAAPw/AAAAAAAABEAAAAAAAAAFQAAAAAAAAAFAAAAAAAAAA0AAAAAAAAAFQAAAAAAAAAxAAAAAAAAA/D8AAAAAAAAAQAAAAAAAAAFAAAAAAAAAAkAAAAAAAAAJQAAAAAAAAPM/AAAAAAAA/j8AAAAAAAACQAAAAAAAAARAAAAAAAAABkAAAAAAAADyPwAAAAAAAPs/AAAAAAAA/D8AAAAAAAACQAAAAAAAAAVAAAAAAAAABkAAAAAAAAAIQAAAAAAAAPk/AAAAAAAA/j8AAAAAAAACQAAAAAAAAAJAAAAAAAAA+T8AAAAAAAADQAAAAAAAAARAAAAAAAAA4j8AAAAAAADsPw==\",\"dtype\":\"float64\",\"order\":\"little\",\"shape\":[74]},\"y\":[8,7,6,5,4,7,3,5,2,2,3,4,7,6,5,5,2,1,2,2,2,1,1,1,2,6,3,4,1,2,1,2,3,3,4,4,1,5,4,3,1,3,3,3,2,2,2,1,2,1,1,5,1,1,2,4,2,2,1,1,1,3,1,1,1,2,1,2,1,1,1,1,1,1]},\"selected\":{\"id\":\"1489\"},\"selection_policy\":{\"id\":\"1488\"}},\"id\":\"1446\",\"type\":\"ColumnDataSource\"},{\"attributes\":{},\"id\":\"1485\",\"type\":\"AllLabels\"},{\"attributes\":{},\"id\":\"1432\",\"type\":\"PanTool\"},{\"attributes\":{\"ticks\":[0,1,2,3,4,5,6]},\"id\":\"1452\",\"type\":\"FixedTicker\"},{\"attributes\":{\"source\":{\"id\":\"1446\"}},\"id\":\"1451\",\"type\":\"CDSView\"},{\"attributes\":{\"coordinates\":null,\"data_source\":{\"id\":\"1446\"},\"glyph\":{\"id\":\"1447\"},\"group\":null,\"hover_glyph\":null,\"muted_glyph\":{\"id\":\"1449\"},\"nonselection_glyph\":{\"id\":\"1448\"},\"view\":{\"id\":\"1451\"}},\"id\":\"1450\",\"type\":\"GlyphRenderer\"},{\"attributes\":{\"fill_alpha\":{\"value\":0.2},\"fill_color\":{\"field\":\"fill_color\"},\"hatch_alpha\":{\"value\":0.2},\"hatch_color\":{\"field\":\"hatch_color\"},\"line_alpha\":{\"value\":0.2},\"line_color\":{\"field\":\"line_color\"},\"size\":{\"value\":10},\"x\":{\"field\":\"x\"},\"y\":{\"field\":\"y\"}},\"id\":\"1449\",\"type\":\"Circle\"},{\"attributes\":{},\"id\":\"1486\",\"type\":\"BasicTickFormatter\"},{\"attributes\":{\"bottom_units\":\"screen\",\"coordinates\":null,\"fill_alpha\":0.5,\"fill_color\":\"lightgrey\",\"group\":null,\"left_units\":\"screen\",\"level\":\"overlay\",\"line_alpha\":1.0,\"line_color\":\"black\",\"line_dash\":[4,4],\"line_width\":2,\"right_units\":\"screen\",\"syncable\":false,\"top_units\":\"screen\"},\"id\":\"1438\",\"type\":\"BoxAnnotation\"},{\"attributes\":{\"fill_alpha\":{\"value\":0.5},\"fill_color\":{\"field\":\"fill_color\"},\"hatch_alpha\":{\"value\":0.5},\"hatch_color\":{\"field\":\"hatch_color\"},\"line_alpha\":{\"value\":0.5},\"line_color\":{\"field\":\"line_color\"},\"size\":{\"value\":10},\"x\":{\"field\":\"x\"},\"y\":{\"field\":\"y\"}},\"id\":\"1447\",\"type\":\"Circle\"},{\"attributes\":{},\"id\":\"1433\",\"type\":\"WheelZoomTool\"},{\"attributes\":{},\"id\":\"1436\",\"type\":\"ResetTool\"},{\"attributes\":{},\"id\":\"1487\",\"type\":\"AllLabels\"},{\"attributes\":{},\"id\":\"1420\",\"type\":\"LinearScale\"},{\"attributes\":{},\"id\":\"1418\",\"type\":\"DataRange1d\"},{\"attributes\":{},\"id\":\"1435\",\"type\":\"SaveTool\"},{\"attributes\":{\"tools\":[{\"id\":\"1432\"},{\"id\":\"1433\"},{\"id\":\"1434\"},{\"id\":\"1435\"},{\"id\":\"1436\"},{\"id\":\"1437\"}]},\"id\":\"1439\",\"type\":\"Toolbar\"},{\"attributes\":{},\"id\":\"1437\",\"type\":\"HelpTool\"}],\"root_ids\":[\"1415\"]},\"title\":\"Bokeh Application\",\"version\":\"2.4.0\"}};\n",
       "  const render_items = [{\"docid\":\"dffa527b-9029-4634-814a-bd4887af4a25\",\"root_ids\":[\"1415\"],\"roots\":{\"1415\":\"40bd16f9-3f3e-4afb-bab6-9ccc2a1b58db\"}}];\n",
       "  root.Bokeh.embed.embed_items_notebook(docs_json, render_items);\n",
       "\n",
       "  }\n",
       "  if (root.Bokeh !== undefined) {\n",
       "    embed_document(root);\n",
       "  } else {\n",
       "    let attempts = 0;\n",
       "    const timer = setInterval(function(root) {\n",
       "      if (root.Bokeh !== undefined) {\n",
       "        clearInterval(timer);\n",
       "        embed_document(root);\n",
       "      } else {\n",
       "        attempts++;\n",
       "        if (attempts > 100) {\n",
       "          clearInterval(timer);\n",
       "          console.log(\"Bokeh: ERROR: Unable to run BokehJS code because BokehJS library is missing\");\n",
       "        }\n",
       "      }\n",
       "    }, 10, root)\n",
       "  }\n",
       "})(window);"
      ],
      "application/vnd.bokehjs_exec.v0+json": ""
     },
     "metadata": {
      "application/vnd.bokehjs_exec.v0+json": {
       "id": "1415"
      }
     },
     "output_type": "display_data"
    }
   ],
   "source": [
    "p=plot_dist_nutrients('sodium')\n",
    "show(p)"
   ]
  },
  {
   "cell_type": "markdown",
   "id": "879d5c13",
   "metadata": {},
   "source": [
    "The recommended cereals have very little sodium.  Much less sodium than the other cereals."
   ]
  },
  {
   "cell_type": "code",
   "execution_count": 15,
   "id": "b6275f0f",
   "metadata": {},
   "outputs": [
    {
     "data": {
      "text/html": [
       "\n",
       "\n",
       "\n",
       "\n",
       "\n",
       "\n",
       "  <div class=\"bk-root\" id=\"2261c010-3eb5-40fc-a742-4a23445e54dd\" data-root-id=\"1531\"></div>\n"
      ]
     },
     "metadata": {},
     "output_type": "display_data"
    },
    {
     "data": {
      "application/javascript": [
       "(function(root) {\n",
       "  function embed_document(root) {\n",
       "    \n",
       "  const docs_json = {\"63b529fd-341c-491b-a750-df5e4a5f3022\":{\"defs\":[],\"roots\":{\"references\":[{\"attributes\":{\"below\":[{\"id\":\"1540\"}],\"center\":[{\"id\":\"1543\"},{\"id\":\"1547\"}],\"height\":250,\"left\":[{\"id\":\"1544\"}],\"renderers\":[{\"id\":\"1566\"}],\"title\":{\"id\":\"1572\"},\"toolbar\":{\"id\":\"1555\"},\"toolbar_location\":null,\"width\":200,\"x_range\":{\"id\":\"1532\"},\"x_scale\":{\"id\":\"1536\"},\"y_range\":{\"id\":\"1534\"},\"y_scale\":{\"id\":\"1538\"}},\"id\":\"1531\",\"subtype\":\"Figure\",\"type\":\"Plot\"},{\"attributes\":{},\"id\":\"1534\",\"type\":\"DataRange1d\"},{\"attributes\":{},\"id\":\"1553\",\"type\":\"HelpTool\"},{\"attributes\":{},\"id\":\"1549\",\"type\":\"WheelZoomTool\"},{\"attributes\":{\"overlay\":{\"id\":\"1554\"}},\"id\":\"1550\",\"type\":\"BoxZoomTool\"},{\"attributes\":{},\"id\":\"1612\",\"type\":\"UnionRenderers\"},{\"attributes\":{\"axis\":{\"id\":\"1540\"},\"coordinates\":null,\"group\":null,\"ticker\":null},\"id\":\"1543\",\"type\":\"Grid\"},{\"attributes\":{\"fill_alpha\":{\"value\":0.1},\"fill_color\":{\"field\":\"fill_color\"},\"hatch_alpha\":{\"value\":0.1},\"hatch_color\":{\"field\":\"hatch_color\"},\"line_alpha\":{\"value\":0.1},\"line_color\":{\"field\":\"line_color\"},\"size\":{\"value\":10},\"x\":{\"field\":\"x\"},\"y\":{\"field\":\"y\"}},\"id\":\"1564\",\"type\":\"Circle\"},{\"attributes\":{\"axis\":{\"id\":\"1544\"},\"coordinates\":null,\"dimension\":1,\"group\":null,\"ticker\":null},\"id\":\"1547\",\"type\":\"Grid\"},{\"attributes\":{\"axis_label\":\"number of cereals\",\"coordinates\":null,\"formatter\":{\"id\":\"1608\"},\"group\":null,\"major_label_policy\":{\"id\":\"1609\"},\"ticker\":{\"id\":\"1570\"}},\"id\":\"1544\",\"type\":\"LinearAxis\"},{\"attributes\":{},\"id\":\"1609\",\"type\":\"AllLabels\"},{\"attributes\":{},\"id\":\"1611\",\"type\":\"AllLabels\"},{\"attributes\":{},\"id\":\"1552\",\"type\":\"ResetTool\"},{\"attributes\":{\"end\":7,\"start\":-1},\"id\":\"1532\",\"type\":\"Range1d\"},{\"attributes\":{},\"id\":\"1551\",\"type\":\"SaveTool\"},{\"attributes\":{},\"id\":\"1538\",\"type\":\"LinearScale\"},{\"attributes\":{\"ticks\":[0,1,2,3,4,5,6]},\"id\":\"1568\",\"type\":\"FixedTicker\"},{\"attributes\":{\"source\":{\"id\":\"1562\"}},\"id\":\"1567\",\"type\":\"CDSView\"},{\"attributes\":{\"ticks\":[5,10,15,20,25,30,35,40]},\"id\":\"1570\",\"type\":\"FixedTicker\"},{\"attributes\":{},\"id\":\"1610\",\"type\":\"BasicTickFormatter\"},{\"attributes\":{\"coordinates\":null,\"group\":null,\"text\":\"# cereals by protein\"},\"id\":\"1572\",\"type\":\"Title\"},{\"attributes\":{\"data\":{\"fill_color\":[\"hotpink\",\"hotpink\",\"hotpink\",\"hotpink\",\"hotpink\",\"hotpink\",\"lightgray\",\"lightgray\",\"lightgray\",\"lightgray\",\"lightgray\",\"lightgray\",\"lightgray\",\"lightgray\",\"lightgray\",\"lightgray\",\"lightgray\",\"lightgray\",\"lightgray\",\"lightgray\",\"lightgray\",\"lightgray\",\"lightgray\",\"lightgray\",\"lightgray\",\"lightgray\",\"lightgray\",\"lightgray\",\"lightgray\",\"lightgray\",\"lightgray\",\"lightgray\",\"lightgray\",\"lightgray\",\"lightgray\",\"lightgray\",\"lightgray\",\"lightgray\",\"lightgray\",\"lightgray\",\"lightgray\",\"lightgray\",\"lightgray\",\"lightgray\",\"lightgray\",\"lightgray\",\"lightgray\",\"lightgray\",\"lightgray\",\"lightgray\",\"lightgray\",\"lightgray\",\"lightgray\",\"lightgray\",\"lightgray\",\"lightgray\",\"lightgray\",\"lightgray\",\"lightgray\",\"lightgray\",\"lightgray\",\"lightgray\",\"lightgray\",\"lightgray\",\"lightgray\",\"lightgray\",\"lightgray\",\"lightgray\",\"lightgray\",\"lightgray\",\"lightgray\",\"lightgray\",\"lightgray\",\"lightgray\"],\"hatch_color\":[\"hotpink\",\"hotpink\",\"hotpink\",\"hotpink\",\"hotpink\",\"hotpink\",\"lightgray\",\"lightgray\",\"lightgray\",\"lightgray\",\"lightgray\",\"lightgray\",\"lightgray\",\"lightgray\",\"lightgray\",\"lightgray\",\"lightgray\",\"lightgray\",\"lightgray\",\"lightgray\",\"lightgray\",\"lightgray\",\"lightgray\",\"lightgray\",\"lightgray\",\"lightgray\",\"lightgray\",\"lightgray\",\"lightgray\",\"lightgray\",\"lightgray\",\"lightgray\",\"lightgray\",\"lightgray\",\"lightgray\",\"lightgray\",\"lightgray\",\"lightgray\",\"lightgray\",\"lightgray\",\"lightgray\",\"lightgray\",\"lightgray\",\"lightgray\",\"lightgray\",\"lightgray\",\"lightgray\",\"lightgray\",\"lightgray\",\"lightgray\",\"lightgray\",\"lightgray\",\"lightgray\",\"lightgray\",\"lightgray\",\"lightgray\",\"lightgray\",\"lightgray\",\"lightgray\",\"lightgray\",\"lightgray\",\"lightgray\",\"lightgray\",\"lightgray\",\"lightgray\",\"lightgray\",\"lightgray\",\"lightgray\",\"lightgray\",\"lightgray\",\"lightgray\",\"lightgray\",\"lightgray\",\"lightgray\"],\"line_color\":[\"hotpink\",\"hotpink\",\"hotpink\",\"hotpink\",\"hotpink\",\"hotpink\",\"lightgray\",\"lightgray\",\"lightgray\",\"lightgray\",\"lightgray\",\"lightgray\",\"lightgray\",\"lightgray\",\"lightgray\",\"lightgray\",\"lightgray\",\"lightgray\",\"lightgray\",\"lightgray\",\"lightgray\",\"lightgray\",\"lightgray\",\"lightgray\",\"lightgray\",\"lightgray\",\"lightgray\",\"lightgray\",\"lightgray\",\"lightgray\",\"lightgray\",\"lightgray\",\"lightgray\",\"lightgray\",\"lightgray\",\"lightgray\",\"lightgray\",\"lightgray\",\"lightgray\",\"lightgray\",\"lightgray\",\"lightgray\",\"lightgray\",\"lightgray\",\"lightgray\",\"lightgray\",\"lightgray\",\"lightgray\",\"lightgray\",\"lightgray\",\"lightgray\",\"lightgray\",\"lightgray\",\"lightgray\",\"lightgray\",\"lightgray\",\"lightgray\",\"lightgray\",\"lightgray\",\"lightgray\",\"lightgray\",\"lightgray\",\"lightgray\",\"lightgray\",\"lightgray\",\"lightgray\",\"lightgray\",\"lightgray\",\"lightgray\",\"lightgray\",\"lightgray\",\"lightgray\",\"lightgray\",\"lightgray\"],\"x\":{\"__ndarray__\":\"AAAAAAAA8D8AAAAAAAAAQAAAAAAAAABAAAAAAAAACEAAAAAAAAAIQAAAAAAAABBAAAAAAAAAGEAAAAAAAAAIQAAAAAAAAPA/AAAAAAAAAEAAAAAAAAAQQAAAAAAAAAhAAAAAAAAAAEAAAAAAAAAIQAAAAAAAAAhAAAAAAAAAAEAAAAAAAAAYQAAAAAAAAAhAAAAAAAAAAEAAAAAAAAAAQAAAAAAAAABAAAAAAAAAAEAAAAAAAAAIQAAAAAAAAAhAAAAAAAAAAEAAAAAAAAAIQAAAAAAAAABAAAAAAAAACEAAAAAAAAAQQAAAAAAAAABAAAAAAAAAEEAAAAAAAAAQQAAAAAAAABBAAAAAAAAAAEAAAAAAAAAAQAAAAAAAAABAAAAAAAAACEAAAAAAAAAIQAAAAAAAAAhAAAAAAAAACEAAAAAAAAAIQAAAAAAAAAhAAAAAAAAAAEAAAAAAAAAIQAAAAAAAAAhAAAAAAAAAAEAAAAAAAADwPwAAAAAAAPA/AAAAAAAAAEAAAAAAAAAIQAAAAAAAAAhAAAAAAAAAAEAAAAAAAAAIQAAAAAAAABBAAAAAAAAAEEAAAAAAAADwPwAAAAAAAPA/AAAAAAAA8D8AAAAAAADwPwAAAAAAAPA/AAAAAAAA8D8AAAAAAAAAQAAAAAAAAAhAAAAAAAAA8D8AAAAAAAAIQAAAAAAAAABAAAAAAAAACEAAAAAAAADwPwAAAAAAAPA/AAAAAAAAAEAAAAAAAAAIQAAAAAAAAAhAAAAAAAAAAEAAAAAAAAAAQA==\",\"dtype\":\"float64\",\"order\":\"little\",\"shape\":[74]},\"y\":[13,24,23,27,26,8,2,25,12,22,7,24,21,23,22,20,1,21,19,18,17,16,20,19,15,18,14,17,6,13,5,4,3,12,11,10,16,15,14,13,12,11,9,10,9,8,11,10,7,8,7,6,6,2,1,9,8,7,6,5,4,5,5,3,4,4,3,2,1,3,2,1,2,1]},\"selected\":{\"id\":\"1613\"},\"selection_policy\":{\"id\":\"1612\"}},\"id\":\"1562\",\"type\":\"ColumnDataSource\"},{\"attributes\":{\"fill_alpha\":{\"value\":0.2},\"fill_color\":{\"field\":\"fill_color\"},\"hatch_alpha\":{\"value\":0.2},\"hatch_color\":{\"field\":\"hatch_color\"},\"line_alpha\":{\"value\":0.2},\"line_color\":{\"field\":\"line_color\"},\"size\":{\"value\":10},\"x\":{\"field\":\"x\"},\"y\":{\"field\":\"y\"}},\"id\":\"1565\",\"type\":\"Circle\"},{\"attributes\":{},\"id\":\"1536\",\"type\":\"LinearScale\"},{\"attributes\":{},\"id\":\"1608\",\"type\":\"BasicTickFormatter\"},{\"attributes\":{},\"id\":\"1613\",\"type\":\"Selection\"},{\"attributes\":{\"bottom_units\":\"screen\",\"coordinates\":null,\"fill_alpha\":0.5,\"fill_color\":\"lightgrey\",\"group\":null,\"left_units\":\"screen\",\"level\":\"overlay\",\"line_alpha\":1.0,\"line_color\":\"black\",\"line_dash\":[4,4],\"line_width\":2,\"right_units\":\"screen\",\"syncable\":false,\"top_units\":\"screen\"},\"id\":\"1554\",\"type\":\"BoxAnnotation\"},{\"attributes\":{\"axis_label\":\"protein (g)\",\"coordinates\":null,\"formatter\":{\"id\":\"1610\"},\"group\":null,\"major_label_policy\":{\"id\":\"1611\"},\"ticker\":{\"id\":\"1568\"}},\"id\":\"1540\",\"type\":\"LinearAxis\"},{\"attributes\":{\"tools\":[{\"id\":\"1548\"},{\"id\":\"1549\"},{\"id\":\"1550\"},{\"id\":\"1551\"},{\"id\":\"1552\"},{\"id\":\"1553\"}]},\"id\":\"1555\",\"type\":\"Toolbar\"},{\"attributes\":{\"fill_alpha\":{\"value\":0.5},\"fill_color\":{\"field\":\"fill_color\"},\"hatch_alpha\":{\"value\":0.5},\"hatch_color\":{\"field\":\"hatch_color\"},\"line_alpha\":{\"value\":0.5},\"line_color\":{\"field\":\"line_color\"},\"size\":{\"value\":10},\"x\":{\"field\":\"x\"},\"y\":{\"field\":\"y\"}},\"id\":\"1563\",\"type\":\"Circle\"},{\"attributes\":{},\"id\":\"1548\",\"type\":\"PanTool\"},{\"attributes\":{\"coordinates\":null,\"data_source\":{\"id\":\"1562\"},\"glyph\":{\"id\":\"1563\"},\"group\":null,\"hover_glyph\":null,\"muted_glyph\":{\"id\":\"1565\"},\"nonselection_glyph\":{\"id\":\"1564\"},\"view\":{\"id\":\"1567\"}},\"id\":\"1566\",\"type\":\"GlyphRenderer\"}],\"root_ids\":[\"1531\"]},\"title\":\"Bokeh Application\",\"version\":\"2.4.0\"}};\n",
       "  const render_items = [{\"docid\":\"63b529fd-341c-491b-a750-df5e4a5f3022\",\"root_ids\":[\"1531\"],\"roots\":{\"1531\":\"2261c010-3eb5-40fc-a742-4a23445e54dd\"}}];\n",
       "  root.Bokeh.embed.embed_items_notebook(docs_json, render_items);\n",
       "\n",
       "  }\n",
       "  if (root.Bokeh !== undefined) {\n",
       "    embed_document(root);\n",
       "  } else {\n",
       "    let attempts = 0;\n",
       "    const timer = setInterval(function(root) {\n",
       "      if (root.Bokeh !== undefined) {\n",
       "        clearInterval(timer);\n",
       "        embed_document(root);\n",
       "      } else {\n",
       "        attempts++;\n",
       "        if (attempts > 100) {\n",
       "          clearInterval(timer);\n",
       "          console.log(\"Bokeh: ERROR: Unable to run BokehJS code because BokehJS library is missing\");\n",
       "        }\n",
       "      }\n",
       "    }, 10, root)\n",
       "  }\n",
       "})(window);"
      ],
      "application/vnd.bokehjs_exec.v0+json": ""
     },
     "metadata": {
      "application/vnd.bokehjs_exec.v0+json": {
       "id": "1531"
      }
     },
     "output_type": "display_data"
    }
   ],
   "source": [
    "p=plot_dist_nutrients('protein')\n",
    "show(p)"
   ]
  },
  {
   "cell_type": "markdown",
   "id": "bdaee82b",
   "metadata": {},
   "source": [
    "The recommended cereals vary in protein, and can be observed over the entire distributio of protein composition."
   ]
  }
 ],
 "metadata": {
  "kernelspec": {
   "display_name": "Python 3",
   "language": "python",
   "name": "python3"
  },
  "language_info": {
   "codemirror_mode": {
    "name": "ipython",
    "version": 3
   },
   "file_extension": ".py",
   "mimetype": "text/x-python",
   "name": "python",
   "nbconvert_exporter": "python",
   "pygments_lexer": "ipython3",
   "version": "3.7.15"
  }
 },
 "nbformat": 4,
 "nbformat_minor": 5
}
